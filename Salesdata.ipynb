{
 "cells": [
  {
   "cell_type": "markdown",
   "metadata": {},
   "source": [
    "# Libraries"
   ]
  },
  {
   "cell_type": "code",
   "execution_count": 1,
   "metadata": {},
   "outputs": [],
   "source": [
    "import pandas as pd\n",
    "import numpy as np\n",
    "import matplotlib.pyplot as plt\n",
    "import plotly.express as px\n",
    "import seaborn as sns"
   ]
  },
  {
   "cell_type": "markdown",
   "metadata": {},
   "source": [
    "# Reading the file"
   ]
  },
  {
   "cell_type": "code",
   "execution_count": 2,
   "metadata": {},
   "outputs": [
    {
     "data": {
      "text/html": [
       "<div>\n",
       "<style scoped>\n",
       "    .dataframe tbody tr th:only-of-type {\n",
       "        vertical-align: middle;\n",
       "    }\n",
       "\n",
       "    .dataframe tbody tr th {\n",
       "        vertical-align: top;\n",
       "    }\n",
       "\n",
       "    .dataframe thead th {\n",
       "        text-align: right;\n",
       "    }\n",
       "</style>\n",
       "<table border=\"1\" class=\"dataframe\">\n",
       "  <thead>\n",
       "    <tr style=\"text-align: right;\">\n",
       "      <th></th>\n",
       "      <th>product_id</th>\n",
       "      <th>product_name</th>\n",
       "      <th>category</th>\n",
       "      <th>discounted_price</th>\n",
       "      <th>actual_price</th>\n",
       "      <th>discount_percentage</th>\n",
       "      <th>rating</th>\n",
       "      <th>rating_count</th>\n",
       "      <th>about_product</th>\n",
       "      <th>user_id</th>\n",
       "      <th>user_name</th>\n",
       "      <th>review_id</th>\n",
       "      <th>review_title</th>\n",
       "      <th>review_content</th>\n",
       "      <th>img_link</th>\n",
       "      <th>product_link</th>\n",
       "    </tr>\n",
       "  </thead>\n",
       "  <tbody>\n",
       "    <tr>\n",
       "      <th>0</th>\n",
       "      <td>B07JW9H4J1</td>\n",
       "      <td>Wayona Nylon Braided USB to Lightning Fast Cha...</td>\n",
       "      <td>Computers&amp;Accessories|Accessories&amp;Peripherals|...</td>\n",
       "      <td>₹399</td>\n",
       "      <td>₹1,099</td>\n",
       "      <td>64%</td>\n",
       "      <td>4.2</td>\n",
       "      <td>24,269</td>\n",
       "      <td>High Compatibility : Compatible With iPhone 12...</td>\n",
       "      <td>AG3D6O4STAQKAY2UVGEUV46KN35Q,AHMY5CWJMMK5BJRBB...</td>\n",
       "      <td>Manav,Adarsh gupta,Sundeep,S.Sayeed Ahmed,jasp...</td>\n",
       "      <td>R3HXWT0LRP0NMF,R2AJM3LFTLZHFO,R6AQJGUP6P86,R1K...</td>\n",
       "      <td>Satisfied,Charging is really fast,Value for mo...</td>\n",
       "      <td>Looks durable Charging is fine tooNo complains...</td>\n",
       "      <td>https://m.media-amazon.com/images/W/WEBP_40237...</td>\n",
       "      <td>https://www.amazon.in/Wayona-Braided-WN3LG1-Sy...</td>\n",
       "    </tr>\n",
       "    <tr>\n",
       "      <th>1</th>\n",
       "      <td>B098NS6PVG</td>\n",
       "      <td>Ambrane Unbreakable 60W / 3A Fast Charging 1.5...</td>\n",
       "      <td>Computers&amp;Accessories|Accessories&amp;Peripherals|...</td>\n",
       "      <td>₹199</td>\n",
       "      <td>₹349</td>\n",
       "      <td>43%</td>\n",
       "      <td>4.0</td>\n",
       "      <td>43,994</td>\n",
       "      <td>Compatible with all Type C enabled devices, be...</td>\n",
       "      <td>AECPFYFQVRUWC3KGNLJIOREFP5LQ,AGYYVPDD7YG7FYNBX...</td>\n",
       "      <td>ArdKn,Nirbhay kumar,Sagar Viswanathan,Asp,Plac...</td>\n",
       "      <td>RGIQEG07R9HS2,R1SMWZQ86XIN8U,R2J3Y1WL29GWDE,RY...</td>\n",
       "      <td>A Good Braided Cable for Your Type C Device,Go...</td>\n",
       "      <td>I ordered this cable to connect my phone to An...</td>\n",
       "      <td>https://m.media-amazon.com/images/W/WEBP_40237...</td>\n",
       "      <td>https://www.amazon.in/Ambrane-Unbreakable-Char...</td>\n",
       "    </tr>\n",
       "    <tr>\n",
       "      <th>2</th>\n",
       "      <td>B096MSW6CT</td>\n",
       "      <td>Sounce Fast Phone Charging Cable &amp; Data Sync U...</td>\n",
       "      <td>Computers&amp;Accessories|Accessories&amp;Peripherals|...</td>\n",
       "      <td>₹199</td>\n",
       "      <td>₹1,899</td>\n",
       "      <td>90%</td>\n",
       "      <td>3.9</td>\n",
       "      <td>7,928</td>\n",
       "      <td>【 Fast Charger&amp; Data Sync】-With built-in safet...</td>\n",
       "      <td>AGU3BBQ2V2DDAMOAKGFAWDDQ6QHA,AESFLDV2PT363T2AQ...</td>\n",
       "      <td>Kunal,Himanshu,viswanath,sai niharka,saqib mal...</td>\n",
       "      <td>R3J3EQQ9TZI5ZJ,R3E7WBGK7ID0KV,RWU79XKQ6I1QF,R2...</td>\n",
       "      <td>Good speed for earlier versions,Good Product,W...</td>\n",
       "      <td>Not quite durable and sturdy,https://m.media-a...</td>\n",
       "      <td>https://m.media-amazon.com/images/W/WEBP_40237...</td>\n",
       "      <td>https://www.amazon.in/Sounce-iPhone-Charging-C...</td>\n",
       "    </tr>\n",
       "    <tr>\n",
       "      <th>3</th>\n",
       "      <td>B08HDJ86NZ</td>\n",
       "      <td>boAt Deuce USB 300 2 in 1 Type-C &amp; Micro USB S...</td>\n",
       "      <td>Computers&amp;Accessories|Accessories&amp;Peripherals|...</td>\n",
       "      <td>₹329</td>\n",
       "      <td>₹699</td>\n",
       "      <td>53%</td>\n",
       "      <td>4.2</td>\n",
       "      <td>94,363</td>\n",
       "      <td>The boAt Deuce USB 300 2 in 1 cable is compati...</td>\n",
       "      <td>AEWAZDZZJLQUYVOVGBEUKSLXHQ5A,AG5HTSFRRE6NL3M5S...</td>\n",
       "      <td>Omkar dhale,JD,HEMALATHA,Ajwadh a.,amar singh ...</td>\n",
       "      <td>R3EEUZKKK9J36I,R3HJVYCLYOY554,REDECAZ7AMPQC,R1...</td>\n",
       "      <td>Good product,Good one,Nice,Really nice product...</td>\n",
       "      <td>Good product,long wire,Charges good,Nice,I bou...</td>\n",
       "      <td>https://m.media-amazon.com/images/I/41V5FtEWPk...</td>\n",
       "      <td>https://www.amazon.in/Deuce-300-Resistant-Tang...</td>\n",
       "    </tr>\n",
       "    <tr>\n",
       "      <th>4</th>\n",
       "      <td>B08CF3B7N1</td>\n",
       "      <td>Portronics Konnect L 1.2M Fast Charging 3A 8 P...</td>\n",
       "      <td>Computers&amp;Accessories|Accessories&amp;Peripherals|...</td>\n",
       "      <td>₹154</td>\n",
       "      <td>₹399</td>\n",
       "      <td>61%</td>\n",
       "      <td>4.2</td>\n",
       "      <td>16,905</td>\n",
       "      <td>[CHARGE &amp; SYNC FUNCTION]- This cable comes wit...</td>\n",
       "      <td>AE3Q6KSUK5P75D5HFYHCRAOLODSA,AFUGIFH5ZAFXRDSZH...</td>\n",
       "      <td>rahuls6099,Swasat Borah,Ajay Wadke,Pranali,RVK...</td>\n",
       "      <td>R1BP4L2HH9TFUP,R16PVJEXKV6QZS,R2UPDB81N66T4P,R...</td>\n",
       "      <td>As good as original,Decent,Good one for second...</td>\n",
       "      <td>Bought this instead of original apple, does th...</td>\n",
       "      <td>https://m.media-amazon.com/images/W/WEBP_40237...</td>\n",
       "      <td>https://www.amazon.in/Portronics-Konnect-POR-1...</td>\n",
       "    </tr>\n",
       "    <tr>\n",
       "      <th>...</th>\n",
       "      <td>...</td>\n",
       "      <td>...</td>\n",
       "      <td>...</td>\n",
       "      <td>...</td>\n",
       "      <td>...</td>\n",
       "      <td>...</td>\n",
       "      <td>...</td>\n",
       "      <td>...</td>\n",
       "      <td>...</td>\n",
       "      <td>...</td>\n",
       "      <td>...</td>\n",
       "      <td>...</td>\n",
       "      <td>...</td>\n",
       "      <td>...</td>\n",
       "      <td>...</td>\n",
       "      <td>...</td>\n",
       "    </tr>\n",
       "    <tr>\n",
       "      <th>1460</th>\n",
       "      <td>B08L7J3T31</td>\n",
       "      <td>Noir Aqua - 5pcs PP Spun Filter + 1 Spanner | ...</td>\n",
       "      <td>Home&amp;Kitchen|Kitchen&amp;HomeAppliances|WaterPurif...</td>\n",
       "      <td>₹379</td>\n",
       "      <td>₹919</td>\n",
       "      <td>59%</td>\n",
       "      <td>4</td>\n",
       "      <td>1,090</td>\n",
       "      <td>SUPREME QUALITY 90 GRAM 3 LAYER THIK PP SPUN F...</td>\n",
       "      <td>AHITFY6AHALOFOHOZEOC6XBP4FEA,AFRABBODZJZQB6Z4U...</td>\n",
       "      <td>Prabha ds,Raghuram bk,Real Deal,Amazon Custome...</td>\n",
       "      <td>R3G3XFHPBFF0E8,R3C0BZCD32EIGW,R2EBVBCN9QPD9R,R...</td>\n",
       "      <td>Received the product without spanner,Excellent...</td>\n",
       "      <td>I received product without spanner,Excellent p...</td>\n",
       "      <td>https://m.media-amazon.com/images/I/41fDdRtjfx...</td>\n",
       "      <td>https://www.amazon.in/Noir-Aqua-Spanner-Purifi...</td>\n",
       "    </tr>\n",
       "    <tr>\n",
       "      <th>1461</th>\n",
       "      <td>B01M6453MB</td>\n",
       "      <td>Prestige Delight PRWO Electric Rice Cooker (1 ...</td>\n",
       "      <td>Home&amp;Kitchen|Kitchen&amp;HomeAppliances|SmallKitch...</td>\n",
       "      <td>₹2,280</td>\n",
       "      <td>₹3,045</td>\n",
       "      <td>25%</td>\n",
       "      <td>4.1</td>\n",
       "      <td>4,118</td>\n",
       "      <td>230 Volts, 400 watts, 1 Year</td>\n",
       "      <td>AFG5FM3NEMOL6BNFRV2NK5FNJCHQ,AGEINTRN6Z563RMLH...</td>\n",
       "      <td>Manu Bhai,Naveenpittu,Evatira Sangma,JAGANNADH...</td>\n",
       "      <td>R3DDL2UPKQ2CK9,R2SYYU1OATVIU5,R1VM993161IYRW,R...</td>\n",
       "      <td>ok,everything was good couldn't return bcoz I ...</td>\n",
       "      <td>ok,got everything as mentioned but the measuri...</td>\n",
       "      <td>https://m.media-amazon.com/images/I/41gzDxk4+k...</td>\n",
       "      <td>https://www.amazon.in/Prestige-Delight-PRWO-1-...</td>\n",
       "    </tr>\n",
       "    <tr>\n",
       "      <th>1462</th>\n",
       "      <td>B009P2LIL4</td>\n",
       "      <td>Bajaj Majesty RX10 2000 Watts Heat Convector R...</td>\n",
       "      <td>Home&amp;Kitchen|Heating,Cooling&amp;AirQuality|RoomHe...</td>\n",
       "      <td>₹2,219</td>\n",
       "      <td>₹3,080</td>\n",
       "      <td>28%</td>\n",
       "      <td>3.6</td>\n",
       "      <td>468</td>\n",
       "      <td>International design and styling|Two heat sett...</td>\n",
       "      <td>AGVPWCMAHYQWJOQKMUJN4DW3KM5Q,AF4Q3E66MY4SR7YQZ...</td>\n",
       "      <td>Nehal Desai,Danish Parwez,Amazon Customer,Amaz...</td>\n",
       "      <td>R1TLRJVW4STY5I,R2O455KRN493R1,R3Q5MVGBRIAS2G,R...</td>\n",
       "      <td>very good,Work but front melt after 2 month,Go...</td>\n",
       "      <td>plastic but cool body ,u have to find sturdy s...</td>\n",
       "      <td>https://m.media-amazon.com/images/W/WEBP_40237...</td>\n",
       "      <td>https://www.amazon.in/Bajaj-RX-10-2000-Watt-Co...</td>\n",
       "    </tr>\n",
       "    <tr>\n",
       "      <th>1463</th>\n",
       "      <td>B00J5DYCCA</td>\n",
       "      <td>Havells Ventil Air DSP 230mm Exhaust Fan (Pist...</td>\n",
       "      <td>Home&amp;Kitchen|Heating,Cooling&amp;AirQuality|Fans|E...</td>\n",
       "      <td>₹1,399</td>\n",
       "      <td>₹1,890</td>\n",
       "      <td>26%</td>\n",
       "      <td>4</td>\n",
       "      <td>8,031</td>\n",
       "      <td>Fan sweep area: 230 MM ; Noise level: (40 - 45...</td>\n",
       "      <td>AF2JQCLSCY3QJATWUNNHUSVUPNQQ,AFDMLUXC5LS5RXDJS...</td>\n",
       "      <td>Shubham Dubey,E.GURUBARAN,Mayank S.,eusuf khan...</td>\n",
       "      <td>R39Q2Y79MM9SWK,R3079BG1NIH6MB,R29A31ZELTZNJM,R...</td>\n",
       "      <td>Fan Speed is slow,Good quality,Good product,go...</td>\n",
       "      <td>I have installed this in my kitchen working fi...</td>\n",
       "      <td>https://m.media-amazon.com/images/W/WEBP_40237...</td>\n",
       "      <td>https://www.amazon.in/Havells-Ventilair-230mm-...</td>\n",
       "    </tr>\n",
       "    <tr>\n",
       "      <th>1464</th>\n",
       "      <td>B01486F4G6</td>\n",
       "      <td>Borosil Jumbo 1000-Watt Grill Sandwich Maker (...</td>\n",
       "      <td>Home&amp;Kitchen|Kitchen&amp;HomeAppliances|SmallKitch...</td>\n",
       "      <td>₹2,863</td>\n",
       "      <td>₹3,690</td>\n",
       "      <td>22%</td>\n",
       "      <td>4.3</td>\n",
       "      <td>6,987</td>\n",
       "      <td>Brand-Borosil, Specification â€“ 23V ~ 5Hz;1 W...</td>\n",
       "      <td>AFGW5PT3R6ZAVQR4Y5MWVAKBZAYA,AG7QNJ2SCS5VS5VYY...</td>\n",
       "      <td>Rajib,Ajay B,Vikas Kahol,PARDEEP,Anindya Prama...</td>\n",
       "      <td>R20RBRZ0WEUJT9,ROKIFK9R2ISSE,R30EEG2FNJSN5I,R2...</td>\n",
       "      <td>Works perfect,Ok good product,Nice Product. Re...</td>\n",
       "      <td>It does it job perfectly..only issue is temp c...</td>\n",
       "      <td>https://m.media-amazon.com/images/W/WEBP_40237...</td>\n",
       "      <td>https://www.amazon.in/Borosil-Jumbo-1000-Watt-...</td>\n",
       "    </tr>\n",
       "  </tbody>\n",
       "</table>\n",
       "<p>1465 rows × 16 columns</p>\n",
       "</div>"
      ],
      "text/plain": [
       "      product_id                                       product_name  \\\n",
       "0     B07JW9H4J1  Wayona Nylon Braided USB to Lightning Fast Cha...   \n",
       "1     B098NS6PVG  Ambrane Unbreakable 60W / 3A Fast Charging 1.5...   \n",
       "2     B096MSW6CT  Sounce Fast Phone Charging Cable & Data Sync U...   \n",
       "3     B08HDJ86NZ  boAt Deuce USB 300 2 in 1 Type-C & Micro USB S...   \n",
       "4     B08CF3B7N1  Portronics Konnect L 1.2M Fast Charging 3A 8 P...   \n",
       "...          ...                                                ...   \n",
       "1460  B08L7J3T31  Noir Aqua - 5pcs PP Spun Filter + 1 Spanner | ...   \n",
       "1461  B01M6453MB  Prestige Delight PRWO Electric Rice Cooker (1 ...   \n",
       "1462  B009P2LIL4  Bajaj Majesty RX10 2000 Watts Heat Convector R...   \n",
       "1463  B00J5DYCCA  Havells Ventil Air DSP 230mm Exhaust Fan (Pist...   \n",
       "1464  B01486F4G6  Borosil Jumbo 1000-Watt Grill Sandwich Maker (...   \n",
       "\n",
       "                                               category discounted_price  \\\n",
       "0     Computers&Accessories|Accessories&Peripherals|...             ₹399   \n",
       "1     Computers&Accessories|Accessories&Peripherals|...             ₹199   \n",
       "2     Computers&Accessories|Accessories&Peripherals|...             ₹199   \n",
       "3     Computers&Accessories|Accessories&Peripherals|...             ₹329   \n",
       "4     Computers&Accessories|Accessories&Peripherals|...             ₹154   \n",
       "...                                                 ...              ...   \n",
       "1460  Home&Kitchen|Kitchen&HomeAppliances|WaterPurif...             ₹379   \n",
       "1461  Home&Kitchen|Kitchen&HomeAppliances|SmallKitch...           ₹2,280   \n",
       "1462  Home&Kitchen|Heating,Cooling&AirQuality|RoomHe...           ₹2,219   \n",
       "1463  Home&Kitchen|Heating,Cooling&AirQuality|Fans|E...           ₹1,399   \n",
       "1464  Home&Kitchen|Kitchen&HomeAppliances|SmallKitch...           ₹2,863   \n",
       "\n",
       "     actual_price discount_percentage rating rating_count  \\\n",
       "0          ₹1,099                 64%    4.2       24,269   \n",
       "1            ₹349                 43%    4.0       43,994   \n",
       "2          ₹1,899                 90%    3.9        7,928   \n",
       "3            ₹699                 53%    4.2       94,363   \n",
       "4            ₹399                 61%    4.2       16,905   \n",
       "...           ...                 ...    ...          ...   \n",
       "1460         ₹919                 59%      4        1,090   \n",
       "1461       ₹3,045                 25%    4.1        4,118   \n",
       "1462       ₹3,080                 28%    3.6          468   \n",
       "1463       ₹1,890                 26%      4        8,031   \n",
       "1464       ₹3,690                 22%    4.3        6,987   \n",
       "\n",
       "                                          about_product  \\\n",
       "0     High Compatibility : Compatible With iPhone 12...   \n",
       "1     Compatible with all Type C enabled devices, be...   \n",
       "2     【 Fast Charger& Data Sync】-With built-in safet...   \n",
       "3     The boAt Deuce USB 300 2 in 1 cable is compati...   \n",
       "4     [CHARGE & SYNC FUNCTION]- This cable comes wit...   \n",
       "...                                                 ...   \n",
       "1460  SUPREME QUALITY 90 GRAM 3 LAYER THIK PP SPUN F...   \n",
       "1461                       230 Volts, 400 watts, 1 Year   \n",
       "1462  International design and styling|Two heat sett...   \n",
       "1463  Fan sweep area: 230 MM ; Noise level: (40 - 45...   \n",
       "1464  Brand-Borosil, Specification â€“ 23V ~ 5Hz;1 W...   \n",
       "\n",
       "                                                user_id  \\\n",
       "0     AG3D6O4STAQKAY2UVGEUV46KN35Q,AHMY5CWJMMK5BJRBB...   \n",
       "1     AECPFYFQVRUWC3KGNLJIOREFP5LQ,AGYYVPDD7YG7FYNBX...   \n",
       "2     AGU3BBQ2V2DDAMOAKGFAWDDQ6QHA,AESFLDV2PT363T2AQ...   \n",
       "3     AEWAZDZZJLQUYVOVGBEUKSLXHQ5A,AG5HTSFRRE6NL3M5S...   \n",
       "4     AE3Q6KSUK5P75D5HFYHCRAOLODSA,AFUGIFH5ZAFXRDSZH...   \n",
       "...                                                 ...   \n",
       "1460  AHITFY6AHALOFOHOZEOC6XBP4FEA,AFRABBODZJZQB6Z4U...   \n",
       "1461  AFG5FM3NEMOL6BNFRV2NK5FNJCHQ,AGEINTRN6Z563RMLH...   \n",
       "1462  AGVPWCMAHYQWJOQKMUJN4DW3KM5Q,AF4Q3E66MY4SR7YQZ...   \n",
       "1463  AF2JQCLSCY3QJATWUNNHUSVUPNQQ,AFDMLUXC5LS5RXDJS...   \n",
       "1464  AFGW5PT3R6ZAVQR4Y5MWVAKBZAYA,AG7QNJ2SCS5VS5VYY...   \n",
       "\n",
       "                                              user_name  \\\n",
       "0     Manav,Adarsh gupta,Sundeep,S.Sayeed Ahmed,jasp...   \n",
       "1     ArdKn,Nirbhay kumar,Sagar Viswanathan,Asp,Plac...   \n",
       "2     Kunal,Himanshu,viswanath,sai niharka,saqib mal...   \n",
       "3     Omkar dhale,JD,HEMALATHA,Ajwadh a.,amar singh ...   \n",
       "4     rahuls6099,Swasat Borah,Ajay Wadke,Pranali,RVK...   \n",
       "...                                                 ...   \n",
       "1460  Prabha ds,Raghuram bk,Real Deal,Amazon Custome...   \n",
       "1461  Manu Bhai,Naveenpittu,Evatira Sangma,JAGANNADH...   \n",
       "1462  Nehal Desai,Danish Parwez,Amazon Customer,Amaz...   \n",
       "1463  Shubham Dubey,E.GURUBARAN,Mayank S.,eusuf khan...   \n",
       "1464  Rajib,Ajay B,Vikas Kahol,PARDEEP,Anindya Prama...   \n",
       "\n",
       "                                              review_id  \\\n",
       "0     R3HXWT0LRP0NMF,R2AJM3LFTLZHFO,R6AQJGUP6P86,R1K...   \n",
       "1     RGIQEG07R9HS2,R1SMWZQ86XIN8U,R2J3Y1WL29GWDE,RY...   \n",
       "2     R3J3EQQ9TZI5ZJ,R3E7WBGK7ID0KV,RWU79XKQ6I1QF,R2...   \n",
       "3     R3EEUZKKK9J36I,R3HJVYCLYOY554,REDECAZ7AMPQC,R1...   \n",
       "4     R1BP4L2HH9TFUP,R16PVJEXKV6QZS,R2UPDB81N66T4P,R...   \n",
       "...                                                 ...   \n",
       "1460  R3G3XFHPBFF0E8,R3C0BZCD32EIGW,R2EBVBCN9QPD9R,R...   \n",
       "1461  R3DDL2UPKQ2CK9,R2SYYU1OATVIU5,R1VM993161IYRW,R...   \n",
       "1462  R1TLRJVW4STY5I,R2O455KRN493R1,R3Q5MVGBRIAS2G,R...   \n",
       "1463  R39Q2Y79MM9SWK,R3079BG1NIH6MB,R29A31ZELTZNJM,R...   \n",
       "1464  R20RBRZ0WEUJT9,ROKIFK9R2ISSE,R30EEG2FNJSN5I,R2...   \n",
       "\n",
       "                                           review_title  \\\n",
       "0     Satisfied,Charging is really fast,Value for mo...   \n",
       "1     A Good Braided Cable for Your Type C Device,Go...   \n",
       "2     Good speed for earlier versions,Good Product,W...   \n",
       "3     Good product,Good one,Nice,Really nice product...   \n",
       "4     As good as original,Decent,Good one for second...   \n",
       "...                                                 ...   \n",
       "1460  Received the product without spanner,Excellent...   \n",
       "1461  ok,everything was good couldn't return bcoz I ...   \n",
       "1462  very good,Work but front melt after 2 month,Go...   \n",
       "1463  Fan Speed is slow,Good quality,Good product,go...   \n",
       "1464  Works perfect,Ok good product,Nice Product. Re...   \n",
       "\n",
       "                                         review_content  \\\n",
       "0     Looks durable Charging is fine tooNo complains...   \n",
       "1     I ordered this cable to connect my phone to An...   \n",
       "2     Not quite durable and sturdy,https://m.media-a...   \n",
       "3     Good product,long wire,Charges good,Nice,I bou...   \n",
       "4     Bought this instead of original apple, does th...   \n",
       "...                                                 ...   \n",
       "1460  I received product without spanner,Excellent p...   \n",
       "1461  ok,got everything as mentioned but the measuri...   \n",
       "1462  plastic but cool body ,u have to find sturdy s...   \n",
       "1463  I have installed this in my kitchen working fi...   \n",
       "1464  It does it job perfectly..only issue is temp c...   \n",
       "\n",
       "                                               img_link  \\\n",
       "0     https://m.media-amazon.com/images/W/WEBP_40237...   \n",
       "1     https://m.media-amazon.com/images/W/WEBP_40237...   \n",
       "2     https://m.media-amazon.com/images/W/WEBP_40237...   \n",
       "3     https://m.media-amazon.com/images/I/41V5FtEWPk...   \n",
       "4     https://m.media-amazon.com/images/W/WEBP_40237...   \n",
       "...                                                 ...   \n",
       "1460  https://m.media-amazon.com/images/I/41fDdRtjfx...   \n",
       "1461  https://m.media-amazon.com/images/I/41gzDxk4+k...   \n",
       "1462  https://m.media-amazon.com/images/W/WEBP_40237...   \n",
       "1463  https://m.media-amazon.com/images/W/WEBP_40237...   \n",
       "1464  https://m.media-amazon.com/images/W/WEBP_40237...   \n",
       "\n",
       "                                           product_link  \n",
       "0     https://www.amazon.in/Wayona-Braided-WN3LG1-Sy...  \n",
       "1     https://www.amazon.in/Ambrane-Unbreakable-Char...  \n",
       "2     https://www.amazon.in/Sounce-iPhone-Charging-C...  \n",
       "3     https://www.amazon.in/Deuce-300-Resistant-Tang...  \n",
       "4     https://www.amazon.in/Portronics-Konnect-POR-1...  \n",
       "...                                                 ...  \n",
       "1460  https://www.amazon.in/Noir-Aqua-Spanner-Purifi...  \n",
       "1461  https://www.amazon.in/Prestige-Delight-PRWO-1-...  \n",
       "1462  https://www.amazon.in/Bajaj-RX-10-2000-Watt-Co...  \n",
       "1463  https://www.amazon.in/Havells-Ventilair-230mm-...  \n",
       "1464  https://www.amazon.in/Borosil-Jumbo-1000-Watt-...  \n",
       "\n",
       "[1465 rows x 16 columns]"
      ]
     },
     "execution_count": 2,
     "metadata": {},
     "output_type": "execute_result"
    }
   ],
   "source": [
    "df = pd.read_csv(\"amazon.csv\")\n",
    "df"
   ]
  },
  {
   "cell_type": "code",
   "execution_count": 3,
   "metadata": {},
   "outputs": [
    {
     "data": {
      "text/plain": [
       "Index(['product_id', 'product_name', 'category', 'discounted_price',\n",
       "       'actual_price', 'discount_percentage', 'rating', 'rating_count',\n",
       "       'about_product', 'user_id', 'user_name', 'review_id', 'review_title',\n",
       "       'review_content', 'img_link', 'product_link'],\n",
       "      dtype='object')"
      ]
     },
     "execution_count": 3,
     "metadata": {},
     "output_type": "execute_result"
    }
   ],
   "source": [
    "df.columns"
   ]
  },
  {
   "cell_type": "code",
   "execution_count": 4,
   "metadata": {},
   "outputs": [
    {
     "name": "stdout",
     "output_type": "stream",
     "text": [
      "The Number of Rows are 1465, and columns are 16.\n"
     ]
    }
   ],
   "source": [
    "print(f\"The Number of Rows are {df.shape[0]}, and columns are {df.shape[1]}.\")"
   ]
  },
  {
   "cell_type": "markdown",
   "metadata": {},
   "source": [
    "# Cleansing the Data"
   ]
  },
  {
   "cell_type": "code",
   "execution_count": 5,
   "metadata": {},
   "outputs": [
    {
     "name": "stdout",
     "output_type": "stream",
     "text": [
      "<class 'pandas.core.frame.DataFrame'>\n",
      "RangeIndex: 1465 entries, 0 to 1464\n",
      "Data columns (total 16 columns):\n",
      " #   Column               Non-Null Count  Dtype \n",
      "---  ------               --------------  ----- \n",
      " 0   product_id           1465 non-null   object\n",
      " 1   product_name         1465 non-null   object\n",
      " 2   category             1465 non-null   object\n",
      " 3   discounted_price     1465 non-null   object\n",
      " 4   actual_price         1465 non-null   object\n",
      " 5   discount_percentage  1465 non-null   object\n",
      " 6   rating               1465 non-null   object\n",
      " 7   rating_count         1463 non-null   object\n",
      " 8   about_product        1465 non-null   object\n",
      " 9   user_id              1465 non-null   object\n",
      " 10  user_name            1465 non-null   object\n",
      " 11  review_id            1465 non-null   object\n",
      " 12  review_title         1465 non-null   object\n",
      " 13  review_content       1465 non-null   object\n",
      " 14  img_link             1465 non-null   object\n",
      " 15  product_link         1465 non-null   object\n",
      "dtypes: object(16)\n",
      "memory usage: 183.3+ KB\n"
     ]
    }
   ],
   "source": [
    "df.info()"
   ]
  },
  {
   "cell_type": "code",
   "execution_count": 6,
   "metadata": {},
   "outputs": [
    {
     "data": {
      "text/plain": [
       "product_id             0\n",
       "product_name           0\n",
       "category               0\n",
       "discounted_price       0\n",
       "actual_price           0\n",
       "discount_percentage    0\n",
       "rating                 0\n",
       "rating_count           2\n",
       "about_product          0\n",
       "user_id                0\n",
       "user_name              0\n",
       "review_id              0\n",
       "review_title           0\n",
       "review_content         0\n",
       "img_link               0\n",
       "product_link           0\n",
       "dtype: int64"
      ]
     },
     "execution_count": 6,
     "metadata": {},
     "output_type": "execute_result"
    }
   ],
   "source": [
    "df.isna().sum()"
   ]
  },
  {
   "cell_type": "code",
   "execution_count": 7,
   "metadata": {},
   "outputs": [],
   "source": [
    "df['discounted_price'] = df['discounted_price'].str.replace(\"₹\",'')\n",
    "df['discounted_price'] = df['discounted_price'].str.replace(\",\",'')\n",
    "df['discounted_price'] = df['discounted_price'].astype('float64')\n",
    "df['actual_price'] = df['actual_price'].str.replace(\"₹\",'')\n",
    "df['actual_price'] = df['actual_price'].str.replace(\",\",'')\n",
    "df['actual_price'] = df['actual_price'].astype('float64')"
   ]
  },
  {
   "cell_type": "code",
   "execution_count": 8,
   "metadata": {},
   "outputs": [],
   "source": [
    "# Changing Datatype and values in Discount Percentage\n",
    "df['discount_percentage'] = df['discount_percentage'].str.replace('%','').astype('float64')\n",
    "df['discount_percentage'] = df['discount_percentage'] / 100"
   ]
  },
  {
   "cell_type": "code",
   "execution_count": 9,
   "metadata": {},
   "outputs": [
    {
     "data": {
      "text/plain": [
       "rating\n",
       "4.1    244\n",
       "4.3    230\n",
       "4.2    228\n",
       "4.0    129\n",
       "3.9    123\n",
       "4.4    123\n",
       "3.8     86\n",
       "4.5     75\n",
       "4       52\n",
       "3.7     42\n",
       "3.6     35\n",
       "3.5     26\n",
       "4.6     17\n",
       "3.3     16\n",
       "3.4     10\n",
       "4.7      6\n",
       "3.1      4\n",
       "5.0      3\n",
       "3.0      3\n",
       "4.8      3\n",
       "3.2      2\n",
       "2.8      2\n",
       "2.3      1\n",
       "|        1\n",
       "2        1\n",
       "3        1\n",
       "2.6      1\n",
       "2.9      1\n",
       "Name: count, dtype: int64"
      ]
     },
     "execution_count": 9,
     "metadata": {},
     "output_type": "execute_result"
    }
   ],
   "source": [
    "# Finding unusual string in rating column\n",
    "df['rating'].value_counts()"
   ]
  },
  {
   "cell_type": "code",
   "execution_count": 10,
   "metadata": {},
   "outputs": [],
   "source": [
    "# Changing Rating Columns Data Type\n",
    "df['rating'] = df['rating'].str.replace('|', '3.9').astype('float64')"
   ]
  },
  {
   "cell_type": "code",
   "execution_count": 11,
   "metadata": {},
   "outputs": [],
   "source": [
    "# Changing 'rating_count' Column Data Type\n",
    "df['rating_count'] = df['rating_count'].str.replace(',', '').astype('float64')\n"
   ]
  },
  {
   "cell_type": "code",
   "execution_count": 12,
   "metadata": {},
   "outputs": [
    {
     "data": {
      "text/plain": [
       "rating_count           2\n",
       "product_id             0\n",
       "product_name           0\n",
       "category               0\n",
       "discounted_price       0\n",
       "actual_price           0\n",
       "discount_percentage    0\n",
       "rating                 0\n",
       "about_product          0\n",
       "user_id                0\n",
       "user_name              0\n",
       "review_id              0\n",
       "review_title           0\n",
       "review_content         0\n",
       "img_link               0\n",
       "product_link           0\n",
       "dtype: int64"
      ]
     },
     "execution_count": 12,
     "metadata": {},
     "output_type": "execute_result"
    }
   ],
   "source": [
    "df.isnull().sum().sort_values(ascending = False)"
   ]
  },
  {
   "cell_type": "code",
   "execution_count": 13,
   "metadata": {},
   "outputs": [],
   "source": [
    "# Impute missing values\n",
    "df['rating_count'] = df.rating_count.fillna(value=df['rating_count'].median())"
   ]
  },
  {
   "cell_type": "code",
   "execution_count": 14,
   "metadata": {},
   "outputs": [
    {
     "data": {
      "text/plain": [
       "product_id             0\n",
       "product_name           0\n",
       "category               0\n",
       "discounted_price       0\n",
       "actual_price           0\n",
       "discount_percentage    0\n",
       "rating                 0\n",
       "rating_count           0\n",
       "about_product          0\n",
       "user_id                0\n",
       "user_name              0\n",
       "review_id              0\n",
       "review_title           0\n",
       "review_content         0\n",
       "img_link               0\n",
       "product_link           0\n",
       "dtype: int64"
      ]
     },
     "execution_count": 14,
     "metadata": {},
     "output_type": "execute_result"
    }
   ],
   "source": [
    "df.isnull().sum().sort_values(ascending = False)"
   ]
  },
  {
   "cell_type": "code",
   "execution_count": 15,
   "metadata": {},
   "outputs": [],
   "source": [
    "df.to_csv('salesdata.csv')"
   ]
  },
  {
   "cell_type": "markdown",
   "metadata": {},
   "source": [
    "# Data visualisation"
   ]
  },
  {
   "cell_type": "code",
   "execution_count": 16,
   "metadata": {},
   "outputs": [
    {
     "data": {
      "application/vnd.plotly.v1+json": {
       "config": {
        "plotlyServerURL": "https://plot.ly"
       },
       "data": [
        {
         "alignmentgroup": "True",
         "bingroup": "x",
         "histfunc": "sum",
         "hovertemplate": "rating=%{x}<br>sum of rating_count=%{y}<extra></extra>",
         "legendgroup": "",
         "marker": {
          "color": "#636efa",
          "pattern": {
           "shape": ""
          }
         },
         "name": "",
         "offsetgroup": "",
         "orientation": "v",
         "showlegend": false,
         "type": "histogram",
         "x": [
          4.2,
          4,
          3.9,
          4.2,
          4.2,
          3.9,
          4.1,
          4.3,
          4.2,
          4,
          4.3,
          4.2,
          4.4,
          4.2,
          4.1,
          4.4,
          4.2,
          4,
          4.1,
          4.3,
          4.5,
          3.7,
          4.3,
          4,
          4.3,
          4.2,
          4.2,
          4,
          4.4,
          4.3,
          4.5,
          4,
          4.3,
          4.3,
          3.9,
          3.9,
          4.4,
          4,
          4.2,
          4.2,
          4.5,
          4.3,
          4.2,
          4.3,
          4,
          3.3,
          4.1,
          4.4,
          3.6,
          4.2,
          4.4,
          4.2,
          4.3,
          4.2,
          4.1,
          3.7,
          4.2,
          4.2,
          4.2,
          4.3,
          3.7,
          4.3,
          4,
          4.2,
          4.2,
          4.4,
          4.1,
          4.3,
          4.2,
          4.3,
          4.5,
          4.1,
          4.2,
          4,
          4.1,
          4.1,
          4,
          4.1,
          3.9,
          4,
          4.2,
          4,
          3.4,
          4.4,
          4.2,
          4.2,
          4.3,
          4.3,
          4.5,
          4.2,
          3.6,
          4.2,
          4.2,
          4.1,
          4.2,
          3.7,
          3.8,
          3.7,
          4.5,
          4.1,
          4.3,
          4.3,
          4,
          4.2,
          4.2,
          4.3,
          4.2,
          4.3,
          4.3,
          3.9,
          4.1,
          4.3,
          4.3,
          4.1,
          4.5,
          4.1,
          3.6,
          3.5,
          4,
          3.8,
          4.4,
          3.7,
          4.3,
          4.1,
          4.2,
          4.1,
          4.3,
          4.2,
          4.2,
          4.4,
          4.3,
          4.3,
          4,
          3.9,
          4.2,
          4.3,
          3.9,
          4.6,
          3.9,
          4.3,
          4.1,
          4.4,
          3.2,
          4.2,
          4.2,
          3.7,
          4.5,
          4.2,
          4.2,
          4.2,
          4.1,
          4.3,
          4.3,
          4.3,
          3.4,
          4.3,
          4.4,
          3.9,
          4.1,
          3.9,
          4,
          4.3,
          4,
          3.9,
          4.5,
          3.9,
          4.2,
          4,
          4.3,
          4,
          4.4,
          4.3,
          4,
          4.3,
          5,
          3.7,
          4,
          4.1,
          4,
          3.3,
          3.8,
          4.1,
          4.1,
          4.4,
          4.3,
          4.3,
          4.4,
          4.3,
          3.9,
          4.2,
          4.2,
          4.1,
          4.3,
          3.7,
          4.1,
          3.9,
          4,
          4.2,
          4.4,
          4.1,
          4.3,
          3.8,
          4.4,
          4,
          4.4,
          4,
          4.2,
          3.9,
          3.7,
          3.6,
          4,
          3.5,
          4.5,
          4.2,
          3.8,
          3.8,
          4.1,
          4.3,
          4.4,
          3.9,
          4.2,
          3.8,
          4.1,
          4.1,
          4.3,
          3.7,
          4,
          4.2,
          4.1,
          4.3,
          4.4,
          4.3,
          4.3,
          3.5,
          3.9,
          4.5,
          3.4,
          4,
          4,
          4.4,
          4,
          4.3,
          4,
          4.2,
          3.8,
          4.4,
          3.9,
          4.2,
          3.9,
          4.7,
          3.6,
          3.7,
          4.2,
          4,
          3.6,
          4.3,
          4.2,
          4.3,
          4.2,
          4.2,
          4.4,
          4.2,
          4.4,
          3,
          4.5,
          4.3,
          4.2,
          4.4,
          4,
          3.8,
          4.3,
          4.2,
          4.1,
          4,
          4.2,
          3.3,
          4.3,
          3.8,
          4.2,
          3.7,
          4.3,
          3.9,
          3,
          4.3,
          3.5,
          3.9,
          4,
          4.3,
          3.8,
          4.3,
          3.3,
          4.5,
          4.1,
          4.2,
          4.1,
          4.4,
          4.2,
          3.9,
          4,
          4.5,
          3.7,
          4.2,
          4.2,
          4.2,
          4.3,
          4.4,
          4.2,
          4.3,
          3.7,
          4.3,
          4.2,
          4.4,
          3.5,
          4.1,
          4.3,
          4.2,
          4,
          3.9,
          3.3,
          3.8,
          4,
          4.3,
          3.9,
          4.2,
          5,
          4.1,
          3.9,
          4.2,
          4.3,
          3.8,
          4.3,
          4.4,
          4.3,
          4.3,
          4.2,
          4.3,
          3.8,
          4.3,
          4,
          4.3,
          4.3,
          4,
          4,
          4.4,
          4.1,
          4,
          3.9,
          4.1,
          4.2,
          3.9,
          4,
          4,
          4.1,
          4.4,
          4.2,
          4.3,
          4.3,
          3.9,
          4.4,
          4,
          4.2,
          4.1,
          4.4,
          4.1,
          4.2,
          4.2,
          4.1,
          4,
          4.2,
          4.2,
          4.1,
          4.1,
          4.2,
          4,
          4.3,
          4.3,
          4.1,
          4,
          4.1,
          3.9,
          4.2,
          4,
          4.4,
          4.2,
          3.8,
          4.3,
          4.2,
          3.9,
          4.4,
          4,
          4,
          3.8,
          4.2,
          4.2,
          4.4,
          4.2,
          4,
          4.3,
          4.1,
          4.1,
          4.1,
          4.1,
          4.4,
          3.9,
          4.3,
          4,
          4.3,
          4,
          3.6,
          4.1,
          4.2,
          4.1,
          4.1,
          4,
          4,
          3.5,
          4.3,
          4.1,
          4.1,
          4.1,
          4.1,
          3.8,
          4.3,
          4,
          4.2,
          4.1,
          4.1,
          4.1,
          4.3,
          3.9,
          4,
          4.5,
          4,
          4,
          4.1,
          4.1,
          3.9,
          4.1,
          4.1,
          4,
          4.3,
          4,
          4.1,
          4.2,
          4,
          4.1,
          4.2,
          4.6,
          4,
          4,
          4.3,
          4.3,
          4.2,
          4,
          4.2,
          4,
          4.1,
          3.9,
          3.8,
          4.7,
          4.3,
          4.2,
          4.1,
          3.3,
          4.4,
          4,
          4.2,
          4.5,
          4.6,
          4.2,
          4,
          3.7,
          4.1,
          4.1,
          4.2,
          4.2,
          4.5,
          3.8,
          4,
          4.1,
          3.8,
          4.1,
          3.8,
          4.2,
          4.2,
          4.2,
          4,
          3.5,
          4.3,
          4.1,
          3.9,
          3.9,
          3.3,
          4,
          4,
          4,
          3.9,
          4.3,
          4.1,
          4.1,
          4.3,
          4.1,
          4.1,
          4.3,
          4.4,
          4.2,
          3.3,
          4.4,
          4.3,
          4.1,
          4,
          4.1,
          4.3,
          3.8,
          3.9,
          3.7,
          4,
          4.2,
          4.4,
          3.9,
          4.5,
          4.2,
          3.9,
          4.2,
          4.1,
          4.1,
          4.3,
          4.1,
          4.3,
          3.6,
          4.1,
          4,
          4.1,
          4.3,
          3.9,
          4.1,
          4.1,
          4.4,
          3.8,
          4.3,
          4.3,
          3.5,
          4,
          3.9,
          4.3,
          2.8,
          3.8,
          4.5,
          4.3,
          4.1,
          3,
          4,
          3.9,
          4.1,
          4.1,
          4.3,
          4,
          4.4,
          4.3,
          4.2,
          3.8,
          4.3,
          4.3,
          4.3,
          4,
          3.9,
          4.1,
          3.7,
          4.2,
          4.1,
          4,
          4.6,
          3.9,
          4,
          4.3,
          4.4,
          4.1,
          4.1,
          4.1,
          4.4,
          4.5,
          4.1,
          4.2,
          4.5,
          4.1,
          3.9,
          4.3,
          3.8,
          4.3,
          4.4,
          3.8,
          3.8,
          3.5,
          4.4,
          4.1,
          4.1,
          4.3,
          3.5,
          4.1,
          4.1,
          3.9,
          3.9,
          4.1,
          4,
          4.2,
          4.3,
          4.1,
          4,
          4.2,
          3.9,
          4.3,
          4.2,
          4.5,
          4,
          4.2,
          4.5,
          4.3,
          3.9,
          4.1,
          4.3,
          4.2,
          4.2,
          4,
          3.9,
          4.1,
          4.5,
          3.7,
          3.5,
          4.2,
          3.5,
          4.3,
          3.9,
          4.2,
          4.3,
          4.2,
          4,
          4.1,
          4.5,
          4.2,
          4.1,
          3.9,
          4.3,
          3.9,
          4,
          4,
          3.5,
          4.3,
          3.8,
          4.4,
          3.7,
          4.4,
          4.4,
          4.4,
          4.2,
          4.5,
          3.8,
          3.8,
          4.1,
          4.1,
          4.4,
          3.8,
          4.2,
          4.1,
          4.4,
          4.1,
          4.1,
          3.5,
          3.6,
          4.3,
          3.8,
          4,
          3.9,
          4.1,
          4.3,
          4.4,
          4.3,
          4.3,
          4.1,
          4.4,
          4.4,
          3.8,
          3.8,
          4,
          4.4,
          4.4,
          4.5,
          4,
          4,
          4.3,
          4.2,
          3.8,
          4.3,
          4.1,
          4.3,
          4,
          4.3,
          4.2,
          4,
          4.4,
          4.4,
          4.5,
          4.2,
          4.1,
          4.5,
          4.2,
          4.3,
          3.9,
          4.5,
          4.1,
          4.2,
          3.8,
          4.3,
          3.9,
          4.3,
          4.3,
          3.9,
          3.7,
          4.2,
          4.3,
          4.2,
          3.9,
          4.3,
          3.7,
          4.3,
          4.3,
          3.9,
          4.4,
          4,
          4.5,
          3.9,
          4.3,
          4.2,
          4.1,
          4.2,
          4.5,
          4.2,
          4.2,
          4.3,
          4,
          4.5,
          3.8,
          3.9,
          4,
          4.1,
          3.4,
          4,
          3.4,
          4.3,
          3.9,
          4.1,
          4.3,
          4.5,
          4.2,
          4.1,
          4.4,
          4.3,
          4.3,
          4.3,
          4.2,
          4.1,
          4.1,
          4.5,
          4.4,
          4.3,
          4.3,
          4.3,
          4,
          4.3,
          4,
          4.4,
          4,
          4.3,
          3.3,
          3.7,
          4.1,
          5,
          4.5,
          3.9,
          4.4,
          4.1,
          3.6,
          3.8,
          3.6,
          4.2,
          4.4,
          3.8,
          4.2,
          4.3,
          4.4,
          4.1,
          4.4,
          4.4,
          4.4,
          4.4,
          4.3,
          4.3,
          4.3,
          4.2,
          4.3,
          4.2,
          3.8,
          4.3,
          4.5,
          4.1,
          4.2,
          4,
          4.1,
          4.1,
          4.3,
          4.5,
          4.5,
          4.1,
          4.3,
          3.6,
          4.4,
          4.5,
          3.9,
          4,
          4,
          4.4,
          4.6,
          4.4,
          4.4,
          4.3,
          4.3,
          4.4,
          4,
          4.2,
          3.8,
          4.1,
          4.2,
          4.2,
          4.4,
          4.3,
          4.1,
          4.4,
          3.9,
          3.9,
          3.6,
          4.4,
          4,
          3.5,
          4.1,
          4.1,
          4,
          4.1,
          4,
          3.8,
          4.3,
          4.2,
          4.1,
          4.2,
          4.5,
          4.6,
          4.3,
          4,
          4.2,
          3.3,
          4.3,
          3.7,
          3.9,
          4.3,
          4.1,
          4.2,
          4.5,
          4,
          4.5,
          3.5,
          4.5,
          4.3,
          3.3,
          4.1,
          3.8,
          3.5,
          4.1,
          4.5,
          4.4,
          4.1,
          4.3,
          3.6,
          4,
          4.1,
          4.5,
          4.2,
          4.3,
          4.2,
          4.6,
          4.5,
          4.3,
          4.1,
          4.5,
          3.5,
          4.4,
          4.2,
          4.4,
          4.4,
          4.2,
          4.5,
          4.3,
          3.8,
          3.9,
          4,
          4.1,
          4.4,
          4.4,
          4.4,
          3.5,
          4.5,
          4.1,
          4.4,
          4.1,
          4.2,
          4.2,
          4.3,
          4.3,
          3.7,
          3.9,
          4.5,
          4.1,
          4,
          3.8,
          3.4,
          4.3,
          4.3,
          4.3,
          4.2,
          4.1,
          4,
          4.3,
          4,
          4.1,
          4,
          3.8,
          4.2,
          4.3,
          4.4,
          4.1,
          4.5,
          4,
          4.2,
          3.9,
          4.3,
          4,
          4.2,
          4.3,
          4.2,
          4.2,
          4.1,
          4.3,
          4.3,
          4.2,
          4.5,
          4.4,
          4.2,
          4.1,
          4.3,
          4.4,
          4.1,
          3.6,
          4,
          4,
          4.4,
          3.9,
          4.3,
          4.6,
          4.4,
          4.5,
          3.9,
          4.1,
          4.3,
          4.5,
          4.5,
          3.6,
          4.1,
          4.3,
          3.8,
          4.6,
          4.1,
          4,
          4.5,
          4.3,
          4,
          4.5,
          4,
          4.5,
          4.1,
          4.3,
          4.1,
          4,
          4.1,
          4.1,
          4.4,
          4,
          4.1,
          4.4,
          4.3,
          4.2,
          3.6,
          4.2,
          4.2,
          3.9,
          4.2,
          4.5,
          4.3,
          4.2,
          4.1,
          4.1,
          4.6,
          3.8,
          4.3,
          4.2,
          4.2,
          4.4,
          3.9,
          4,
          4.2,
          3.7,
          4.5,
          4.5,
          3.6,
          4.3,
          4.1,
          3.9,
          3.6,
          4,
          4.1,
          3.7,
          3.9,
          4.1,
          3.9,
          3.9,
          3.9,
          3.8,
          3.8,
          4.1,
          4.1,
          3.3,
          4.2,
          4,
          4.3,
          4,
          4.5,
          4.1,
          4,
          4.2,
          3.8,
          4.2,
          4.2,
          3.6,
          3.8,
          4.1,
          4.1,
          4.1,
          4.1,
          4.2,
          4,
          4.3,
          4.2,
          4.2,
          3.7,
          4.1,
          4.4,
          3.8,
          4,
          4.2,
          3.8,
          4.2,
          4,
          3.9,
          4.3,
          3.8,
          4,
          4.2,
          4.2,
          3.6,
          4.3,
          4,
          4.2,
          4.1,
          4,
          4.3,
          4,
          3.9,
          4.2,
          4.1,
          4.4,
          4,
          3.8,
          4,
          3.1,
          4.3,
          4.2,
          4.4,
          4.1,
          4.2,
          4.1,
          4.1,
          4.1,
          3.9,
          3.9,
          3.8,
          4,
          4.2,
          4.1,
          4.3,
          3.7,
          4.2,
          4.3,
          4.3,
          4.4,
          3.8,
          4.5,
          3.8,
          3.8,
          4.1,
          4.1,
          3.8,
          3.3,
          4,
          4.6,
          3.9,
          3.7,
          4.2,
          4.1,
          4.1,
          3.8,
          4.1,
          4.6,
          4.1,
          4.2,
          3.9,
          4.1,
          4.1,
          4,
          3.7,
          4.1,
          4.1,
          4.1,
          3.3,
          4.1,
          4.1,
          4.4,
          4.3,
          4.1,
          3.7,
          4.8,
          4.5,
          4,
          4.1,
          3.9,
          4.1,
          4.2,
          4.1,
          3.5,
          4.3,
          3.9,
          4.2,
          3.8,
          4.5,
          3.8,
          4.1,
          4.2,
          4.1,
          4.2,
          4.5,
          4,
          4.4,
          4,
          4,
          3.9,
          4,
          3.8,
          4.2,
          4.3,
          4.2,
          4.3,
          4.2,
          4.4,
          3.8,
          4.1,
          3.9,
          4.3,
          4.4,
          3.6,
          3.8,
          4,
          4.1,
          4.3,
          4,
          3.9,
          4.4,
          3.7,
          3.6,
          3.7,
          4,
          4.2,
          3.8,
          4.2,
          3.9,
          4,
          4.1,
          4.8,
          4.2,
          4.1,
          4,
          3.9,
          4.1,
          4.3,
          4.1,
          4.2,
          3.9,
          3.7,
          4.1,
          4,
          3.8,
          4.2,
          4.6,
          4.1,
          3.3,
          4.2,
          4.3,
          4.3,
          4.3,
          4.7,
          4.4,
          3.9,
          4.7,
          4.1,
          3.8,
          4.4,
          4.3,
          3.4,
          4.2,
          3.7,
          4.3,
          4.3,
          4.4,
          4.1,
          4,
          4.4,
          3.8,
          4.3,
          3.8,
          2.3,
          4.5,
          4,
          3.7,
          4,
          4.4,
          4.1,
          4.4,
          3.1,
          4.3,
          4.4,
          4.4,
          4.1,
          4.1,
          4,
          3.6,
          3.9,
          3.9,
          3.8,
          4.1,
          4.1,
          4.1,
          3.8,
          4.3,
          4.5,
          4.2,
          3.9,
          3.5,
          4.3,
          3.9,
          3.9,
          4,
          4.7,
          4.1,
          3.8,
          4.1,
          3.9,
          4.1,
          3.9,
          3.8,
          4.1,
          4.3,
          3.9,
          2.8,
          4,
          4.5,
          4.6,
          4.1,
          4.1,
          3.4,
          4.6,
          4.2,
          3.9,
          4.2,
          4.2,
          4.1,
          4.8,
          4.4,
          4.3,
          4.3,
          4,
          4.3,
          4,
          4.4,
          4.1,
          3.6,
          2,
          4,
          3.7,
          3.8,
          3.9,
          3.1,
          3,
          4,
          4.4,
          4.1,
          3.6,
          4.4,
          4.2,
          4.3,
          3.8,
          4.1,
          4,
          4.2,
          3.6,
          4.2,
          4.1,
          4.2,
          3.9,
          4,
          4.2,
          4.2,
          4.1,
          4.4,
          4.1,
          4.2,
          4.1,
          3.9,
          3.9,
          4.2,
          4.2,
          3.7,
          3.7,
          3.4,
          4.2,
          4,
          4.1,
          3.9,
          4,
          3.9,
          4.2,
          4.3,
          4,
          2.6,
          3.8,
          4.5,
          3.5,
          3.9,
          4,
          4,
          3.5,
          4,
          3.4,
          4.2,
          3.8,
          4.1,
          4.2,
          4.3,
          4.2,
          4.1,
          3.9,
          3.3,
          4.3,
          3.9,
          4.3,
          3.6,
          3.8,
          3.9,
          4.6,
          3.8,
          3.9,
          4.1,
          3.6,
          4.4,
          4.3,
          4.7,
          4.3,
          3.9,
          3.9,
          3.7,
          3.5,
          4,
          4.1,
          3.9,
          4.4,
          4.3,
          4.5,
          4,
          3.9,
          4.2,
          4.1,
          3.7,
          4.1,
          4.2,
          4.3,
          3.6,
          4.1,
          4.5,
          4.2,
          4.3,
          4,
          4.2,
          4.2,
          4.5,
          3.8,
          4.4,
          4.1,
          4.2,
          4.3,
          4.1,
          4.2,
          4.1,
          3.9,
          3.9,
          3.8,
          4.6,
          3.6,
          4.1,
          4.2,
          4.3,
          3.9,
          3.9,
          4,
          4.4,
          4.2,
          4.5,
          4.1,
          4.1,
          4.2,
          4.2,
          4,
          4.3,
          3.6,
          3.5,
          4.3,
          3.6,
          2.9,
          4.2,
          4.4,
          4.1,
          3.8,
          3.5,
          4.1,
          3.2,
          4.4,
          3.6,
          3.1,
          4,
          4.1,
          3.6,
          4,
          4.3
         ],
         "xaxis": "x",
         "y": [
          24269,
          43994,
          7928,
          94363,
          16905,
          24871,
          15188,
          30411,
          179691,
          43994,
          13391,
          94363,
          426973,
          2262,
          4768,
          18757,
          32840,
          43994,
          13045,
          11976,
          815,
          10962,
          16299,
          9378,
          4703,
          12153,
          34899,
          2766,
          184,
          20850,
          74976,
          1934,
          974,
          355,
          1075,
          24871,
          13552,
          576,
          7298,
          462,
          107687,
          27151,
          24269,
          12093,
          9378,
          9792,
          8131,
          426973,
          493,
          92595,
          24780,
          92595,
          8188,
          4003,
          314,
          2960,
          179691,
          34899,
          656,
          7064,
          2201,
          7109,
          1313,
          29746,
          45238,
          426973,
          450,
          457,
          2727,
          20053,
          149,
          210,
          45238,
          7732,
          1780,
          602,
          1423,
          398,
          536,
          32,
          24269,
          9378,
          902,
          28791,
          10576,
          7298,
          4703,
          7109,
          127,
          24269,
          10134,
          34899,
          94363,
          425,
          6659,
          1977,
          1079,
          1097,
          22420,
          1045,
          4145,
          6547,
          1588,
          32840,
          13120,
          2806,
          24269,
          766,
          3587,
          24871,
          2581,
          20850,
          1035,
          1780,
          505,
          1717,
          590,
          1121,
          1313,
          132,
          1951,
          37,
          592,
          1259,
          45238,
          28638,
          12835,
          1269,
          284,
          69538,
          4703,
          2806,
          3295,
          81,
          42301,
          1376,
          1075,
          3664,
          1951,
          20850,
          2685,
          24780,
          285,
          179692,
          6088,
          1383,
          5492,
          919,
          30023,
          387,
          211,
          974,
          16299,
          30411,
          4642,
          12,
          1951,
          10480,
          24,
          254,
          3565,
          6255,
          7732,
          57,
          577,
          1193,
          13120,
          343,
          1611,
          6558,
          23169,
          4703,
          1423,
          2651,
          5,
          612,
          9378,
          2685,
          9378,
          576,
          313,
          2957,
          6736,
          13552,
          5451,
          10911,
          13552,
          2806,
          350,
          30023,
          4003,
          178817,
          7109,
          490,
          491,
          61,
          9378,
          32840,
          7318,
          789,
          407,
          2399,
          2640,
          839,
          44054,
          3231,
          64,
          8314,
          2249,
          339,
          27,
          197,
          74977,
          8583,
          928,
          110,
          6753,
          1237,
          18872,
          356,
          24269,
          425,
          1161,
          1508,
          7636,
          246,
          479,
          910,
          5626,
          14184,
          25177,
          21252,
          567,
          466,
          61,
          474,
          431,
          242,
          2905,
          12091,
          1423,
          6255,
          1236,
          1335,
          197,
          28791,
          1075,
          29746,
          295,
          5935,
          323,
          185,
          2117,
          9378,
          1796,
          3587,
          4296,
          2651,
          94363,
          34540,
          8714,
          10576,
          7318,
          103,
          224,
          4702,
          85,
          35877,
          897,
          282,
          1611,
          513,
          1045,
          6347,
          3300,
          23,
          7109,
          51,
          32840,
          708,
          1657,
          523,
          5179,
          1376,
          121,
          1075,
          1001,
          112,
          3022,
          5451,
          73,
          1029,
          1555,
          47,
          14896,
          1712,
          1335,
          214,
          184,
          7,
          41,
          12153,
          25,
          163,
          87,
          2165,
          1510,
          106,
          129,
          3049,
          32840,
          390,
          621,
          265,
          838,
          143,
          151,
          200,
          227,
          538,
          171,
          27508,
          1454,
          2951,
          5179,
          6753,
          3518,
          1510,
          838,
          136,
          301,
          19763,
          21252,
          1902,
          13937,
          27696,
          17831,
          178912,
          7807,
          17415,
          17415,
          7807,
          7807,
          67259,
          10689,
          128311,
          21796,
          192590,
          284,
          58162,
          12796,
          14282,
          363713,
          67259,
          284,
          15970,
          178912,
          46399,
          8891,
          30254,
          22636,
          22318,
          67259,
          18998,
          13937,
          29471,
          22318,
          21350,
          13937,
          24270,
          313836,
          313836,
          13937,
          12796,
          14185,
          17159,
          5179,
          43993,
          19252,
          7928,
          13937,
          12796,
          1680,
          13246,
          14648,
          27696,
          32916,
          25824,
          7462,
          37817,
          30254,
          17831,
          94364,
          16905,
          20311,
          69622,
          3382,
          140036,
          8599,
          18998,
          363713,
          19252,
          73,
          24870,
          42641,
          4390,
          17415,
          1396,
          18202,
          18998,
          11029,
          22318,
          1786,
          7222,
          128311,
          83996,
          140036,
          18678,
          15189,
          18998,
          48449,
          17831,
          30411,
          43994,
          1315,
          18998,
          5999,
          50772,
          13391,
          25824,
          14404,
          11339,
          3626,
          32625,
          19252,
          19252,
          25824,
          161679,
          16685,
          30907,
          178912,
          128311,
          19252,
          94364,
          7222,
          18998,
          32916,
          26603,
          67950,
          128311,
          9499,
          1777,
          58506,
          21350,
          2263,
          9378,
          4768,
          21796,
          17833,
          7779,
          17129,
          4969,
          154,
          4415,
          18757,
          21350,
          31539,
          815,
          6129,
          284,
          43994,
          3234,
          13045,
          313832,
          20879,
          2646,
          28978,
          3145,
          9377,
          192589,
          16557,
          18998,
          16557,
          21916,
          29472,
          1949,
          9377,
          37,
          2351,
          19253,
          2180,
          7571,
          4415,
          18654,
          3197,
          26880,
          21796,
          9499,
          56098,
          31822,
          9499,
          50772,
          7148,
          20850,
          184,
          3492,
          4415,
          67260,
          27704,
          50772,
          92588,
          31822,
          240,
          758,
          24870,
          828,
          9378,
          22638,
          13552,
          2147,
          596,
          1949,
          2180,
          31539,
          2451,
          154,
          1193,
          1475,
          8891,
          104,
          6662,
          8380,
          31822,
          3075,
          14266,
          38879,
          97175,
          67260,
          119,
          10833,
          8188,
          1641,
          4740,
          8866,
          8399,
          87,
          125,
          38,
          4674,
          412,
          681,
          36384,
          6491,
          10229,
          50772,
          1801,
          14404,
          305,
          1376,
          22638,
          2352,
          714,
          20052,
          1454,
          7732,
          2147,
          313832,
          465,
          27790,
          602,
          1423,
          245,
          276,
          30254,
          17161,
          14,
          14560,
          3156,
          9340,
          768,
          28978,
          18998,
          4971,
          1526,
          363711,
          136954,
          27709,
          17833,
          253105,
          61314,
          7354,
          180998,
          690,
          67262,
          10689,
          141841,
          24791,
          21764,
          192587,
          107151,
          21797,
          92995,
          8751,
          14283,
          64273,
          54315,
          1597,
          30254,
          22638,
          77027,
          28829,
          29478,
          33176,
          68664,
          24269,
          28030,
          5792,
          14778,
          91770,
          17162,
          206,
          33717,
          43994,
          7928,
          5179,
          50810,
          3369,
          11827,
          94364,
          15295,
          27139,
          9504,
          16905,
          30058,
          69619,
          3382,
          109864,
          5760,
          49551,
          161677,
          21372,
          140035,
          24870,
          7199,
          1396,
          15233,
          55747,
          14961,
          9275,
          28324,
          644,
          18139,
          7203,
          491,
          13568,
          3390,
          103052,
          18678,
          15189,
          12179,
          12958,
          8258,
          11716,
          35024,
          55192,
          119466,
          9638,
          33735,
          30411,
          3044,
          33584,
          1779,
          5999,
          13391,
          26556,
          25903,
          53464,
          48448,
          5176,
          8614,
          60026,
          3066,
          2102,
          34852,
          426972,
          8618,
          32625,
          4018,
          11687,
          2262,
          11015,
          95116,
          4768,
          23022,
          67951,
          4426,
          4567,
          13797,
          15137,
          18757,
          815,
          156638,
          9344,
          4875,
          20881,
          4744,
          12452,
          17810,
          53648,
          2014,
          5958,
          38221,
          64705,
          17129,
          11976,
          17348,
          87798,
          24432,
          189104,
          93112,
          47521,
          27201,
          10962,
          16299,
          31534,
          7571,
          6537,
          9377,
          21010,
          3517,
          63899,
          12153,
          5730,
          25488,
          54405,
          1949,
          122478,
          7241,
          20457,
          8610,
          16557,
          1087,
          1540,
          401,
          9385,
          92588,
          3454,
          15790,
          14969,
          42139,
          989,
          19624,
          3201,
          30469,
          9940,
          7758,
          68409,
          3095,
          903,
          25771,
          273189,
          3785,
          2866,
          27223,
          82356,
          5719,
          26880,
          1690,
          2766,
          8372,
          7113,
          20850,
          2804,
          1986,
          2451,
          23,
          26194,
          15783,
          8053,
          2809,
          25910,
          1173,
          6422,
          241,
          184,
          14629,
          1528,
          15032,
          69585,
          14371,
          3182,
          25886,
          4736,
          73005,
          20398,
          2125,
          11330,
          27441,
          255,
          23174,
          20218,
          11074,
          74976,
          25607,
          41226,
          2581,
          18331,
          1779,
          388,
          8656,
          92925,
          1269,
          17394,
          9169,
          1030,
          50273,
          6742,
          1208,
          1933,
          25006,
          33434,
          6301,
          22618,
          974,
          20342,
          7429,
          26423,
          31305,
          11213,
          10174,
          17413,
          6676,
          8076,
          355,
          18656,
          31599,
          1075,
          13971,
          2492,
          13552,
          575,
          2523,
          352,
          1662,
          7352,
          3441,
          93,
          40895,
          11006,
          8938,
          4308,
          462,
          107686,
          10652,
          5036,
          5057,
          8537,
          9792,
          2450,
          676,
          1173,
          9998,
          5852,
          362,
          205052,
          9090,
          4099,
          12966,
          4428,
          12093,
          5692,
          21,
          1880,
          21762,
          22375,
          2453,
          13544,
          10976,
          3061,
          2272,
          7601,
          8131,
          4219,
          42775,
          5556,
          92595,
          12375,
          5882,
          10833,
          10443,
          434,
          1913,
          3029,
          2628,
          24780,
          10718,
          6233,
          10541,
          8188,
          10751,
          817,
          36384,
          3606,
          357,
          10170,
          4598,
          7222,
          1271,
          314,
          3219,
          38879,
          4541,
          76042,
          485,
          44696,
          8566,
          13049,
          16680,
          97174,
          3686,
          594,
          12185,
          2623,
          9701,
          15867,
          656,
          10725,
          3025,
          7064,
          5736,
          72563,
          1026,
          2043,
          4149,
          74,
          41398,
          5195,
          22420,
          1313,
          2284,
          427,
          1367,
          13199,
          29746,
          2806,
          30355,
          2868,
          670,
          3530,
          6183,
          419,
          7317,
          4426,
          45237,
          1092,
          2493,
          12679,
          210,
          4199,
          14403,
          11113,
          10773,
          6491,
          13944,
          10760,
          25996,
          16146,
          8280,
          450,
          14237,
          20668,
          1674,
          7689,
          5554,
          20053,
          3344,
          2886,
          98250,
          75,
          149,
          2585,
          5072,
          5985,
          7732,
          9427,
          1780,
          2301,
          2535,
          691,
          2740,
          602,
          3482,
          1423,
          6199,
          1667,
          4723,
          22860,
          13572,
          16182,
          2908,
          536,
          2375,
          4951,
          408,
          1926,
          4798,
          7333,
          245,
          3652,
          2515,
          10576,
          4959,
          2111,
          1462,
          323,
          91188,
          418,
          1526,
          127,
          10134,
          1552,
          25262,
          123365,
          13300,
          18543,
          3578,
          2031,
          44994,
          270563,
          31783,
          2602,
          63350,
          54032,
          15592,
          4859,
          14120,
          8427,
          23316,
          6530,
          11924,
          2961,
          23484,
          21783,
          14030,
          6398,
          44050,
          24247,
          41349,
          1074,
          1163,
          257,
          36017,
          8090,
          31388,
          136,
          5380,
          37974,
          17218,
          900,
          976,
          4927,
          3543,
          2732,
          14368,
          39724,
          9791,
          2891,
          2446,
          25340,
          3096,
          4,
          119,
          40106,
          13029,
          291,
          15453,
          604,
          46647,
          3233,
          1282,
          70,
          26164,
          16166,
          35693,
          14391,
          7946,
          1765,
          14062,
          15646,
          111,
          9695,
          1772,
          11499,
          2162,
          19621,
          19998,
          1051,
          1716,
          32931,
          17424,
          1889,
          10324,
          5355,
          3366,
          1017,
          787,
          18462,
          629,
          15276,
          2981,
          2466,
          7949,
          95,
          1558,
          26543,
          3688,
          4383,
          478,
          237,
          124,
          14667,
          6,
          4244,
          1017,
          12999,
          311,
          4238,
          2781,
          10907,
          13250,
          43070,
          11828,
          1240,
          20869,
          441,
          1034,
          37126,
          6355,
          12,
          13165,
          1646,
          17994,
          610,
          8866,
          13406,
          53803,
          546,
          5292,
          444,
          4584,
          14947,
          1559,
          1660,
          132,
          28629,
          8446,
          11199,
          1118,
          11,
          4353,
          185,
          14290,
          3036,
          1296,
          19,
          97,
          1771,
          15034,
          3242,
          2832,
          1498,
          305,
          1191,
          4049,
          3160,
          9650,
          3846,
          290,
          2206,
          9349,
          578,
          9331,
          3837,
          11456,
          49,
          4978,
          1996,
          1811,
          2198,
          13127,
          5865,
          1067,
          4881,
          11217,
          43,
          4664,
          2112,
          2737,
          9019,
          10234,
          550,
          28,
          1353,
          2138,
          1679,
          12837,
          8873,
          7681,
          322,
          9772,
          18497,
          53,
          1728,
          2877,
          250,
          5178,
          79,
          4157,
          29,
          4580,
          1404,
          2810,
          7,
          1729,
          2116,
          463,
          54,
          7229,
          3842,
          646,
          1802,
          252,
          780,
          74,
          2026,
          5911,
          1964,
          25,
          3160,
          1558,
          8958,
          13251,
          1393,
          13,
          7241,
          16020,
          1470,
          3663,
          638,
          3552,
          11148,
          2449,
          2299,
          6027,
          461,
          282,
          9275,
          743,
          328,
          942,
          3815,
          7988,
          925,
          4370,
          7619,
          2593,
          356,
          63,
          4740,
          296,
          185,
          1954,
          959,
          1015,
          3973,
          2300,
          203,
          441,
          10308,
          992,
          4716,
          313,
          166,
          303,
          562,
          8095,
          109,
          15382,
          5137,
          124,
          618,
          63,
          15,
          9,
          7274,
          5911,
          170,
          3065,
          1021,
          3964,
          8948,
          97,
          7223,
          330,
          4570,
          4867,
          5298,
          7786,
          37,
          2,
          5206,
          638,
          397,
          326,
          3527,
          617,
          314,
          535,
          17325,
          91,
          227,
          11957,
          7140,
          687,
          1045,
          11206,
          561,
          1988,
          3740,
          4401,
          611,
          2162,
          97,
          6055,
          386,
          557,
          2288,
          1106,
          11935,
          5059,
          157,
          3584,
          1899,
          15252,
          4,
          1662,
          422,
          79,
          5160,
          2311,
          588,
          3271,
          11004,
          3195,
          3231,
          3246,
          24,
          144,
          2280,
          340,
          144,
          727,
          832,
          57,
          1644,
          1066,
          7968,
          3195,
          1456,
          590,
          1436,
          4184,
          693,
          1306,
          8,
          2326,
          1004,
          6400,
          63,
          1181,
          1888,
          6550,
          1846,
          1085,
          290,
          4,
          9734,
          4022,
          2591,
          532,
          260,
          1672,
          7945,
          1367,
          1313,
          212,
          65,
          2737,
          55,
          1065,
          2377,
          2569,
          5967,
          1776,
          4200,
          297,
          3858,
          168,
          101,
          4074,
          1408,
          3739,
          5891,
          777,
          14160,
          6919,
          287,
          287,
          388,
          827,
          4971,
          229,
          3524,
          156,
          490,
          82,
          710,
          133,
          2751,
          771,
          2536,
          7801,
          534,
          898,
          1202,
          1108,
          17,
          10429,
          3192,
          5873,
          1379,
          1527,
          2686,
          178,
          2664,
          212,
          24,
          1868,
          451,
          159,
          39,
          6531,
          222,
          195,
          2283,
          1127,
          113,
          2518,
          550,
          2,
          1090,
          4118,
          468,
          8031,
          6987
         ],
         "yaxis": "y"
        }
       ],
       "layout": {
        "barmode": "relative",
        "legend": {
         "tracegroupgap": 0
        },
        "template": {
         "data": {
          "bar": [
           {
            "error_x": {
             "color": "#2a3f5f"
            },
            "error_y": {
             "color": "#2a3f5f"
            },
            "marker": {
             "line": {
              "color": "#E5ECF6",
              "width": 0.5
             },
             "pattern": {
              "fillmode": "overlay",
              "size": 10,
              "solidity": 0.2
             }
            },
            "type": "bar"
           }
          ],
          "barpolar": [
           {
            "marker": {
             "line": {
              "color": "#E5ECF6",
              "width": 0.5
             },
             "pattern": {
              "fillmode": "overlay",
              "size": 10,
              "solidity": 0.2
             }
            },
            "type": "barpolar"
           }
          ],
          "carpet": [
           {
            "aaxis": {
             "endlinecolor": "#2a3f5f",
             "gridcolor": "white",
             "linecolor": "white",
             "minorgridcolor": "white",
             "startlinecolor": "#2a3f5f"
            },
            "baxis": {
             "endlinecolor": "#2a3f5f",
             "gridcolor": "white",
             "linecolor": "white",
             "minorgridcolor": "white",
             "startlinecolor": "#2a3f5f"
            },
            "type": "carpet"
           }
          ],
          "choropleth": [
           {
            "colorbar": {
             "outlinewidth": 0,
             "ticks": ""
            },
            "type": "choropleth"
           }
          ],
          "contour": [
           {
            "colorbar": {
             "outlinewidth": 0,
             "ticks": ""
            },
            "colorscale": [
             [
              0,
              "#0d0887"
             ],
             [
              0.1111111111111111,
              "#46039f"
             ],
             [
              0.2222222222222222,
              "#7201a8"
             ],
             [
              0.3333333333333333,
              "#9c179e"
             ],
             [
              0.4444444444444444,
              "#bd3786"
             ],
             [
              0.5555555555555556,
              "#d8576b"
             ],
             [
              0.6666666666666666,
              "#ed7953"
             ],
             [
              0.7777777777777778,
              "#fb9f3a"
             ],
             [
              0.8888888888888888,
              "#fdca26"
             ],
             [
              1,
              "#f0f921"
             ]
            ],
            "type": "contour"
           }
          ],
          "contourcarpet": [
           {
            "colorbar": {
             "outlinewidth": 0,
             "ticks": ""
            },
            "type": "contourcarpet"
           }
          ],
          "heatmap": [
           {
            "colorbar": {
             "outlinewidth": 0,
             "ticks": ""
            },
            "colorscale": [
             [
              0,
              "#0d0887"
             ],
             [
              0.1111111111111111,
              "#46039f"
             ],
             [
              0.2222222222222222,
              "#7201a8"
             ],
             [
              0.3333333333333333,
              "#9c179e"
             ],
             [
              0.4444444444444444,
              "#bd3786"
             ],
             [
              0.5555555555555556,
              "#d8576b"
             ],
             [
              0.6666666666666666,
              "#ed7953"
             ],
             [
              0.7777777777777778,
              "#fb9f3a"
             ],
             [
              0.8888888888888888,
              "#fdca26"
             ],
             [
              1,
              "#f0f921"
             ]
            ],
            "type": "heatmap"
           }
          ],
          "heatmapgl": [
           {
            "colorbar": {
             "outlinewidth": 0,
             "ticks": ""
            },
            "colorscale": [
             [
              0,
              "#0d0887"
             ],
             [
              0.1111111111111111,
              "#46039f"
             ],
             [
              0.2222222222222222,
              "#7201a8"
             ],
             [
              0.3333333333333333,
              "#9c179e"
             ],
             [
              0.4444444444444444,
              "#bd3786"
             ],
             [
              0.5555555555555556,
              "#d8576b"
             ],
             [
              0.6666666666666666,
              "#ed7953"
             ],
             [
              0.7777777777777778,
              "#fb9f3a"
             ],
             [
              0.8888888888888888,
              "#fdca26"
             ],
             [
              1,
              "#f0f921"
             ]
            ],
            "type": "heatmapgl"
           }
          ],
          "histogram": [
           {
            "marker": {
             "pattern": {
              "fillmode": "overlay",
              "size": 10,
              "solidity": 0.2
             }
            },
            "type": "histogram"
           }
          ],
          "histogram2d": [
           {
            "colorbar": {
             "outlinewidth": 0,
             "ticks": ""
            },
            "colorscale": [
             [
              0,
              "#0d0887"
             ],
             [
              0.1111111111111111,
              "#46039f"
             ],
             [
              0.2222222222222222,
              "#7201a8"
             ],
             [
              0.3333333333333333,
              "#9c179e"
             ],
             [
              0.4444444444444444,
              "#bd3786"
             ],
             [
              0.5555555555555556,
              "#d8576b"
             ],
             [
              0.6666666666666666,
              "#ed7953"
             ],
             [
              0.7777777777777778,
              "#fb9f3a"
             ],
             [
              0.8888888888888888,
              "#fdca26"
             ],
             [
              1,
              "#f0f921"
             ]
            ],
            "type": "histogram2d"
           }
          ],
          "histogram2dcontour": [
           {
            "colorbar": {
             "outlinewidth": 0,
             "ticks": ""
            },
            "colorscale": [
             [
              0,
              "#0d0887"
             ],
             [
              0.1111111111111111,
              "#46039f"
             ],
             [
              0.2222222222222222,
              "#7201a8"
             ],
             [
              0.3333333333333333,
              "#9c179e"
             ],
             [
              0.4444444444444444,
              "#bd3786"
             ],
             [
              0.5555555555555556,
              "#d8576b"
             ],
             [
              0.6666666666666666,
              "#ed7953"
             ],
             [
              0.7777777777777778,
              "#fb9f3a"
             ],
             [
              0.8888888888888888,
              "#fdca26"
             ],
             [
              1,
              "#f0f921"
             ]
            ],
            "type": "histogram2dcontour"
           }
          ],
          "mesh3d": [
           {
            "colorbar": {
             "outlinewidth": 0,
             "ticks": ""
            },
            "type": "mesh3d"
           }
          ],
          "parcoords": [
           {
            "line": {
             "colorbar": {
              "outlinewidth": 0,
              "ticks": ""
             }
            },
            "type": "parcoords"
           }
          ],
          "pie": [
           {
            "automargin": true,
            "type": "pie"
           }
          ],
          "scatter": [
           {
            "fillpattern": {
             "fillmode": "overlay",
             "size": 10,
             "solidity": 0.2
            },
            "type": "scatter"
           }
          ],
          "scatter3d": [
           {
            "line": {
             "colorbar": {
              "outlinewidth": 0,
              "ticks": ""
             }
            },
            "marker": {
             "colorbar": {
              "outlinewidth": 0,
              "ticks": ""
             }
            },
            "type": "scatter3d"
           }
          ],
          "scattercarpet": [
           {
            "marker": {
             "colorbar": {
              "outlinewidth": 0,
              "ticks": ""
             }
            },
            "type": "scattercarpet"
           }
          ],
          "scattergeo": [
           {
            "marker": {
             "colorbar": {
              "outlinewidth": 0,
              "ticks": ""
             }
            },
            "type": "scattergeo"
           }
          ],
          "scattergl": [
           {
            "marker": {
             "colorbar": {
              "outlinewidth": 0,
              "ticks": ""
             }
            },
            "type": "scattergl"
           }
          ],
          "scattermapbox": [
           {
            "marker": {
             "colorbar": {
              "outlinewidth": 0,
              "ticks": ""
             }
            },
            "type": "scattermapbox"
           }
          ],
          "scatterpolar": [
           {
            "marker": {
             "colorbar": {
              "outlinewidth": 0,
              "ticks": ""
             }
            },
            "type": "scatterpolar"
           }
          ],
          "scatterpolargl": [
           {
            "marker": {
             "colorbar": {
              "outlinewidth": 0,
              "ticks": ""
             }
            },
            "type": "scatterpolargl"
           }
          ],
          "scatterternary": [
           {
            "marker": {
             "colorbar": {
              "outlinewidth": 0,
              "ticks": ""
             }
            },
            "type": "scatterternary"
           }
          ],
          "surface": [
           {
            "colorbar": {
             "outlinewidth": 0,
             "ticks": ""
            },
            "colorscale": [
             [
              0,
              "#0d0887"
             ],
             [
              0.1111111111111111,
              "#46039f"
             ],
             [
              0.2222222222222222,
              "#7201a8"
             ],
             [
              0.3333333333333333,
              "#9c179e"
             ],
             [
              0.4444444444444444,
              "#bd3786"
             ],
             [
              0.5555555555555556,
              "#d8576b"
             ],
             [
              0.6666666666666666,
              "#ed7953"
             ],
             [
              0.7777777777777778,
              "#fb9f3a"
             ],
             [
              0.8888888888888888,
              "#fdca26"
             ],
             [
              1,
              "#f0f921"
             ]
            ],
            "type": "surface"
           }
          ],
          "table": [
           {
            "cells": {
             "fill": {
              "color": "#EBF0F8"
             },
             "line": {
              "color": "white"
             }
            },
            "header": {
             "fill": {
              "color": "#C8D4E3"
             },
             "line": {
              "color": "white"
             }
            },
            "type": "table"
           }
          ]
         },
         "layout": {
          "annotationdefaults": {
           "arrowcolor": "#2a3f5f",
           "arrowhead": 0,
           "arrowwidth": 1
          },
          "autotypenumbers": "strict",
          "coloraxis": {
           "colorbar": {
            "outlinewidth": 0,
            "ticks": ""
           }
          },
          "colorscale": {
           "diverging": [
            [
             0,
             "#8e0152"
            ],
            [
             0.1,
             "#c51b7d"
            ],
            [
             0.2,
             "#de77ae"
            ],
            [
             0.3,
             "#f1b6da"
            ],
            [
             0.4,
             "#fde0ef"
            ],
            [
             0.5,
             "#f7f7f7"
            ],
            [
             0.6,
             "#e6f5d0"
            ],
            [
             0.7,
             "#b8e186"
            ],
            [
             0.8,
             "#7fbc41"
            ],
            [
             0.9,
             "#4d9221"
            ],
            [
             1,
             "#276419"
            ]
           ],
           "sequential": [
            [
             0,
             "#0d0887"
            ],
            [
             0.1111111111111111,
             "#46039f"
            ],
            [
             0.2222222222222222,
             "#7201a8"
            ],
            [
             0.3333333333333333,
             "#9c179e"
            ],
            [
             0.4444444444444444,
             "#bd3786"
            ],
            [
             0.5555555555555556,
             "#d8576b"
            ],
            [
             0.6666666666666666,
             "#ed7953"
            ],
            [
             0.7777777777777778,
             "#fb9f3a"
            ],
            [
             0.8888888888888888,
             "#fdca26"
            ],
            [
             1,
             "#f0f921"
            ]
           ],
           "sequentialminus": [
            [
             0,
             "#0d0887"
            ],
            [
             0.1111111111111111,
             "#46039f"
            ],
            [
             0.2222222222222222,
             "#7201a8"
            ],
            [
             0.3333333333333333,
             "#9c179e"
            ],
            [
             0.4444444444444444,
             "#bd3786"
            ],
            [
             0.5555555555555556,
             "#d8576b"
            ],
            [
             0.6666666666666666,
             "#ed7953"
            ],
            [
             0.7777777777777778,
             "#fb9f3a"
            ],
            [
             0.8888888888888888,
             "#fdca26"
            ],
            [
             1,
             "#f0f921"
            ]
           ]
          },
          "colorway": [
           "#636efa",
           "#EF553B",
           "#00cc96",
           "#ab63fa",
           "#FFA15A",
           "#19d3f3",
           "#FF6692",
           "#B6E880",
           "#FF97FF",
           "#FECB52"
          ],
          "font": {
           "color": "#2a3f5f"
          },
          "geo": {
           "bgcolor": "white",
           "lakecolor": "white",
           "landcolor": "#E5ECF6",
           "showlakes": true,
           "showland": true,
           "subunitcolor": "white"
          },
          "hoverlabel": {
           "align": "left"
          },
          "hovermode": "closest",
          "mapbox": {
           "style": "light"
          },
          "paper_bgcolor": "white",
          "plot_bgcolor": "#E5ECF6",
          "polar": {
           "angularaxis": {
            "gridcolor": "white",
            "linecolor": "white",
            "ticks": ""
           },
           "bgcolor": "#E5ECF6",
           "radialaxis": {
            "gridcolor": "white",
            "linecolor": "white",
            "ticks": ""
           }
          },
          "scene": {
           "xaxis": {
            "backgroundcolor": "#E5ECF6",
            "gridcolor": "white",
            "gridwidth": 2,
            "linecolor": "white",
            "showbackground": true,
            "ticks": "",
            "zerolinecolor": "white"
           },
           "yaxis": {
            "backgroundcolor": "#E5ECF6",
            "gridcolor": "white",
            "gridwidth": 2,
            "linecolor": "white",
            "showbackground": true,
            "ticks": "",
            "zerolinecolor": "white"
           },
           "zaxis": {
            "backgroundcolor": "#E5ECF6",
            "gridcolor": "white",
            "gridwidth": 2,
            "linecolor": "white",
            "showbackground": true,
            "ticks": "",
            "zerolinecolor": "white"
           }
          },
          "shapedefaults": {
           "line": {
            "color": "#2a3f5f"
           }
          },
          "ternary": {
           "aaxis": {
            "gridcolor": "white",
            "linecolor": "white",
            "ticks": ""
           },
           "baxis": {
            "gridcolor": "white",
            "linecolor": "white",
            "ticks": ""
           },
           "bgcolor": "#E5ECF6",
           "caxis": {
            "gridcolor": "white",
            "linecolor": "white",
            "ticks": ""
           }
          },
          "title": {
           "x": 0.05
          },
          "xaxis": {
           "automargin": true,
           "gridcolor": "white",
           "linecolor": "white",
           "ticks": "",
           "title": {
            "standoff": 15
           },
           "zerolinecolor": "white",
           "zerolinewidth": 2
          },
          "yaxis": {
           "automargin": true,
           "gridcolor": "white",
           "linecolor": "white",
           "ticks": "",
           "title": {
            "standoff": 15
           },
           "zerolinecolor": "white",
           "zerolinewidth": 2
          }
         }
        },
        "title": {
         "text": "Rating Distribution"
        },
        "xaxis": {
         "anchor": "y",
         "domain": [
          0,
          1
         ],
         "title": {
          "text": "rating"
         }
        },
        "yaxis": {
         "anchor": "x",
         "domain": [
          0,
          1
         ],
         "title": {
          "text": "sum of rating_count"
         }
        }
       }
      }
     },
     "metadata": {},
     "output_type": "display_data"
    }
   ],
   "source": [
    "fig=px.histogram(df, x='rating', y='rating_count', title='Rating Distribution')\n",
    "fig.show()"
   ]
  },
  {
   "cell_type": "markdown",
   "metadata": {},
   "source": [
    "### Question 1\n",
    "\n",
    "### What are the top-performing product categories in terms of revenue?\n"
   ]
  },
  {
   "cell_type": "code",
   "execution_count": 17,
   "metadata": {},
   "outputs": [],
   "source": [
    "df['revenue'] = df['discounted_price'] * df['rating_count']\n"
   ]
  },
  {
   "cell_type": "code",
   "execution_count": 18,
   "metadata": {},
   "outputs": [
    {
     "data": {
      "application/vnd.plotly.v1+json": {
       "config": {
        "plotlyServerURL": "https://plot.ly"
       },
       "data": [
        {
         "alignmentgroup": "True",
         "hovertemplate": "category=%{x}<br>revenue=%{y}<extra></extra>",
         "legendgroup": "",
         "marker": {
          "color": "#636efa",
          "pattern": {
           "shape": ""
          }
         },
         "name": "",
         "offsetgroup": "",
         "orientation": "v",
         "showlegend": false,
         "textposition": "auto",
         "type": "bar",
         "x": [
          "Car&Motorbike|CarAccessories|InteriorAccessories|AirPurifiers&Ionizers",
          "Computers&Accessories|Accessories&Peripherals|Adapters|USBtoUSBAdapters",
          "Computers&Accessories|Accessories&Peripherals|Audio&VideoAccessories|PCHeadsets",
          "Computers&Accessories|Accessories&Peripherals|Audio&VideoAccessories|PCMicrophones",
          "Computers&Accessories|Accessories&Peripherals|Audio&VideoAccessories|PCSpeakers",
          "Computers&Accessories|Accessories&Peripherals|Audio&VideoAccessories|Webcams&VoIPEquipment|Webcams",
          "Computers&Accessories|Accessories&Peripherals|Cables&Accessories|CableConnectionProtectors",
          "Computers&Accessories|Accessories&Peripherals|Cables&Accessories|Cables|DVICables",
          "Computers&Accessories|Accessories&Peripherals|Cables&Accessories|Cables|EthernetCables",
          "Computers&Accessories|Accessories&Peripherals|Cables&Accessories|Cables|SATACables",
          "Computers&Accessories|Accessories&Peripherals|Cables&Accessories|Cables|USBCables",
          "Computers&Accessories|Accessories&Peripherals|HardDiskBags",
          "Computers&Accessories|Accessories&Peripherals|HardDriveAccessories|Caddies",
          "Computers&Accessories|Accessories&Peripherals|Keyboards,Mice&InputDevices|GraphicTablets",
          "Computers&Accessories|Accessories&Peripherals|Keyboards,Mice&InputDevices|Keyboard&MiceAccessories|DustCovers",
          "Computers&Accessories|Accessories&Peripherals|Keyboards,Mice&InputDevices|Keyboard&MiceAccessories|MousePads",
          "Computers&Accessories|Accessories&Peripherals|Keyboards,Mice&InputDevices|Keyboard&MouseSets",
          "Computers&Accessories|Accessories&Peripherals|Keyboards,Mice&InputDevices|Keyboards",
          "Computers&Accessories|Accessories&Peripherals|Keyboards,Mice&InputDevices|Mice",
          "Computers&Accessories|Accessories&Peripherals|LaptopAccessories",
          "Computers&Accessories|Accessories&Peripherals|LaptopAccessories|Bags&Sleeves|LaptopSleeves&Slipcases",
          "Computers&Accessories|Accessories&Peripherals|LaptopAccessories|CameraPrivacyCovers",
          "Computers&Accessories|Accessories&Peripherals|LaptopAccessories|CoolingPads",
          "Computers&Accessories|Accessories&Peripherals|LaptopAccessories|Lapdesks",
          "Computers&Accessories|Accessories&Peripherals|LaptopAccessories|LaptopChargers&PowerSupplies",
          "Computers&Accessories|Accessories&Peripherals|LaptopAccessories|NotebookComputerStands",
          "Computers&Accessories|Accessories&Peripherals|PCGamingPeripherals|Gamepads",
          "Computers&Accessories|Accessories&Peripherals|PCGamingPeripherals|GamingKeyboards",
          "Computers&Accessories|Accessories&Peripherals|PCGamingPeripherals|GamingMice",
          "Computers&Accessories|Accessories&Peripherals|PCGamingPeripherals|Headsets",
          "Computers&Accessories|Accessories&Peripherals|TabletAccessories|Bags,Cases&Sleeves|Cases",
          "Computers&Accessories|Accessories&Peripherals|TabletAccessories|ScreenProtectors",
          "Computers&Accessories|Accessories&Peripherals|TabletAccessories|Stands",
          "Computers&Accessories|Accessories&Peripherals|USBGadgets|Lamps",
          "Computers&Accessories|Accessories&Peripherals|USBHubs",
          "Computers&Accessories|Accessories&Peripherals|UninterruptedPowerSupplies",
          "Computers&Accessories|Components|InternalHardDrives",
          "Computers&Accessories|Components|InternalSolidStateDrives",
          "Computers&Accessories|Components|Memory",
          "Computers&Accessories|ExternalDevices&DataStorage|ExternalHardDisks",
          "Computers&Accessories|ExternalDevices&DataStorage|ExternalMemoryCardReaders",
          "Computers&Accessories|ExternalDevices&DataStorage|ExternalSolidStateDrives",
          "Computers&Accessories|ExternalDevices&DataStorage|PenDrives",
          "Computers&Accessories|Laptops|TraditionalLaptops",
          "Computers&Accessories|Monitors",
          "Computers&Accessories|NetworkingDevices",
          "Computers&Accessories|NetworkingDevices|DataCards&Dongles",
          "Computers&Accessories|NetworkingDevices|NetworkAdapters|BluetoothAdapters",
          "Computers&Accessories|NetworkingDevices|NetworkAdapters|PowerLANAdapters",
          "Computers&Accessories|NetworkingDevices|NetworkAdapters|WirelessUSBAdapters",
          "Computers&Accessories|NetworkingDevices|Repeaters&Extenders",
          "Computers&Accessories|NetworkingDevices|Routers",
          "Computers&Accessories|Printers,Inks&Accessories|Inks,Toners&Cartridges|InkjetInkCartridges",
          "Computers&Accessories|Printers,Inks&Accessories|Inks,Toners&Cartridges|InkjetInkRefills&Kits",
          "Computers&Accessories|Printers,Inks&Accessories|Inks,Toners&Cartridges|TonerCartridges",
          "Computers&Accessories|Printers,Inks&Accessories|Printers",
          "Computers&Accessories|Printers,Inks&Accessories|Printers|InkjetPrinters",
          "Computers&Accessories|Tablets",
          "Electronics|Accessories|MemoryCards|MicroSD",
          "Electronics|Accessories|MemoryCards|SecureDigitalCards",
          "Electronics|Cameras&Photography|Accessories|Batteries&Chargers|BatteryChargers",
          "Electronics|Cameras&Photography|Accessories|Cleaners|CleaningKits",
          "Electronics|Cameras&Photography|Accessories|Film",
          "Electronics|Cameras&Photography|Accessories|PhotoStudio&Lighting|PhotoBackgroundAccessories|BackgroundSupports",
          "Electronics|Cameras&Photography|Accessories|Tripods&Monopods|CompleteTripodUnits",
          "Electronics|Cameras&Photography|Accessories|Tripods&Monopods|Tabletop&TravelTripods",
          "Electronics|Cameras&Photography|Accessories|Tripods&Monopods|TripodLegs",
          "Electronics|Cameras&Photography|Flashes|Macro&RinglightFlashes",
          "Electronics|Cameras&Photography|SecurityCameras|DomeCameras",
          "Electronics|Cameras&Photography|VideoCameras",
          "Electronics|GeneralPurposeBatteries&BatteryChargers",
          "Electronics|GeneralPurposeBatteries&BatteryChargers|DisposableBatteries",
          "Electronics|GeneralPurposeBatteries&BatteryChargers|RechargeableBatteries",
          "Electronics|Headphones,Earbuds&Accessories|Adapters",
          "Electronics|Headphones,Earbuds&Accessories|Cases",
          "Electronics|Headphones,Earbuds&Accessories|Earpads",
          "Electronics|Headphones,Earbuds&Accessories|Headphones|In-Ear",
          "Electronics|Headphones,Earbuds&Accessories|Headphones|On-Ear",
          "Electronics|Headphones,Earbuds&Accessories|Headphones|Over-Ear",
          "Electronics|HomeAudio|Accessories|Adapters",
          "Electronics|HomeAudio|Accessories|SpeakerAccessories|Mounts",
          "Electronics|HomeAudio|MediaStreamingDevices|StreamingClients",
          "Electronics|HomeAudio|Speakers|BluetoothSpeakers",
          "Electronics|HomeAudio|Speakers|MultimediaSpeakerSystems",
          "Electronics|HomeAudio|Speakers|OutdoorSpeakers",
          "Electronics|HomeAudio|Speakers|SoundbarSpeakers",
          "Electronics|HomeAudio|Speakers|TowerSpeakers",
          "Electronics|HomeTheater,TV&Video|AVReceivers&Amplifiers",
          "Electronics|HomeTheater,TV&Video|Accessories|3DGlasses",
          "Electronics|HomeTheater,TV&Video|Accessories|Cables|HDMICables",
          "Electronics|HomeTheater,TV&Video|Accessories|Cables|OpticalCables",
          "Electronics|HomeTheater,TV&Video|Accessories|Cables|RCACables",
          "Electronics|HomeTheater,TV&Video|Accessories|Cables|SpeakerCables",
          "Electronics|HomeTheater,TV&Video|Accessories|RemoteControls",
          "Electronics|HomeTheater,TV&Video|Accessories|TVMounts,Stands&Turntables|TVWall&CeilingMounts",
          "Electronics|HomeTheater,TV&Video|Projectors",
          "Electronics|HomeTheater,TV&Video|SatelliteEquipment|SatelliteReceivers",
          "Electronics|HomeTheater,TV&Video|Televisions|SmartTelevisions",
          "Electronics|HomeTheater,TV&Video|Televisions|StandardTelevisions",
          "Electronics|Mobiles&Accessories|MobileAccessories|AutomobileAccessories|Cradles",
          "Electronics|Mobiles&Accessories|MobileAccessories|Cables&Adapters|OTGAdapters",
          "Electronics|Mobiles&Accessories|MobileAccessories|Cases&Covers|BasicCases",
          "Electronics|Mobiles&Accessories|MobileAccessories|Chargers|AutomobileChargers",
          "Electronics|Mobiles&Accessories|MobileAccessories|Chargers|PowerBanks",
          "Electronics|Mobiles&Accessories|MobileAccessories|Chargers|WallChargers",
          "Electronics|Mobiles&Accessories|MobileAccessories|Décor",
          "Electronics|Mobiles&Accessories|MobileAccessories|Décor|PhoneCharms",
          "Electronics|Mobiles&Accessories|MobileAccessories|Maintenance,Upkeep&Repairs|ScreenProtectors",
          "Electronics|Mobiles&Accessories|MobileAccessories|Mounts|Bedstand&DeskMounts",
          "Electronics|Mobiles&Accessories|MobileAccessories|Mounts|HandlebarMounts",
          "Electronics|Mobiles&Accessories|MobileAccessories|Mounts|Shower&WallMounts",
          "Electronics|Mobiles&Accessories|MobileAccessories|Photo&VideoAccessories|Flashes&SelfieLights|SelfieLights",
          "Electronics|Mobiles&Accessories|MobileAccessories|Photo&VideoAccessories|SelfieSticks",
          "Electronics|Mobiles&Accessories|MobileAccessories|Photo&VideoAccessories|Tripods",
          "Electronics|Mobiles&Accessories|MobileAccessories|Stands",
          "Electronics|Mobiles&Accessories|MobileAccessories|StylusPens",
          "Electronics|Mobiles&Accessories|Smartphones&BasicMobiles|BasicMobiles",
          "Electronics|Mobiles&Accessories|Smartphones&BasicMobiles|Smartphones",
          "Electronics|PowerAccessories|SurgeProtectors",
          "Electronics|WearableTechnology|SmartWatches",
          "Health&PersonalCare|HomeMedicalSupplies&Equipment|HealthMonitors|WeighingScales|DigitalBathroomScales",
          "Home&Kitchen|CraftMaterials|DrawingMaterials|DrawingMedia|Pencils|WoodenPencils",
          "Home&Kitchen|CraftMaterials|DrawingMaterials|DrawingMedia|Pens",
          "Home&Kitchen|CraftMaterials|PaintingMaterials",
          "Home&Kitchen|CraftMaterials|PaintingMaterials|Paints",
          "Home&Kitchen|CraftMaterials|Scrapbooking|Tape",
          "Home&Kitchen|Heating,Cooling&AirQuality|AirConditioners|Split-SystemAirConditioners",
          "Home&Kitchen|Heating,Cooling&AirQuality|AirPurifiers|HEPAAirPurifiers",
          "Home&Kitchen|Heating,Cooling&AirQuality|Fans|CeilingFans",
          "Home&Kitchen|Heating,Cooling&AirQuality|Fans|ExhaustFans",
          "Home&Kitchen|Heating,Cooling&AirQuality|Fans|PedestalFans",
          "Home&Kitchen|Heating,Cooling&AirQuality|Fans|TableFans",
          "Home&Kitchen|Heating,Cooling&AirQuality|Humidifiers",
          "Home&Kitchen|Heating,Cooling&AirQuality|Parts&Accessories|FanParts&Accessories",
          "Home&Kitchen|Heating,Cooling&AirQuality|RoomHeaters",
          "Home&Kitchen|Heating,Cooling&AirQuality|RoomHeaters|ElectricHeaters",
          "Home&Kitchen|Heating,Cooling&AirQuality|RoomHeaters|FanHeaters",
          "Home&Kitchen|Heating,Cooling&AirQuality|RoomHeaters|HalogenHeaters",
          "Home&Kitchen|Heating,Cooling&AirQuality|RoomHeaters|HeatConvectors",
          "Home&Kitchen|Heating,Cooling&AirQuality|WaterHeaters&Geysers|ImmersionRods",
          "Home&Kitchen|Heating,Cooling&AirQuality|WaterHeaters&Geysers|InstantWaterHeaters",
          "Home&Kitchen|Heating,Cooling&AirQuality|WaterHeaters&Geysers|StorageWaterHeaters",
          "Home&Kitchen|HomeStorage&Organization|LaundryOrganization|IroningAccessories|SprayBottles",
          "Home&Kitchen|HomeStorage&Organization|LaundryOrganization|LaundryBags",
          "Home&Kitchen|HomeStorage&Organization|LaundryOrganization|LaundryBaskets",
          "Home&Kitchen|Kitchen&Dining|KitchenTools|ManualChoppers&Chippers|Choppers",
          "Home&Kitchen|Kitchen&HomeAppliances|Coffee,Tea&Espresso|CoffeeGrinders|ElectricGrinders",
          "Home&Kitchen|Kitchen&HomeAppliances|Coffee,Tea&Espresso|CoffeeMakerAccessories|MeasuringSpoons",
          "Home&Kitchen|Kitchen&HomeAppliances|Coffee,Tea&Espresso|CoffeePresses",
          "Home&Kitchen|Kitchen&HomeAppliances|Coffee,Tea&Espresso|DripCoffeeMachines",
          "Home&Kitchen|Kitchen&HomeAppliances|Coffee,Tea&Espresso|EspressoMachines",
          "Home&Kitchen|Kitchen&HomeAppliances|Coffee,Tea&Espresso|MilkFrothers",
          "Home&Kitchen|Kitchen&HomeAppliances|Coffee,Tea&Espresso|StovetopEspressoPots",
          "Home&Kitchen|Kitchen&HomeAppliances|SewingMachines&Accessories|Sewing&EmbroideryMachines",
          "Home&Kitchen|Kitchen&HomeAppliances|SmallKitchenAppliances",
          "Home&Kitchen|Kitchen&HomeAppliances|SmallKitchenAppliances|DeepFatFryers|AirFryers",
          "Home&Kitchen|Kitchen&HomeAppliances|SmallKitchenAppliances|DigitalKitchenScales",
          "Home&Kitchen|Kitchen&HomeAppliances|SmallKitchenAppliances|DigitalKitchenScales|DigitalScales",
          "Home&Kitchen|Kitchen&HomeAppliances|SmallKitchenAppliances|EggBoilers",
          "Home&Kitchen|Kitchen&HomeAppliances|SmallKitchenAppliances|HandBlenders",
          "Home&Kitchen|Kitchen&HomeAppliances|SmallKitchenAppliances|HandMixers",
          "Home&Kitchen|Kitchen&HomeAppliances|SmallKitchenAppliances|InductionCooktop",
          "Home&Kitchen|Kitchen&HomeAppliances|SmallKitchenAppliances|JuicerMixerGrinders",
          "Home&Kitchen|Kitchen&HomeAppliances|SmallKitchenAppliances|Juicers",
          "Home&Kitchen|Kitchen&HomeAppliances|SmallKitchenAppliances|Juicers|ColdPressJuicers",
          "Home&Kitchen|Kitchen&HomeAppliances|SmallKitchenAppliances|Kettles&HotWaterDispensers|ElectricKettles",
          "Home&Kitchen|Kitchen&HomeAppliances|SmallKitchenAppliances|Kettles&HotWaterDispensers|Kettle&ToasterSets",
          "Home&Kitchen|Kitchen&HomeAppliances|SmallKitchenAppliances|Mills&Grinders|WetGrinders",
          "Home&Kitchen|Kitchen&HomeAppliances|SmallKitchenAppliances|MiniFoodProcessors&Choppers",
          "Home&Kitchen|Kitchen&HomeAppliances|SmallKitchenAppliances|MixerGrinders",
          "Home&Kitchen|Kitchen&HomeAppliances|SmallKitchenAppliances|OvenToasterGrills",
          "Home&Kitchen|Kitchen&HomeAppliances|SmallKitchenAppliances|Pop-upToasters",
          "Home&Kitchen|Kitchen&HomeAppliances|SmallKitchenAppliances|Rice&PastaCookers",
          "Home&Kitchen|Kitchen&HomeAppliances|SmallKitchenAppliances|RotiMakers",
          "Home&Kitchen|Kitchen&HomeAppliances|SmallKitchenAppliances|SandwichMakers",
          "Home&Kitchen|Kitchen&HomeAppliances|SmallKitchenAppliances|SmallApplianceParts&Accessories",
          "Home&Kitchen|Kitchen&HomeAppliances|SmallKitchenAppliances|SmallApplianceParts&Accessories|StandMixerAccessories",
          "Home&Kitchen|Kitchen&HomeAppliances|SmallKitchenAppliances|StandMixers",
          "Home&Kitchen|Kitchen&HomeAppliances|SmallKitchenAppliances|VacuumSealers",
          "Home&Kitchen|Kitchen&HomeAppliances|SmallKitchenAppliances|WaffleMakers&Irons",
          "Home&Kitchen|Kitchen&HomeAppliances|SmallKitchenAppliances|YogurtMakers",
          "Home&Kitchen|Kitchen&HomeAppliances|Vacuum,Cleaning&Ironing|Irons,Steamers&Accessories|Irons|DryIrons",
          "Home&Kitchen|Kitchen&HomeAppliances|Vacuum,Cleaning&Ironing|Irons,Steamers&Accessories|Irons|SteamIrons",
          "Home&Kitchen|Kitchen&HomeAppliances|Vacuum,Cleaning&Ironing|Irons,Steamers&Accessories|LintShavers",
          "Home&Kitchen|Kitchen&HomeAppliances|Vacuum,Cleaning&Ironing|PressureWashers,Steam&WindowCleaners",
          "Home&Kitchen|Kitchen&HomeAppliances|Vacuum,Cleaning&Ironing|Vacuums&FloorCare|VacuumAccessories|VacuumBags|HandheldBags",
          "Home&Kitchen|Kitchen&HomeAppliances|Vacuum,Cleaning&Ironing|Vacuums&FloorCare|Vacuums|CanisterVacuums",
          "Home&Kitchen|Kitchen&HomeAppliances|Vacuum,Cleaning&Ironing|Vacuums&FloorCare|Vacuums|HandheldVacuums",
          "Home&Kitchen|Kitchen&HomeAppliances|Vacuum,Cleaning&Ironing|Vacuums&FloorCare|Vacuums|RoboticVacuums",
          "Home&Kitchen|Kitchen&HomeAppliances|Vacuum,Cleaning&Ironing|Vacuums&FloorCare|Vacuums|Wet-DryVacuums",
          "Home&Kitchen|Kitchen&HomeAppliances|WaterPurifiers&Accessories|WaterCartridges",
          "Home&Kitchen|Kitchen&HomeAppliances|WaterPurifiers&Accessories|WaterFilters&Purifiers",
          "Home&Kitchen|Kitchen&HomeAppliances|WaterPurifiers&Accessories|WaterPurifierAccessories",
          "HomeImprovement|Electrical|Adapters&Multi-Outlets",
          "HomeImprovement|Electrical|CordManagement",
          "MusicalInstruments|Microphones|Condenser",
          "OfficeProducts|OfficeElectronics|Calculators|Basic",
          "OfficeProducts|OfficeElectronics|Calculators|Financial&Business",
          "OfficeProducts|OfficeElectronics|Calculators|Scientific",
          "OfficeProducts|OfficePaperProducts|Paper|Copy&PrintingPaper|ColouredPaper",
          "OfficeProducts|OfficePaperProducts|Paper|Stationery|Notebooks,WritingPads&Diaries",
          "OfficeProducts|OfficePaperProducts|Paper|Stationery|Notebooks,WritingPads&Diaries|CompositionNotebooks",
          "OfficeProducts|OfficePaperProducts|Paper|Stationery|Notebooks,WritingPads&Diaries|Notepads&MemoBooks",
          "OfficeProducts|OfficePaperProducts|Paper|Stationery|Notebooks,WritingPads&Diaries|WireboundNotebooks",
          "OfficeProducts|OfficePaperProducts|Paper|Stationery|Pens,Pencils&WritingSupplies|Pens&Refills|BottledInk",
          "OfficeProducts|OfficePaperProducts|Paper|Stationery|Pens,Pencils&WritingSupplies|Pens&Refills|FountainPens",
          "OfficeProducts|OfficePaperProducts|Paper|Stationery|Pens,Pencils&WritingSupplies|Pens&Refills|GelInkRollerballPens",
          "OfficeProducts|OfficePaperProducts|Paper|Stationery|Pens,Pencils&WritingSupplies|Pens&Refills|LiquidInkRollerballPens",
          "OfficeProducts|OfficePaperProducts|Paper|Stationery|Pens,Pencils&WritingSupplies|Pens&Refills|RetractableBallpointPens",
          "OfficeProducts|OfficePaperProducts|Paper|Stationery|Pens,Pencils&WritingSupplies|Pens&Refills|StickBallpointPens",
          "Toys&Games|Arts&Crafts|Drawing&PaintingSupplies|ColouringPens&Markers"
         ],
         "xaxis": "x",
         "y": [
          2615002,
          1530704,
          4687078,
          14763577,
          9613403,
          61336660,
          1142757,
          12563323,
          4310348,
          285133,
          1173914535.47,
          10182947,
          1459267,
          49921753,
          1248667,
          13629300,
          190811181,
          129161820,
          231390108,
          15492526,
          20749399,
          3245829,
          31966558,
          93172699,
          22994036,
          11758920,
          57310342,
          9413358,
          60207740,
          40667238,
          9092538,
          24971500,
          3815443,
          1495191,
          9364434,
          52068117,
          72038,
          182152541,
          46939648,
          1028957330,
          4259142,
          430083822,
          436299634,
          12030781,
          39175863,
          14047484,
          23536087,
          56974484,
          26881580,
          539196497,
          349578079,
          464471227,
          13523409,
          750483,
          1515930,
          155671859,
          73113678,
          77919114,
          979075648,
          31243665,
          12227605,
          7305168,
          2676375,
          4321917,
          23447213,
          25196059,
          10857352,
          10353442,
          459279898,
          1681131,
          45066772,
          41622318,
          19944022,
          1557840,
          1788808,
          58806,
          3072250754,
          630658363,
          107759209,
          3944248,
          1149955,
          1052576,
          252440732,
          3364258,
          83906020,
          22700459,
          648318,
          1785030,
          1676079,
          531590858,
          30963031,
          35890026,
          4824309,
          11255376,
          5924350,
          99728360,
          12954463,
          17407897834,
          98502095,
          29140111,
          2662684,
          5250489,
          34934569,
          1000372974,
          64749596,
          1952043,
          30195,
          44811728,
          1547759,
          821977,
          831260,
          24416329,
          12301786,
          7895272,
          25838198,
          109796694,
          745152003,
          29358697779,
          26641052,
          3581338185,
          3293037,
          498564,
          964620,
          2168210,
          5233193,
          1921140,
          138900690,
          161573747,
          243431473,
          39815569,
          11645219.32,
          5095163,
          9593785,
          2463276,
          24112200,
          40739981.79,
          59656638,
          1856543,
          4464534,
          59736350,
          335990699,
          443733991,
          535313,
          1230720,
          20909222.439999998,
          53842037,
          116632,
          2170644,
          1170435,
          3105285,
          18308185,
          4982343,
          353410,
          136764035,
          5499484,
          82331979,
          36217453,
          7747978,
          16630890,
          116169330,
          24982377,
          392972804,
          226370365,
          20022163,
          28849392,
          277685283,
          63671774,
          53119401.42,
          32932808,
          923009565.83,
          98777893,
          35304480,
          58744003,
          775612,
          100213754,
          1568640,
          2901950,
          3203466,
          7058652,
          2224227,
          326959,
          190802182,
          144990809,
          14997221,
          7345246,
          673992,
          306587749,
          43852547,
          195995664,
          179582143,
          21581414,
          685649791,
          15880887,
          1096925,
          1490265,
          64458076,
          3788400,
          2367910,
          13816638,
          38412,
          4938470,
          4826600,
          2518722,
          3962723,
          584990,
          1079550,
          946600,
          1366830,
          3181220,
          2369665,
          2380050
         ],
         "yaxis": "y"
        }
       ],
       "layout": {
        "barmode": "relative",
        "legend": {
         "tracegroupgap": 0
        },
        "template": {
         "data": {
          "bar": [
           {
            "error_x": {
             "color": "#2a3f5f"
            },
            "error_y": {
             "color": "#2a3f5f"
            },
            "marker": {
             "line": {
              "color": "#E5ECF6",
              "width": 0.5
             },
             "pattern": {
              "fillmode": "overlay",
              "size": 10,
              "solidity": 0.2
             }
            },
            "type": "bar"
           }
          ],
          "barpolar": [
           {
            "marker": {
             "line": {
              "color": "#E5ECF6",
              "width": 0.5
             },
             "pattern": {
              "fillmode": "overlay",
              "size": 10,
              "solidity": 0.2
             }
            },
            "type": "barpolar"
           }
          ],
          "carpet": [
           {
            "aaxis": {
             "endlinecolor": "#2a3f5f",
             "gridcolor": "white",
             "linecolor": "white",
             "minorgridcolor": "white",
             "startlinecolor": "#2a3f5f"
            },
            "baxis": {
             "endlinecolor": "#2a3f5f",
             "gridcolor": "white",
             "linecolor": "white",
             "minorgridcolor": "white",
             "startlinecolor": "#2a3f5f"
            },
            "type": "carpet"
           }
          ],
          "choropleth": [
           {
            "colorbar": {
             "outlinewidth": 0,
             "ticks": ""
            },
            "type": "choropleth"
           }
          ],
          "contour": [
           {
            "colorbar": {
             "outlinewidth": 0,
             "ticks": ""
            },
            "colorscale": [
             [
              0,
              "#0d0887"
             ],
             [
              0.1111111111111111,
              "#46039f"
             ],
             [
              0.2222222222222222,
              "#7201a8"
             ],
             [
              0.3333333333333333,
              "#9c179e"
             ],
             [
              0.4444444444444444,
              "#bd3786"
             ],
             [
              0.5555555555555556,
              "#d8576b"
             ],
             [
              0.6666666666666666,
              "#ed7953"
             ],
             [
              0.7777777777777778,
              "#fb9f3a"
             ],
             [
              0.8888888888888888,
              "#fdca26"
             ],
             [
              1,
              "#f0f921"
             ]
            ],
            "type": "contour"
           }
          ],
          "contourcarpet": [
           {
            "colorbar": {
             "outlinewidth": 0,
             "ticks": ""
            },
            "type": "contourcarpet"
           }
          ],
          "heatmap": [
           {
            "colorbar": {
             "outlinewidth": 0,
             "ticks": ""
            },
            "colorscale": [
             [
              0,
              "#0d0887"
             ],
             [
              0.1111111111111111,
              "#46039f"
             ],
             [
              0.2222222222222222,
              "#7201a8"
             ],
             [
              0.3333333333333333,
              "#9c179e"
             ],
             [
              0.4444444444444444,
              "#bd3786"
             ],
             [
              0.5555555555555556,
              "#d8576b"
             ],
             [
              0.6666666666666666,
              "#ed7953"
             ],
             [
              0.7777777777777778,
              "#fb9f3a"
             ],
             [
              0.8888888888888888,
              "#fdca26"
             ],
             [
              1,
              "#f0f921"
             ]
            ],
            "type": "heatmap"
           }
          ],
          "heatmapgl": [
           {
            "colorbar": {
             "outlinewidth": 0,
             "ticks": ""
            },
            "colorscale": [
             [
              0,
              "#0d0887"
             ],
             [
              0.1111111111111111,
              "#46039f"
             ],
             [
              0.2222222222222222,
              "#7201a8"
             ],
             [
              0.3333333333333333,
              "#9c179e"
             ],
             [
              0.4444444444444444,
              "#bd3786"
             ],
             [
              0.5555555555555556,
              "#d8576b"
             ],
             [
              0.6666666666666666,
              "#ed7953"
             ],
             [
              0.7777777777777778,
              "#fb9f3a"
             ],
             [
              0.8888888888888888,
              "#fdca26"
             ],
             [
              1,
              "#f0f921"
             ]
            ],
            "type": "heatmapgl"
           }
          ],
          "histogram": [
           {
            "marker": {
             "pattern": {
              "fillmode": "overlay",
              "size": 10,
              "solidity": 0.2
             }
            },
            "type": "histogram"
           }
          ],
          "histogram2d": [
           {
            "colorbar": {
             "outlinewidth": 0,
             "ticks": ""
            },
            "colorscale": [
             [
              0,
              "#0d0887"
             ],
             [
              0.1111111111111111,
              "#46039f"
             ],
             [
              0.2222222222222222,
              "#7201a8"
             ],
             [
              0.3333333333333333,
              "#9c179e"
             ],
             [
              0.4444444444444444,
              "#bd3786"
             ],
             [
              0.5555555555555556,
              "#d8576b"
             ],
             [
              0.6666666666666666,
              "#ed7953"
             ],
             [
              0.7777777777777778,
              "#fb9f3a"
             ],
             [
              0.8888888888888888,
              "#fdca26"
             ],
             [
              1,
              "#f0f921"
             ]
            ],
            "type": "histogram2d"
           }
          ],
          "histogram2dcontour": [
           {
            "colorbar": {
             "outlinewidth": 0,
             "ticks": ""
            },
            "colorscale": [
             [
              0,
              "#0d0887"
             ],
             [
              0.1111111111111111,
              "#46039f"
             ],
             [
              0.2222222222222222,
              "#7201a8"
             ],
             [
              0.3333333333333333,
              "#9c179e"
             ],
             [
              0.4444444444444444,
              "#bd3786"
             ],
             [
              0.5555555555555556,
              "#d8576b"
             ],
             [
              0.6666666666666666,
              "#ed7953"
             ],
             [
              0.7777777777777778,
              "#fb9f3a"
             ],
             [
              0.8888888888888888,
              "#fdca26"
             ],
             [
              1,
              "#f0f921"
             ]
            ],
            "type": "histogram2dcontour"
           }
          ],
          "mesh3d": [
           {
            "colorbar": {
             "outlinewidth": 0,
             "ticks": ""
            },
            "type": "mesh3d"
           }
          ],
          "parcoords": [
           {
            "line": {
             "colorbar": {
              "outlinewidth": 0,
              "ticks": ""
             }
            },
            "type": "parcoords"
           }
          ],
          "pie": [
           {
            "automargin": true,
            "type": "pie"
           }
          ],
          "scatter": [
           {
            "fillpattern": {
             "fillmode": "overlay",
             "size": 10,
             "solidity": 0.2
            },
            "type": "scatter"
           }
          ],
          "scatter3d": [
           {
            "line": {
             "colorbar": {
              "outlinewidth": 0,
              "ticks": ""
             }
            },
            "marker": {
             "colorbar": {
              "outlinewidth": 0,
              "ticks": ""
             }
            },
            "type": "scatter3d"
           }
          ],
          "scattercarpet": [
           {
            "marker": {
             "colorbar": {
              "outlinewidth": 0,
              "ticks": ""
             }
            },
            "type": "scattercarpet"
           }
          ],
          "scattergeo": [
           {
            "marker": {
             "colorbar": {
              "outlinewidth": 0,
              "ticks": ""
             }
            },
            "type": "scattergeo"
           }
          ],
          "scattergl": [
           {
            "marker": {
             "colorbar": {
              "outlinewidth": 0,
              "ticks": ""
             }
            },
            "type": "scattergl"
           }
          ],
          "scattermapbox": [
           {
            "marker": {
             "colorbar": {
              "outlinewidth": 0,
              "ticks": ""
             }
            },
            "type": "scattermapbox"
           }
          ],
          "scatterpolar": [
           {
            "marker": {
             "colorbar": {
              "outlinewidth": 0,
              "ticks": ""
             }
            },
            "type": "scatterpolar"
           }
          ],
          "scatterpolargl": [
           {
            "marker": {
             "colorbar": {
              "outlinewidth": 0,
              "ticks": ""
             }
            },
            "type": "scatterpolargl"
           }
          ],
          "scatterternary": [
           {
            "marker": {
             "colorbar": {
              "outlinewidth": 0,
              "ticks": ""
             }
            },
            "type": "scatterternary"
           }
          ],
          "surface": [
           {
            "colorbar": {
             "outlinewidth": 0,
             "ticks": ""
            },
            "colorscale": [
             [
              0,
              "#0d0887"
             ],
             [
              0.1111111111111111,
              "#46039f"
             ],
             [
              0.2222222222222222,
              "#7201a8"
             ],
             [
              0.3333333333333333,
              "#9c179e"
             ],
             [
              0.4444444444444444,
              "#bd3786"
             ],
             [
              0.5555555555555556,
              "#d8576b"
             ],
             [
              0.6666666666666666,
              "#ed7953"
             ],
             [
              0.7777777777777778,
              "#fb9f3a"
             ],
             [
              0.8888888888888888,
              "#fdca26"
             ],
             [
              1,
              "#f0f921"
             ]
            ],
            "type": "surface"
           }
          ],
          "table": [
           {
            "cells": {
             "fill": {
              "color": "#EBF0F8"
             },
             "line": {
              "color": "white"
             }
            },
            "header": {
             "fill": {
              "color": "#C8D4E3"
             },
             "line": {
              "color": "white"
             }
            },
            "type": "table"
           }
          ]
         },
         "layout": {
          "annotationdefaults": {
           "arrowcolor": "#2a3f5f",
           "arrowhead": 0,
           "arrowwidth": 1
          },
          "autotypenumbers": "strict",
          "coloraxis": {
           "colorbar": {
            "outlinewidth": 0,
            "ticks": ""
           }
          },
          "colorscale": {
           "diverging": [
            [
             0,
             "#8e0152"
            ],
            [
             0.1,
             "#c51b7d"
            ],
            [
             0.2,
             "#de77ae"
            ],
            [
             0.3,
             "#f1b6da"
            ],
            [
             0.4,
             "#fde0ef"
            ],
            [
             0.5,
             "#f7f7f7"
            ],
            [
             0.6,
             "#e6f5d0"
            ],
            [
             0.7,
             "#b8e186"
            ],
            [
             0.8,
             "#7fbc41"
            ],
            [
             0.9,
             "#4d9221"
            ],
            [
             1,
             "#276419"
            ]
           ],
           "sequential": [
            [
             0,
             "#0d0887"
            ],
            [
             0.1111111111111111,
             "#46039f"
            ],
            [
             0.2222222222222222,
             "#7201a8"
            ],
            [
             0.3333333333333333,
             "#9c179e"
            ],
            [
             0.4444444444444444,
             "#bd3786"
            ],
            [
             0.5555555555555556,
             "#d8576b"
            ],
            [
             0.6666666666666666,
             "#ed7953"
            ],
            [
             0.7777777777777778,
             "#fb9f3a"
            ],
            [
             0.8888888888888888,
             "#fdca26"
            ],
            [
             1,
             "#f0f921"
            ]
           ],
           "sequentialminus": [
            [
             0,
             "#0d0887"
            ],
            [
             0.1111111111111111,
             "#46039f"
            ],
            [
             0.2222222222222222,
             "#7201a8"
            ],
            [
             0.3333333333333333,
             "#9c179e"
            ],
            [
             0.4444444444444444,
             "#bd3786"
            ],
            [
             0.5555555555555556,
             "#d8576b"
            ],
            [
             0.6666666666666666,
             "#ed7953"
            ],
            [
             0.7777777777777778,
             "#fb9f3a"
            ],
            [
             0.8888888888888888,
             "#fdca26"
            ],
            [
             1,
             "#f0f921"
            ]
           ]
          },
          "colorway": [
           "#636efa",
           "#EF553B",
           "#00cc96",
           "#ab63fa",
           "#FFA15A",
           "#19d3f3",
           "#FF6692",
           "#B6E880",
           "#FF97FF",
           "#FECB52"
          ],
          "font": {
           "color": "#2a3f5f"
          },
          "geo": {
           "bgcolor": "white",
           "lakecolor": "white",
           "landcolor": "#E5ECF6",
           "showlakes": true,
           "showland": true,
           "subunitcolor": "white"
          },
          "hoverlabel": {
           "align": "left"
          },
          "hovermode": "closest",
          "mapbox": {
           "style": "light"
          },
          "paper_bgcolor": "white",
          "plot_bgcolor": "#E5ECF6",
          "polar": {
           "angularaxis": {
            "gridcolor": "white",
            "linecolor": "white",
            "ticks": ""
           },
           "bgcolor": "#E5ECF6",
           "radialaxis": {
            "gridcolor": "white",
            "linecolor": "white",
            "ticks": ""
           }
          },
          "scene": {
           "xaxis": {
            "backgroundcolor": "#E5ECF6",
            "gridcolor": "white",
            "gridwidth": 2,
            "linecolor": "white",
            "showbackground": true,
            "ticks": "",
            "zerolinecolor": "white"
           },
           "yaxis": {
            "backgroundcolor": "#E5ECF6",
            "gridcolor": "white",
            "gridwidth": 2,
            "linecolor": "white",
            "showbackground": true,
            "ticks": "",
            "zerolinecolor": "white"
           },
           "zaxis": {
            "backgroundcolor": "#E5ECF6",
            "gridcolor": "white",
            "gridwidth": 2,
            "linecolor": "white",
            "showbackground": true,
            "ticks": "",
            "zerolinecolor": "white"
           }
          },
          "shapedefaults": {
           "line": {
            "color": "#2a3f5f"
           }
          },
          "ternary": {
           "aaxis": {
            "gridcolor": "white",
            "linecolor": "white",
            "ticks": ""
           },
           "baxis": {
            "gridcolor": "white",
            "linecolor": "white",
            "ticks": ""
           },
           "bgcolor": "#E5ECF6",
           "caxis": {
            "gridcolor": "white",
            "linecolor": "white",
            "ticks": ""
           }
          },
          "title": {
           "x": 0.05
          },
          "xaxis": {
           "automargin": true,
           "gridcolor": "white",
           "linecolor": "white",
           "ticks": "",
           "title": {
            "standoff": 15
           },
           "zerolinecolor": "white",
           "zerolinewidth": 2
          },
          "yaxis": {
           "automargin": true,
           "gridcolor": "white",
           "linecolor": "white",
           "ticks": "",
           "title": {
            "standoff": 15
           },
           "zerolinecolor": "white",
           "zerolinewidth": 2
          }
         }
        },
        "title": {
         "text": "Revenue by Product Category"
        },
        "xaxis": {
         "anchor": "y",
         "domain": [
          0,
          1
         ],
         "title": {
          "text": "category"
         }
        },
        "yaxis": {
         "anchor": "x",
         "domain": [
          0,
          1
         ],
         "title": {
          "text": "revenue"
         }
        }
       }
      }
     },
     "metadata": {},
     "output_type": "display_data"
    }
   ],
   "source": [
    "category_revenue = df.groupby('category')['revenue'].sum().reset_index()\n",
    "\n",
    "fig = px.bar(category_revenue, x='category', y='revenue', title='Revenue by Product Category')\n",
    "fig.show()\n"
   ]
  },
  {
   "cell_type": "markdown",
   "metadata": {},
   "source": [
    "### Is there a correlation between discount percentage and sales revenue?"
   ]
  },
  {
   "cell_type": "code",
   "execution_count": 19,
   "metadata": {},
   "outputs": [
    {
     "data": {
      "application/vnd.plotly.v1+json": {
       "config": {
        "plotlyServerURL": "https://plot.ly"
       },
       "data": [
        {
         "hovertemplate": "discount_percentage=%{x}<br>revenue=%{y}<extra></extra>",
         "legendgroup": "",
         "marker": {
          "color": "#636efa",
          "symbol": "circle"
         },
         "mode": "markers",
         "name": "",
         "showlegend": false,
         "type": "scattergl",
         "x": [
          0.64,
          0.43,
          0.9,
          0.53,
          0.61,
          0.85,
          0.65,
          0.23,
          0.5,
          0.33,
          0.55,
          0.63,
          0.69,
          0.61,
          0.6,
          0.13,
          0.44,
          0.38,
          0.6,
          0.39,
          0.46,
          0.44,
          0.41,
          0.7,
          0.42,
          0.72,
          0.25,
          0.25,
          0.51,
          0.7,
          0.73,
          0.64,
          0.65,
          0,
          0.8,
          0.85,
          0.53,
          0.8,
          0.28,
          0.51,
          0.7,
          0.43,
          0.64,
          0.38,
          0.7,
          0.67,
          0.58,
          0.35,
          0.6,
          0.5,
          0.45,
          0.64,
          0.62,
          0.46,
          0.43,
          0.54,
          0.54,
          0.27,
          0.77,
          0.56,
          0.78,
          0.31,
          0.86,
          0.61,
          0.44,
          0.78,
          0.62,
          0.47,
          0.47,
          0.69,
          0.61,
          0.42,
          0.37,
          0.77,
          0.6,
          0.6,
          0.55,
          0.65,
          0.58,
          0.64,
          0.64,
          0.44,
          0.62,
          0.63,
          0.75,
          0.25,
          0.32,
          0.41,
          0.8,
          0.68,
          0.66,
          0.22,
          0.57,
          0.8,
          0.54,
          0.17,
          0.69,
          0.65,
          0.42,
          0.52,
          0.77,
          0.53,
          0.67,
          0.27,
          0.65,
          0.6,
          0.65,
          0.7,
          0.42,
          0.88,
          0.63,
          0.73,
          0.33,
          0.6,
          0.8,
          0.47,
          0.35,
          0.65,
          0.85,
          0.75,
          0.2,
          0.63,
          0.47,
          0.53,
          0.27,
          0.53,
          0.62,
          0.64,
          0.42,
          0.59,
          0.31,
          0.6,
          0.73,
          0.4,
          0.54,
          0.38,
          0.73,
          0.58,
          0,
          0.5,
          0.64,
          0.43,
          0.4,
          0.44,
          0.23,
          0.61,
          0.52,
          0.44,
          0.31,
          0.47,
          0.54,
          0.69,
          0.26,
          0.62,
          0.38,
          0.5,
          0.25,
          0.41,
          0.58,
          0.56,
          0.32,
          0.66,
          0.7,
          0.63,
          0.29,
          0.75,
          0.69,
          0.83,
          0.46,
          0.38,
          0.44,
          0.31,
          0.63,
          0.67,
          0.8,
          0.6,
          0.71,
          0.64,
          0.71,
          0.6,
          0.59,
          0.57,
          0.15,
          0.53,
          0.58,
          0.38,
          0.53,
          0.66,
          0.53,
          0.76,
          0.48,
          0.65,
          0.32,
          0.75,
          0.47,
          0.75,
          0.48,
          0.31,
          0.41,
          0.55,
          0.82,
          0.63,
          0.66,
          0.65,
          0.22,
          0.25,
          0.63,
          0.42,
          0.75,
          0.66,
          0.35,
          0.61,
          0.63,
          0.6,
          0.7,
          0.59,
          0.28,
          0.83,
          0.65,
          0.43,
          0.68,
          0.67,
          0.5,
          0.5,
          0.46,
          0.57,
          0.58,
          0.88,
          0.54,
          0.73,
          0.55,
          0.36,
          0.42,
          0.75,
          0.77,
          0.29,
          0.56,
          0.59,
          0.68,
          0.5,
          0.55,
          0.66,
          0.6,
          0.5,
          0.83,
          0.63,
          0.89,
          0.45,
          0.87,
          0.44,
          0.56,
          0.44,
          0.63,
          0.7,
          0.76,
          0.35,
          0.42,
          0.7,
          0.63,
          0.61,
          0.57,
          0.7,
          0.35,
          0.6,
          0,
          0.24,
          0.8,
          0.59,
          0.36,
          0.43,
          0.28,
          0.65,
          0.52,
          0.53,
          0.6,
          0.6,
          0.34,
          0.6,
          0.27,
          0.5,
          0.37,
          0.38,
          0.8,
          0.4,
          0.57,
          0.88,
          0.46,
          0.75,
          0.5,
          0.59,
          0.48,
          0.59,
          0.4,
          0.7,
          0.61,
          0.41,
          0.5,
          0.5,
          0.59,
          0.52,
          0.71,
          0.62,
          0.63,
          0.78,
          0.8,
          0.45,
          0.37,
          0.15,
          0.45,
          0.66,
          0.35,
          0.63,
          0.23,
          0.78,
          0.61,
          0.59,
          0.63,
          0.38,
          0.54,
          0.6,
          0.5,
          0,
          0.57,
          0.52,
          0.75,
          0.11,
          0.51,
          0.46,
          0.65,
          0.61,
          0.48,
          0.2,
          0.33,
          0.63,
          0.91,
          0.8,
          0.75,
          0.07,
          0.28,
          0,
          0,
          0.28,
          0.28,
          0.43,
          0.62,
          0.19,
          0.79,
          0.4,
          0.21,
          0.76,
          0.25,
          0.73,
          0.65,
          0.47,
          0.21,
          0.4,
          0.48,
          0.65,
          0.28,
          0.6,
          0.81,
          0.29,
          0.47,
          0.28,
          0.91,
          0.78,
          0.32,
          0.21,
          0.91,
          0.64,
          0.23,
          0.24,
          0.91,
          0.25,
          0.72,
          0.76,
          0.5,
          0.43,
          0.18,
          0.8,
          0.91,
          0.25,
          0.49,
          0.19,
          0.66,
          0.8,
          0.26,
          0.2,
          0.37,
          0.43,
          0.5,
          0.75,
          0.53,
          0.61,
          0.17,
          0.71,
          0.8,
          0.71,
          0.65,
          0.28,
          0.62,
          0.3,
          0.6,
          0.85,
          0.8,
          0.7,
          0,
          0.9,
          0.84,
          0.27,
          0.1,
          0.32,
          0.6,
          0.38,
          0.19,
          0.67,
          0.68,
          0.28,
          0.65,
          0.27,
          0.62,
          0.75,
          0.23,
          0.33,
          0.35,
          0.28,
          0.6,
          0.28,
          0.55,
          0.22,
          0.62,
          0.42,
          0.76,
          0.77,
          0.26,
          0.18,
          0.21,
          0.6,
          0.81,
          0.06,
          0.48,
          0.22,
          0.3,
          0.63,
          0.38,
          0.28,
          0.26,
          0.66,
          0.68,
          0.22,
          0.3,
          0.5,
          0.22,
          0.18,
          0.61,
          0.14,
          0.6,
          0.79,
          0.75,
          0.66,
          0.65,
          0.52,
          0.62,
          0.78,
          0.13,
          0.21,
          0,
          0.46,
          0.66,
          0.22,
          0.38,
          0.75,
          0.6,
          0.19,
          0.7,
          0.81,
          0.82,
          0.33,
          0.7,
          0.54,
          0.65,
          0.28,
          0.65,
          0.17,
          0.78,
          0.81,
          0.44,
          0.44,
          0.85,
          0.26,
          0.13,
          0.6,
          0.77,
          0.4,
          0.82,
          0.74,
          0.79,
          0.3,
          0.04,
          0.19,
          0.29,
          0.32,
          0.5,
          0.7,
          0.51,
          0.67,
          0.78,
          0.43,
          0.8,
          0.32,
          0.7,
          0.19,
          0.76,
          0.29,
          0.85,
          0.58,
          0.14,
          0.85,
          0.53,
          0.58,
          0.75,
          0.84,
          0.13,
          0.05,
          0.8,
          0.69,
          0.66,
          0.74,
          0.7,
          0.58,
          0.35,
          0.46,
          0.19,
          0.1,
          0.13,
          0.57,
          0.53,
          0.73,
          0.8,
          0,
          0.62,
          0.28,
          0.9,
          0.27,
          0.25,
          0.86,
          0.33,
          0.75,
          0.5,
          0.74,
          0.74,
          0.54,
          0.88,
          0.43,
          0.32,
          0.38,
          0.42,
          0.9,
          0.21,
          0.81,
          0.16,
          0.75,
          0.69,
          0.74,
          0.77,
          0.6,
          0.21,
          0.73,
          0.49,
          0.6,
          0.55,
          0.55,
          0.29,
          0.5,
          0.78,
          0.56,
          0.57,
          0.17,
          0.82,
          0.75,
          0.79,
          0.28,
          0.72,
          0.63,
          0.63,
          0.67,
          0.8,
          0.77,
          0.56,
          0.33,
          0.08,
          0.57,
          0.62,
          0.43,
          0.6,
          0.65,
          0.77,
          0.63,
          0.4,
          0.69,
          0.79,
          0.5,
          0.9,
          0.73,
          0.68,
          0.59,
          0.5,
          0.6,
          0.81,
          0.67,
          0.69,
          0.78,
          0.54,
          0.6,
          0.64,
          0.16,
          0,
          0.21,
          0.65,
          0.76,
          0.69,
          0.44,
          0.43,
          0.8,
          0.5,
          0.18,
          0.75,
          0.33,
          0.53,
          0.3,
          0.8,
          0.75,
          0.61,
          0.62,
          0.71,
          0.8,
          0.62,
          0,
          0.66,
          0.69,
          0.6,
          0.74,
          0.85,
          0.06,
          0.9,
          0.87,
          0.64,
          0.76,
          0.56,
          0.83,
          0.17,
          0.27,
          0.15,
          0.87,
          0.67,
          0.78,
          0.8,
          0.28,
          0.65,
          0.05,
          0.6,
          0.43,
          0.66,
          0.5,
          0.64,
          0.28,
          0.8,
          0.18,
          0.23,
          0.54,
          0.52,
          0.54,
          0.6,
          0.55,
          0.1,
          0.56,
          0.6,
          0.62,
          0.43,
          0.24,
          0.57,
          0.5,
          0.55,
          0.38,
          0.69,
          0.02,
          0.77,
          0.33,
          0.2,
          0.61,
          0.47,
          0.33,
          0.6,
          0.57,
          0.68,
          0.94,
          0.04,
          0.06,
          0.38,
          0.13,
          0.46,
          0.41,
          0.75,
          0,
          0.7,
          0.6,
          0.63,
          0.15,
          0.47,
          0.54,
          0,
          0.43,
          0.45,
          0.65,
          0.39,
          0.36,
          0.5,
          0.4,
          0.59,
          0.24,
          0.8,
          0.2,
          0.44,
          0.41,
          0.26,
          0.5,
          0.14,
          0.7,
          0.4,
          0.55,
          0.33,
          0.72,
          0.73,
          0.58,
          0.3,
          0.81,
          0.32,
          0.25,
          0.83,
          0,
          0.65,
          0.85,
          0.63,
          0.71,
          0.64,
          0.7,
          0.43,
          0.25,
          0.53,
          0.75,
          0.12,
          0.54,
          0.43,
          0.55,
          0.55,
          0.45,
          0.36,
          0,
          0.8,
          0.28,
          0.3,
          0.2,
          0.14,
          0.19,
          0.56,
          0.2,
          0.74,
          0.6,
          0.25,
          0.66,
          0.39,
          0.7,
          0.6,
          0.8,
          0.8,
          0.5,
          0.49,
          0.2,
          0.31,
          0.66,
          0.85,
          0.85,
          0.73,
          0.1,
          0.51,
          0.57,
          0.77,
          0.76,
          0.44,
          0.51,
          0.22,
          0.51,
          0.7,
          0.24,
          0.23,
          0.38,
          0.55,
          0.5,
          0.77,
          0.4,
          0.32,
          0.44,
          0.73,
          0.7,
          0.64,
          0.57,
          0.6,
          0.62,
          0,
          0.5,
          0.41,
          0.11,
          0.3,
          0.67,
          0.5,
          0.28,
          0.38,
          0.59,
          0.64,
          0.22,
          0.46,
          0.55,
          0.21,
          0.65,
          0.38,
          0.49,
          0,
          0.75,
          0.35,
          0.64,
          0.41,
          0.65,
          0.42,
          0,
          0.22,
          0.21,
          0.8,
          0,
          0.6,
          0.53,
          0.8,
          0.85,
          0.69,
          0.38,
          0.43,
          0.18,
          0.62,
          0.25,
          0.63,
          0.05,
          0,
          0.51,
          0.7,
          0.35,
          0,
          0.4,
          0.79,
          0.67,
          0.15,
          0.54,
          0.62,
          0.6,
          0.58,
          0.8,
          0.48,
          0.75,
          0.5,
          0.82,
          0.02,
          0.38,
          0.88,
          0.65,
          0.57,
          0.08,
          0.5,
          0.7,
          0.3,
          0.66,
          0.1,
          0.43,
          0.4,
          0.58,
          0.53,
          0.63,
          0.78,
          0.5,
          0.21,
          0,
          0,
          0.23,
          0.62,
          0.76,
          0.57,
          0,
          0.45,
          0.1,
          0.66,
          0.25,
          0.62,
          0.25,
          0.65,
          0.64,
          0.38,
          0.42,
          0.13,
          0.55,
          0.35,
          0.24,
          0.43,
          0.18,
          0.58,
          0.6,
          0.69,
          0.42,
          0.25,
          0.34,
          0.74,
          0.23,
          0.53,
          0.15,
          0.9,
          0.1,
          0.47,
          0.55,
          0,
          0.77,
          0.6,
          0.56,
          0.56,
          0.53,
          0.16,
          0.76,
          0.78,
          0.75,
          0.36,
          0.68,
          0.5,
          0.4,
          0.86,
          0.56,
          0.36,
          0.73,
          0.58,
          0.61,
          0.66,
          0.25,
          0.8,
          0.75,
          0.53,
          0.46,
          0,
          0.5,
          0,
          0.44,
          0.76,
          0.24,
          0.38,
          0.42,
          0.16,
          0.42,
          0.48,
          0.59,
          0.88,
          0.34,
          0.31,
          0,
          0.17,
          0.17,
          0.62,
          0.34,
          0.14,
          0,
          0.51,
          0.69,
          0.69,
          0,
          0.29,
          0.25,
          0.8,
          0.61,
          0.5,
          0.79,
          0.58,
          0.77,
          0,
          0.6,
          0.14,
          0.48,
          0.73,
          0.62,
          0.6,
          0.47,
          0.55,
          0.1,
          0.55,
          0.36,
          0.5,
          0,
          0.56,
          0.7,
          0.58,
          0.27,
          0,
          0.57,
          0,
          0,
          0.75,
          0.55,
          0.13,
          0.46,
          0.75,
          0.65,
          0.05,
          0.64,
          0.38,
          0.66,
          0.6,
          0.63,
          0.8,
          0.66,
          0.7,
          0.5,
          0.48,
          0.29,
          0.4,
          0.54,
          0.9,
          0.41,
          0.6,
          0.4,
          0.1,
          0.48,
          0.47,
          0.22,
          0.5,
          0.11,
          0.5,
          0.55,
          0.48,
          0.42,
          0.53,
          0.46,
          0.56,
          0.4,
          0.58,
          0.63,
          0.24,
          0.38,
          0.45,
          0.5,
          0.8,
          0.25,
          0.56,
          0.41,
          0.55,
          0.65,
          0.08,
          0.44,
          0.55,
          0.48,
          0.61,
          0.12,
          0.37,
          0.21,
          0.39,
          0.5,
          0.26,
          0.34,
          0.4,
          0.62,
          0.54,
          0.42,
          0,
          0.5,
          0.55,
          0.14,
          0.45,
          0.11,
          0.59,
          0.24,
          0.6,
          0.46,
          0.39,
          0.33,
          0.4,
          0.27,
          0.37,
          0.48,
          0.65,
          0.38,
          0.47,
          0.48,
          0.34,
          0.6,
          0,
          0.44,
          0.61,
          0.34,
          0.26,
          0.28,
          0.5,
          0.51,
          0.2,
          0.36,
          0.47,
          0.14,
          0.16,
          0.71,
          0.42,
          0.24,
          0.23,
          0,
          0.35,
          0.26,
          0.14,
          0.11,
          0.54,
          0.51,
          0.18,
          0.57,
          0.16,
          0.71,
          0.39,
          0.4,
          0.33,
          0.35,
          0.41,
          0.46,
          0,
          0,
          0.48,
          0.62,
          0.47,
          0.36,
          0.45,
          0.2,
          0.48,
          0.29,
          0.6,
          0.26,
          0.33,
          0.1,
          0.55,
          0.59,
          0.31,
          0.28,
          0.2,
          0.62,
          0.48,
          0.38,
          0.41,
          0.52,
          0.18,
          0.78,
          0.31,
          0.48,
          0.48,
          0.42,
          0.51,
          0.45,
          0.55,
          0,
          0.47,
          0.43,
          0.52,
          0,
          0.51,
          0.32,
          0.47,
          0.39,
          0.49,
          0.49,
          0.4,
          0.23,
          0,
          0.31,
          0.6,
          0.4,
          0.2,
          0.47,
          0.79,
          0,
          0.76,
          0.11,
          0.35,
          0.49,
          0.6,
          0.42,
          0.55,
          0.26,
          0.24,
          0.41,
          0.36,
          0.49,
          0.74,
          0.58,
          0.29,
          0.37,
          0.38,
          0.6,
          0.64,
          0.44,
          0.58,
          0.35,
          0.53,
          0.29,
          0.15,
          0.12,
          0.37,
          0.43,
          0.49,
          0.77,
          0.53,
          0.11,
          0.46,
          0.61,
          0.5,
          0.27,
          0.49,
          0.29,
          0.41,
          0.28,
          0,
          0.56,
          0.39,
          0.46,
          0.62,
          0.2,
          0.5,
          0.43,
          0.66,
          0.62,
          0.39,
          0.7,
          0.38,
          0.41,
          0.28,
          0.04,
          0.13,
          0.2,
          0.47,
          0.19,
          0.34,
          0.55,
          0.22,
          0.49,
          0.68,
          0.53,
          0.27,
          0.38,
          0.31,
          0.52,
          0.12,
          0.39,
          0.39,
          0.33,
          0.07,
          0.55,
          0.58,
          0.51,
          0.17,
          0.5,
          0.55,
          0.41,
          0.15,
          0.06,
          0.17,
          0.73,
          0,
          0.61,
          0.54,
          0.16,
          0.52,
          0.4,
          0.37,
          0.56,
          0.18,
          0.55,
          0.41,
          0.16,
          0.14,
          0.37,
          0.46,
          0.57,
          0.55,
          0.63,
          0.77,
          0.24,
          0.26,
          0.8,
          0.5,
          0.38,
          0.44,
          0.67,
          0.22,
          0.45,
          0.4,
          0.25,
          0.52,
          0.75,
          0.44,
          0.48,
          0.03,
          0.21,
          0,
          0.48,
          0.53,
          0.03,
          0.52,
          0.48,
          0.28,
          0.58,
          0.43,
          0.49,
          0.77,
          0.57,
          0.5,
          0.73,
          0.45,
          0.4,
          0.58,
          0.33,
          0.28,
          0.45,
          0.68,
          0.35,
          0.4,
          0.62,
          0.25,
          0.27,
          0.62,
          0.41,
          0.53,
          0.21,
          0.33,
          0.55,
          0.47,
          0.18,
          0.37,
          0.37,
          0.51,
          0.28,
          0.09,
          0.3,
          0.58,
          0.14,
          0.53,
          0.5,
          0.38,
          0.6,
          0.43,
          0.41,
          0.43,
          0.49,
          0.43,
          0,
          0.46,
          0.54,
          0.08,
          0.45,
          0.43,
          0.29,
          0.55,
          0.64,
          0.51,
          0.76,
          0.39,
          0.34,
          0.41,
          0.54,
          0.5,
          0.29,
          0.38,
          0.69,
          0.22,
          0.6,
          0.86,
          0.31,
          0.71,
          0.53,
          0.08,
          0.28,
          0.45,
          0.44,
          0.33,
          0.35,
          0.04,
          0.31,
          0.57,
          0.62,
          0.17,
          0.29,
          0.5,
          0.53,
          0.45,
          0.57,
          0.62,
          0.25,
          0.45,
          0.27,
          0.26,
          0.48,
          0.33,
          0.54,
          0.3,
          0.46,
          0.37,
          0.43,
          0.78,
          0.5,
          0.24,
          0.03,
          0.33,
          0.49,
          0.27,
          0.4,
          0.8,
          0.51,
          0.33,
          0.35,
          0.59,
          0.55,
          0.59,
          0.59,
          0.11,
          0.38,
          0.59,
          0.6,
          0.24,
          0.31,
          0.37,
          0.15,
          0.48,
          0.46,
          0.5,
          0.12,
          0.33,
          0.44,
          0.38,
          0.4,
          0.5,
          0.18,
          0.28,
          0.17,
          0.49,
          0.38,
          0.39,
          0.43,
          0.43,
          0.72,
          0.55,
          0.32,
          0.57,
          0.29,
          0.5,
          0.3,
          0.59,
          0,
          0.59,
          0.8,
          0.59,
          0.25,
          0.28,
          0.26,
          0.22
         ],
         "xaxis": "x",
         "y": [
          9683331,
          8754806,
          1577672,
          31045427,
          2603370,
          3705779,
          2682656.44,
          6964119,
          89665809,
          8754806,
          2062214,
          28214537,
          93507087,
          791700,
          758112,
          6546193,
          459727160,
          10954506,
          2595955,
          161556240,
          790550,
          3058398,
          219873510,
          553302,
          54079797,
          2418447,
          523450101,
          827034,
          178480,
          6234150,
          14920224,
          346186,
          378886,
          212645,
          213925,
          2462229,
          12183248,
          114624,
          240826702,
          448140,
          22506583,
          542992849,
          9683331,
          12080907,
          553302,
          3260736,
          4122417,
          131934657,
          196707,
          18426405,
          29711220,
          16574505,
          6542212,
          28016997,
          62486,
          680800,
          116619459,
          558349101,
          228288,
          1087856,
          393979,
          234525910,
          182507,
          9786434,
          633286762,
          131934657,
          118350,
          3655543,
          4360473,
          4391607,
          52001,
          73290,
          1221380762,
          889180,
          710220,
          119798,
          254717,
          4338598,
          112024,
          45888,
          9683331,
          1303542,
          6583698,
          8608509,
          3437200,
          218932702,
          131679297,
          220307910,
          25273,
          15750581,
          2726046,
          872440101,
          28214537,
          84575,
          126454410,
          573330,
          268671,
          378465,
          24639580,
          751355,
          1446605,
          5558403,
          474812,
          722447160,
          4578880,
          1119594,
          10896781,
          229034,
          136302413,
          2462229,
          19073590,
          5694135.000000001,
          16549650,
          710220,
          201495,
          360570,
          766410,
          388987,
          195637,
          30096,
          3119649,
          55463,
          5031408,
          26426410,
          1492808762,
          22881762,
          2939215,
          12688731,
          99116,
          34004082,
          112867297,
          1119594,
          1149955,
          14499,
          29145389,
          42642240,
          267675,
          3660336,
          778449,
          7276650,
          1071315,
          42101220,
          186675,
          134589308,
          60873912,
          269685,
          5486508,
          458581,
          12489568,
          142416,
          6327890,
          330186,
          252471510,
          15175089,
          1155858,
          4788,
          2924549,
          99455200,
          15288,
          101346,
          3882285,
          2120445,
          1152068,
          8493,
          345623,
          356707,
          5234880,
          116277,
          20135889,
          1632942,
          32413431,
          155194297,
          212027,
          861575,
          1995,
          121788,
          825264,
          1071315,
          542892.42,
          460224,
          64165,
          884143,
          5718864,
          12860848,
          2720049,
          3262389,
          12860848,
          1063474,
          3146500,
          14591178,
          22813097,
          126781253,
          341160910,
          146510,
          157120,
          8479,
          1209762,
          820967160,
          7310682,
          177525,
          222629,
          621341,
          630960,
          292811,
          20573218,
          1450719,
          767360,
          2909900,
          566748,
          69156,
          175230,
          46295,
          22418123,
          6857817,
          277472,
          769890,
          290372247,
          214001,
          3944248,
          302240.44,
          15750581,
          127075,
          463239,
          375492,
          9537364,
          52398,
          100111,
          544180,
          4495174,
          2255256,
          12563323,
          680042748,
          18705330,
          139334,
          7826.91,
          283926,
          171969,
          108658,
          737870,
          4824309,
          254717,
          2120445,
          493164,
          265665,
          68753,
          8608509,
          95675,
          16330554,
          38055,
          462870650,
          112727,
          92315,
          632983,
          1706796,
          172416,
          197249130,
          1885944,
          792649,
          28214537,
          27252060,
          2605486,
          3437200,
          9506082,
          81370,
          1052576,
          89333298,
          16915,
          9650913,
          1785030,
          648318,
          57994389,
          179037,
          751355,
          57116653,
          3026100,
          9177,
          327006891,
          6069,
          722447160,
          211692,
          36437430,
          218321.12,
          1030621,
          66034240,
          26015,
          106425,
          19017999,
          27888,
          24172978,
          3537699,
          94097,
          626661,
          51299450,
          28153,
          5198704,
          51358288,
          265665,
          74686,
          340400,
          97930,
          5289,
          4605987,
          4625,
          35534,
          17313,
          1080335,
          40768490,
          94658,
          1417710,
          1155571,
          558247160,
          272610,
          1676079,
          34185,
          325982,
          35178,
          45149,
          49400,
          310763,
          107062,
          51129,
          412592492,
          434746,
          73745490,
          1289571,
          418679247,
          86187482,
          15853490,
          292462,
          26792,
          390999,
          30019997,
          998822748,
          568698,
          25072663,
          55336608,
          35644169,
          366590688,
          50737693,
          505017585,
          505017585,
          50737693,
          50737693,
          38270371,
          20287722,
          166675989,
          32672204,
          115361410,
          2697716,
          34839038,
          115151204,
          4984418,
          126935837,
          64501381,
          2697716,
          23939030,
          205569888,
          16193251,
          10838129,
          48376146,
          33931364,
          412860682,
          24818571,
          246955002,
          25072663,
          64806729,
          379383682,
          352253650,
          25072663,
          9683730,
          2667292164,
          2039620164,
          25072663,
          115151204,
          1971715,
          68618841,
          15526642,
          8754607,
          298386748,
          1577672,
          25072663,
          115151204,
          1466640,
          172184754,
          7895272,
          55364304,
          509868840,
          516454176,
          8021650,
          15088983,
          60477746,
          35644169,
          31045756,
          2603370,
          588998689,
          160060978,
          1349418,
          160901364,
          4548871,
          265953002,
          137847227,
          269508748,
          291927,
          3705630,
          4221459,
          21028100,
          592092585,
          138204,
          5442398,
          208959002,
          386003971,
          379383682,
          355414,
          7214778,
          166675989,
          50313604,
          83881564,
          33601722,
          2682833.07,
          208959002,
          145298551,
          35644169,
          6964119,
          8754806,
          853435,
          265953002,
          713881,
          659985228,
          2062214,
          542278176,
          3586596,
          1122561,
          1773114,
          12038625,
          298386748,
          298386748,
          593926176,
          96845721,
          2235790,
          231771593,
          205569888,
          169883764,
          269508748,
          28214836,
          7214778,
          246955002,
          509868840,
          26576397,
          108652050,
          169883764,
          199469501,
          1775223,
          730739940,
          384278650,
          792050,
          13119822,
          758112,
          32672204,
          35648167,
          7771221,
          35953771,
          1674553,
          461846,
          5735085,
          6546193,
          352253650,
          15737961,
          790550,
          6122871,
          2981716,
          10954506,
          811734,
          2595955,
          2039594168,
          62616121,
          738234,
          7795082,
          28301855,
          553243,
          115360811,
          5778393,
          265953002,
          5778393,
          10936084,
          64808928,
          185155,
          1303403,
          166463,
          209239,
          298402247,
          30517820,
          15134429,
          6176585,
          11173746,
          636203,
          48357120,
          32672204,
          199469501,
          729217902,
          540942178,
          189970501,
          659985228,
          21436852,
          6234150,
          178480,
          1148868,
          5735085,
          133780140,
          55380296,
          659985228,
          138789412,
          540942178,
          479760,
          3789242,
          2462130,
          2069172,
          13119822,
          33934362,
          12183248,
          534603,
          178204,
          153971,
          30517820,
          29930511,
          242649,
          384846,
          821977,
          736025,
          2658409,
          21736,
          56620338,
          18260020,
          540942178,
          138371925,
          37077334,
          108822321,
          135947825,
          43651740,
          95081,
          1614117,
          6542212,
          6234159,
          943260,
          212775134,
          251886010,
          24447,
          999750,
          9462,
          1397526,
          205588,
          612219,
          58178016,
          778920,
          40905771,
          659985228,
          2879799,
          10068396,
          30195,
          10891040,
          33934362,
          2481360,
          107100,
          4391388,
          689196,
          889180,
          513133,
          2353426168,
          123225,
          1055742100,
          119798,
          254717,
          440755,
          2345724,
          60477746,
          68626839,
          3066,
          8721440,
          7886844,
          831260,
          2303232,
          9099092,
          265953002,
          690969,
          3966074,
          132754515,
          205294046,
          55362582,
          32081567,
          73147345,
          36727086,
          1595818,
          235116402,
          181470,
          38272078,
          21367311,
          198435559,
          8652059,
          3242836,
          115359613,
          130724220,
          32673703,
          46404505,
          866349,
          4984767,
          30529675,
          14610735,
          477503,
          48376146,
          33934362,
          25341883,
          15827121,
          64822122,
          9919624,
          54793872,
          9683331,
          7455980,
          289600,
          1921140,
          41204730,
          68630838,
          82194,
          47170083,
          8754806,
          1577672,
          15526642,
          208219380,
          1681131,
          3536273,
          31045756,
          10691205,
          21684061,
          13296096,
          2603370,
          15600102,
          160054081,
          1349418,
          164686136,
          7459200,
          93601839,
          73563035,
          8527428,
          148297065,
          3705630,
          5161683,
          138204,
          594087,
          49559083,
          17938239,
          5277475,
          42457676,
          95956,
          7237461,
          1375773,
          63339,
          2700032,
          3386610,
          92643748,
          33601722,
          2682833.07,
          6357438,
          10353442,
          5623698,
          14047484,
          87524976,
          99290408,
          51250914,
          963800,
          11098815,
          6964119,
          423116,
          40267216,
          1866171,
          713881,
          2062214,
          5975100,
          16992368,
          59291576,
          145295552,
          874744,
          2661726,
          35955574,
          916734,
          943798,
          27846748,
          93506868,
          1353026,
          12038625,
          2406782,
          5598073,
          791700,
          17601970,
          56974484,
          758112,
          29905578,
          108653649,
          1301244,
          3781476,
          10278765,
          23447213,
          6546193,
          790550,
          230101222,
          1850112,
          2676375,
          62622119,
          56928000,
          16175148,
          4790890,
          42864752,
          12686186,
          351522,
          21824191,
          35523045,
          35953771,
          161556240,
          7771904,
          131609202,
          7305168,
          109491216,
          232686888,
          56977679,
          10853199,
          3058398,
          219873510,
          8797986,
          18919929,
          895569,
          553243,
          6281990,
          6327083,
          127734101,
          2418447,
          2286270,
          43304112,
          38029095,
          185155,
          140727222,
          10825295,
          17367993,
          3788400,
          5778393,
          651113,
          229460,
          115889,
          1679915,
          138789412,
          1378146,
          9458210,
          14205581,
          105305361,
          157251,
          26080296,
          1824570,
          27391631,
          4463060,
          4259142,
          104597361,
          309500,
          269997,
          33373445,
          190959111,
          953820,
          544540,
          35362677,
          60037524,
          2745120,
          48357120,
          1688310,
          827034,
          1992536,
          9595437,
          6234150,
          557996,
          3970014,
          242649,
          11477,
          46939648,
          52068117,
          1006625,
          1120791,
          31066090,
          275655,
          3525678,
          21449,
          178480,
          19003071,
          351440,
          1788808,
          31243665,
          24416329,
          1785102,
          7481054,
          2836864,
          408754995,
          40592020,
          1060375,
          5087170,
          27413559,
          17595,
          20833426,
          9664204,
          15492526,
          14920224,
          3815443,
          74165574,
          1096925,
          18312669,
          672462,
          38412,
          12975344,
          168658875,
          85023,
          32857266,
          4575331,
          513970,
          291533127,
          3364258,
          300792,
          346007,
          111251694,
          9996766,
          3963329,
          58693710,
          378886,
          36595258,
          668610,
          15827377,
          62578695,
          23536087,
          1821146,
          23420485,
          2329924,
          2317812,
          212645,
          6510944,
          27775521,
          213925,
          3492750,
          495908,
          12183248,
          114425,
          375927,
          165088,
          1972794,
          6241848,
          1128648,
          25017,
          12227605,
          6042294,
          1018932,
          516960,
          448140,
          22506374,
          15871480,
          498564,
          753493,
          4908775,
          3260736,
          436100,
          1080924,
          585327,
          1989602,
          14624148,
          72038,
          192543828,
          22715910,
          5898461,
          14249634,
          695196,
          12080907,
          654580,
          3675,
          3758120,
          87026238,
          20115125,
          733447,
          44735832,
          20744640,
          275490,
          3632928,
          4552999,
          4122417,
          1793075,
          64119725,
          3050244,
          18426405,
          16025625,
          1823420,
          1614117,
          11999007,
          216566,
          1911087,
          5176561,
          657000,
          29711220,
          964620,
          12621825,
          15758795,
          6542212,
          9665149,
          285133,
          32745600,
          8978940,
          41412,
          2034000,
          5742902,
          4687078,
          3366879,
          62486,
          1918524,
          97158621,
          22700459,
          30340758,
          56260,
          201087304,
          2826780,
          8468801,
          20583120,
          135946426,
          1002592,
          58806,
          42623130,
          26489677,
          4355749,
          2380050,
          228288,
          12859275,
          1200925,
          1087856,
          4009464,
          121833277,
          363204,
          2449557,
          1572471,
          36926,
          430083822,
          3371555,
          26881580,
          182507,
          2030476,
          601643,
          750483,
          9886051,
          9786434,
          1063474,
          182069290,
          857532,
          253930,
          4938470,
          4321917,
          125700,
          7309683,
          2367910,
          633272763,
          293748,
          850113,
          31684821,
          73290,
          24769901,
          10067697,
          17391845,
          3511998,
          778920,
          9161208,
          21466200,
          38994000,
          42625440,
          43875720,
          118350,
          28331630,
          26641052,
          276210,
          13063611,
          12768646,
          4391607,
          130416,
          77919114,
          146392500,
          29850,
          52001,
          1990450,
          1415088,
          1490265,
          889180,
          2168210,
          710220,
          1378299,
          1515930,
          275709,
          1367260,
          119798,
          2016078,
          254717,
          557910,
          1498633,
          5426727,
          5692140,
          529308,
          25875018,
          3486692,
          112024,
          2610125,
          594120,
          619752,
          808920,
          1079550,
          1459267,
          440755,
          30490548,
          8317105,
          3437200,
          2226591,
          802180,
          729538,
          12030781,
          77418612,
          333982,
          3966074,
          25273,
          2726046,
          462496,
          37867738,
          80063885,
          15946700,
          22233057,
          1627990,
          404169,
          13183242,
          53842037,
          23805467,
          3640198,
          47449150,
          91800368,
          16262456,
          2424641,
          20671680,
          2098323,
          14572500,
          8423700,
          42926400,
          19391589,
          38161500,
          56614017,
          16821970,
          35182602,
          57220950,
          14523953,
          82656651,
          589626,
          1161837,
          102286,
          19413163,
          5654910,
          67421424,
          489464,
          1888380,
          61290036,
          12379742,
          610200,
          789584,
          9701263,
          5279070,
          6827268,
          23922720,
          128268796,
          17614009,
          3642660,
          1832054,
          88664660,
          1173384,
          4396,
          89131,
          52097694,
          7152921,
          261609,
          20413413,
          663796,
          36151425,
          20364667,
          4089580,
          55930,
          70616636,
          9683434,
          26734057,
          89209809,
          14453774,
          2116235,
          45687438,
          5460454,
          116439,
          7746305,
          8858228,
          80481501,
          1727438,
          1746269,
          27997200,
          373105,
          3722004,
          92173869,
          15664176,
          4720611,
          37156076,
          2672145,
          2197998,
          4870413,
          1108883,
          13901886,
          222037,
          16788324,
          26229819,
          3316770,
          16653155,
          142310,
          3426042,
          98182557,
          652776,
          5036067,
          116632,
          464283,
          39556,
          21985833,
          2814,
          4664156,
          9753030,
          12986001,
          403989,
          1237496,
          444960,
          6544200,
          14972500,
          139934430,
          42568972,
          456320,
          66759931,
          705159,
          2066966,
          22869616,
          9526145,
          2388,
          8030650,
          1644354,
          161928006,
          276330,
          21845824,
          36450914,
          77422517,
          1528254,
          11049696,
          1065156,
          1411872,
          38847253,
          746761,
          406700,
          23628,
          102176901,
          5903754,
          23394711,
          2615002,
          8624,
          23937147,
          166315,
          24221550,
          1514964,
          3497904,
          27512,
          7663,
          12379290,
          40561732,
          10371158,
          3395568,
          2118172,
          304695,
          7144809,
          40368530,
          2205680,
          21220350,
          1230720,
          86420,
          2644994,
          13079251,
          346222,
          13987169,
          55252800,
          19463744,
          31801,
          16173522,
          397204,
          1990289,
          1459472,
          3413020,
          38116635,
          1583428,
          4876119,
          37004883,
          11137,
          15153336,
          9039360,
          517293,
          13068531,
          2036566,
          260700,
          7812,
          2704647,
          1708262,
          1593371,
          46953381.42,
          15075227,
          14202169,
          4024678,
          10739428,
          151656903,
          26447,
          12094272,
          4588815,
          262250,
          6120396,
          39421,
          36577443,
          44341,
          5491420,
          1477008,
          18262190,
          1673,
          1208571,
          5499484,
          716261,
          26946,
          3686790,
          7295958,
          1678954,
          2160598,
          251748,
          1559220,
          15540,
          29374974,
          5615450,
          14138836,
          60975,
          24644840,
          2491242,
          25969242,
          129846549,
          4595507,
          8697,
          42649490,
          147367980,
          515970,
          3293037,
          860662,
          22150272,
          30567816,
          1765729,
          6673997,
          9980712,
          644939,
          586278,
          9265725,
          2361997,
          344072,
          3390258,
          18308185,
          13571612,
          614200,
          4142760,
          6476150,
          1555800,
          1321116,
          50337,
          4645200,
          103896,
          42365,
          6543946,
          5273541,
          303485,
          8935277,
          1607700,
          250705,
          594909,
          70094400,
          2082208,
          8012484,
          334597,
          223934,
          454197,
          1175704,
          31238605,
          54391,
          27749128,
          33518925,
          619876,
          734802,
          163170,
          13485,
          8982,
          7259888.4399999995,
          6496189,
          1019830,
          27235590,
          484975,
          19800180,
          125263052,
          824403,
          6854627,
          130350,
          2901950,
          3489639,
          147814200,
          5053114,
          7141,
          2598,
          12749494,
          669262,
          952403,
          745236,
          1759973,
          264693,
          93886,
          2886325,
          9684675,
          60060,
          95113,
          87871993,
          20698860,
          1235913,
          1540330,
          179284794,
          2044845,
          745500,
          11130240,
          4836699,
          1573325,
          3565138,
          77503,
          4632075,
          385614,
          326959,
          28849392,
          773094,
          45341065,
          3237760,
          153703,
          19228160,
          6074901,
          14931708,
          3716,
          6166020,
          857926,
          750105,
          40242840,
          2193139,
          1640520,
          2109795,
          24624861.24,
          27793305,
          138900690,
          2677950,
          3864,
          100368,
          1568640,
          747660,
          986400,
          1962173,
          747968,
          62130,
          484980,
          510614,
          23497632,
          1070325,
          426608,
          353410,
          716564,
          3552216,
          172557,
          241610,
          6224,
          648954,
          215860,
          5689600,
          91287,
          1405390,
          3396512,
          40086000,
          3320954,
          2385915,
          1068650,
          2596,
          83702666,
          4464420,
          3883909,
          403788,
          693940,
          1553288,
          1581055,
          381393,
          720837,
          18020,
          32435,
          16052505,
          69300,
          1170435,
          4582856,
          8346681,
          7154433,
          2585856,
          14065800,
          1455003,
          4625742,
          552720,
          18079,
          607026,
          7729920,
          1417081,
          51245809,
          2363377.59,
          24709200,
          22002420,
          1434713,
          111930,
          775612,
          1343048,
          914664,
          101905,
          2463276,
          249756,
          113190,
          30258,
          574390,
          159467,
          16836120,
          1387029,
          48181464,
          15594199,
          3203466,
          2333902,
          1441198,
          242652,
          13583,
          64649371,
          21673680,
          11645219.32,
          274421,
          1801860,
          5906514,
          533822,
          673992,
          105788,
          27576,
          853676,
          103279,
          31641,
          35061,
          9789969,
          94572,
          452400,
          3568329,
          3930716.79,
          56274,
          6786010,
          521950,
          398,
          413110,
          9389040,
          1038492,
          11235369,
          20003781
         ],
         "yaxis": "y"
        }
       ],
       "layout": {
        "legend": {
         "tracegroupgap": 0
        },
        "template": {
         "data": {
          "bar": [
           {
            "error_x": {
             "color": "#2a3f5f"
            },
            "error_y": {
             "color": "#2a3f5f"
            },
            "marker": {
             "line": {
              "color": "#E5ECF6",
              "width": 0.5
             },
             "pattern": {
              "fillmode": "overlay",
              "size": 10,
              "solidity": 0.2
             }
            },
            "type": "bar"
           }
          ],
          "barpolar": [
           {
            "marker": {
             "line": {
              "color": "#E5ECF6",
              "width": 0.5
             },
             "pattern": {
              "fillmode": "overlay",
              "size": 10,
              "solidity": 0.2
             }
            },
            "type": "barpolar"
           }
          ],
          "carpet": [
           {
            "aaxis": {
             "endlinecolor": "#2a3f5f",
             "gridcolor": "white",
             "linecolor": "white",
             "minorgridcolor": "white",
             "startlinecolor": "#2a3f5f"
            },
            "baxis": {
             "endlinecolor": "#2a3f5f",
             "gridcolor": "white",
             "linecolor": "white",
             "minorgridcolor": "white",
             "startlinecolor": "#2a3f5f"
            },
            "type": "carpet"
           }
          ],
          "choropleth": [
           {
            "colorbar": {
             "outlinewidth": 0,
             "ticks": ""
            },
            "type": "choropleth"
           }
          ],
          "contour": [
           {
            "colorbar": {
             "outlinewidth": 0,
             "ticks": ""
            },
            "colorscale": [
             [
              0,
              "#0d0887"
             ],
             [
              0.1111111111111111,
              "#46039f"
             ],
             [
              0.2222222222222222,
              "#7201a8"
             ],
             [
              0.3333333333333333,
              "#9c179e"
             ],
             [
              0.4444444444444444,
              "#bd3786"
             ],
             [
              0.5555555555555556,
              "#d8576b"
             ],
             [
              0.6666666666666666,
              "#ed7953"
             ],
             [
              0.7777777777777778,
              "#fb9f3a"
             ],
             [
              0.8888888888888888,
              "#fdca26"
             ],
             [
              1,
              "#f0f921"
             ]
            ],
            "type": "contour"
           }
          ],
          "contourcarpet": [
           {
            "colorbar": {
             "outlinewidth": 0,
             "ticks": ""
            },
            "type": "contourcarpet"
           }
          ],
          "heatmap": [
           {
            "colorbar": {
             "outlinewidth": 0,
             "ticks": ""
            },
            "colorscale": [
             [
              0,
              "#0d0887"
             ],
             [
              0.1111111111111111,
              "#46039f"
             ],
             [
              0.2222222222222222,
              "#7201a8"
             ],
             [
              0.3333333333333333,
              "#9c179e"
             ],
             [
              0.4444444444444444,
              "#bd3786"
             ],
             [
              0.5555555555555556,
              "#d8576b"
             ],
             [
              0.6666666666666666,
              "#ed7953"
             ],
             [
              0.7777777777777778,
              "#fb9f3a"
             ],
             [
              0.8888888888888888,
              "#fdca26"
             ],
             [
              1,
              "#f0f921"
             ]
            ],
            "type": "heatmap"
           }
          ],
          "heatmapgl": [
           {
            "colorbar": {
             "outlinewidth": 0,
             "ticks": ""
            },
            "colorscale": [
             [
              0,
              "#0d0887"
             ],
             [
              0.1111111111111111,
              "#46039f"
             ],
             [
              0.2222222222222222,
              "#7201a8"
             ],
             [
              0.3333333333333333,
              "#9c179e"
             ],
             [
              0.4444444444444444,
              "#bd3786"
             ],
             [
              0.5555555555555556,
              "#d8576b"
             ],
             [
              0.6666666666666666,
              "#ed7953"
             ],
             [
              0.7777777777777778,
              "#fb9f3a"
             ],
             [
              0.8888888888888888,
              "#fdca26"
             ],
             [
              1,
              "#f0f921"
             ]
            ],
            "type": "heatmapgl"
           }
          ],
          "histogram": [
           {
            "marker": {
             "pattern": {
              "fillmode": "overlay",
              "size": 10,
              "solidity": 0.2
             }
            },
            "type": "histogram"
           }
          ],
          "histogram2d": [
           {
            "colorbar": {
             "outlinewidth": 0,
             "ticks": ""
            },
            "colorscale": [
             [
              0,
              "#0d0887"
             ],
             [
              0.1111111111111111,
              "#46039f"
             ],
             [
              0.2222222222222222,
              "#7201a8"
             ],
             [
              0.3333333333333333,
              "#9c179e"
             ],
             [
              0.4444444444444444,
              "#bd3786"
             ],
             [
              0.5555555555555556,
              "#d8576b"
             ],
             [
              0.6666666666666666,
              "#ed7953"
             ],
             [
              0.7777777777777778,
              "#fb9f3a"
             ],
             [
              0.8888888888888888,
              "#fdca26"
             ],
             [
              1,
              "#f0f921"
             ]
            ],
            "type": "histogram2d"
           }
          ],
          "histogram2dcontour": [
           {
            "colorbar": {
             "outlinewidth": 0,
             "ticks": ""
            },
            "colorscale": [
             [
              0,
              "#0d0887"
             ],
             [
              0.1111111111111111,
              "#46039f"
             ],
             [
              0.2222222222222222,
              "#7201a8"
             ],
             [
              0.3333333333333333,
              "#9c179e"
             ],
             [
              0.4444444444444444,
              "#bd3786"
             ],
             [
              0.5555555555555556,
              "#d8576b"
             ],
             [
              0.6666666666666666,
              "#ed7953"
             ],
             [
              0.7777777777777778,
              "#fb9f3a"
             ],
             [
              0.8888888888888888,
              "#fdca26"
             ],
             [
              1,
              "#f0f921"
             ]
            ],
            "type": "histogram2dcontour"
           }
          ],
          "mesh3d": [
           {
            "colorbar": {
             "outlinewidth": 0,
             "ticks": ""
            },
            "type": "mesh3d"
           }
          ],
          "parcoords": [
           {
            "line": {
             "colorbar": {
              "outlinewidth": 0,
              "ticks": ""
             }
            },
            "type": "parcoords"
           }
          ],
          "pie": [
           {
            "automargin": true,
            "type": "pie"
           }
          ],
          "scatter": [
           {
            "fillpattern": {
             "fillmode": "overlay",
             "size": 10,
             "solidity": 0.2
            },
            "type": "scatter"
           }
          ],
          "scatter3d": [
           {
            "line": {
             "colorbar": {
              "outlinewidth": 0,
              "ticks": ""
             }
            },
            "marker": {
             "colorbar": {
              "outlinewidth": 0,
              "ticks": ""
             }
            },
            "type": "scatter3d"
           }
          ],
          "scattercarpet": [
           {
            "marker": {
             "colorbar": {
              "outlinewidth": 0,
              "ticks": ""
             }
            },
            "type": "scattercarpet"
           }
          ],
          "scattergeo": [
           {
            "marker": {
             "colorbar": {
              "outlinewidth": 0,
              "ticks": ""
             }
            },
            "type": "scattergeo"
           }
          ],
          "scattergl": [
           {
            "marker": {
             "colorbar": {
              "outlinewidth": 0,
              "ticks": ""
             }
            },
            "type": "scattergl"
           }
          ],
          "scattermapbox": [
           {
            "marker": {
             "colorbar": {
              "outlinewidth": 0,
              "ticks": ""
             }
            },
            "type": "scattermapbox"
           }
          ],
          "scatterpolar": [
           {
            "marker": {
             "colorbar": {
              "outlinewidth": 0,
              "ticks": ""
             }
            },
            "type": "scatterpolar"
           }
          ],
          "scatterpolargl": [
           {
            "marker": {
             "colorbar": {
              "outlinewidth": 0,
              "ticks": ""
             }
            },
            "type": "scatterpolargl"
           }
          ],
          "scatterternary": [
           {
            "marker": {
             "colorbar": {
              "outlinewidth": 0,
              "ticks": ""
             }
            },
            "type": "scatterternary"
           }
          ],
          "surface": [
           {
            "colorbar": {
             "outlinewidth": 0,
             "ticks": ""
            },
            "colorscale": [
             [
              0,
              "#0d0887"
             ],
             [
              0.1111111111111111,
              "#46039f"
             ],
             [
              0.2222222222222222,
              "#7201a8"
             ],
             [
              0.3333333333333333,
              "#9c179e"
             ],
             [
              0.4444444444444444,
              "#bd3786"
             ],
             [
              0.5555555555555556,
              "#d8576b"
             ],
             [
              0.6666666666666666,
              "#ed7953"
             ],
             [
              0.7777777777777778,
              "#fb9f3a"
             ],
             [
              0.8888888888888888,
              "#fdca26"
             ],
             [
              1,
              "#f0f921"
             ]
            ],
            "type": "surface"
           }
          ],
          "table": [
           {
            "cells": {
             "fill": {
              "color": "#EBF0F8"
             },
             "line": {
              "color": "white"
             }
            },
            "header": {
             "fill": {
              "color": "#C8D4E3"
             },
             "line": {
              "color": "white"
             }
            },
            "type": "table"
           }
          ]
         },
         "layout": {
          "annotationdefaults": {
           "arrowcolor": "#2a3f5f",
           "arrowhead": 0,
           "arrowwidth": 1
          },
          "autotypenumbers": "strict",
          "coloraxis": {
           "colorbar": {
            "outlinewidth": 0,
            "ticks": ""
           }
          },
          "colorscale": {
           "diverging": [
            [
             0,
             "#8e0152"
            ],
            [
             0.1,
             "#c51b7d"
            ],
            [
             0.2,
             "#de77ae"
            ],
            [
             0.3,
             "#f1b6da"
            ],
            [
             0.4,
             "#fde0ef"
            ],
            [
             0.5,
             "#f7f7f7"
            ],
            [
             0.6,
             "#e6f5d0"
            ],
            [
             0.7,
             "#b8e186"
            ],
            [
             0.8,
             "#7fbc41"
            ],
            [
             0.9,
             "#4d9221"
            ],
            [
             1,
             "#276419"
            ]
           ],
           "sequential": [
            [
             0,
             "#0d0887"
            ],
            [
             0.1111111111111111,
             "#46039f"
            ],
            [
             0.2222222222222222,
             "#7201a8"
            ],
            [
             0.3333333333333333,
             "#9c179e"
            ],
            [
             0.4444444444444444,
             "#bd3786"
            ],
            [
             0.5555555555555556,
             "#d8576b"
            ],
            [
             0.6666666666666666,
             "#ed7953"
            ],
            [
             0.7777777777777778,
             "#fb9f3a"
            ],
            [
             0.8888888888888888,
             "#fdca26"
            ],
            [
             1,
             "#f0f921"
            ]
           ],
           "sequentialminus": [
            [
             0,
             "#0d0887"
            ],
            [
             0.1111111111111111,
             "#46039f"
            ],
            [
             0.2222222222222222,
             "#7201a8"
            ],
            [
             0.3333333333333333,
             "#9c179e"
            ],
            [
             0.4444444444444444,
             "#bd3786"
            ],
            [
             0.5555555555555556,
             "#d8576b"
            ],
            [
             0.6666666666666666,
             "#ed7953"
            ],
            [
             0.7777777777777778,
             "#fb9f3a"
            ],
            [
             0.8888888888888888,
             "#fdca26"
            ],
            [
             1,
             "#f0f921"
            ]
           ]
          },
          "colorway": [
           "#636efa",
           "#EF553B",
           "#00cc96",
           "#ab63fa",
           "#FFA15A",
           "#19d3f3",
           "#FF6692",
           "#B6E880",
           "#FF97FF",
           "#FECB52"
          ],
          "font": {
           "color": "#2a3f5f"
          },
          "geo": {
           "bgcolor": "white",
           "lakecolor": "white",
           "landcolor": "#E5ECF6",
           "showlakes": true,
           "showland": true,
           "subunitcolor": "white"
          },
          "hoverlabel": {
           "align": "left"
          },
          "hovermode": "closest",
          "mapbox": {
           "style": "light"
          },
          "paper_bgcolor": "white",
          "plot_bgcolor": "#E5ECF6",
          "polar": {
           "angularaxis": {
            "gridcolor": "white",
            "linecolor": "white",
            "ticks": ""
           },
           "bgcolor": "#E5ECF6",
           "radialaxis": {
            "gridcolor": "white",
            "linecolor": "white",
            "ticks": ""
           }
          },
          "scene": {
           "xaxis": {
            "backgroundcolor": "#E5ECF6",
            "gridcolor": "white",
            "gridwidth": 2,
            "linecolor": "white",
            "showbackground": true,
            "ticks": "",
            "zerolinecolor": "white"
           },
           "yaxis": {
            "backgroundcolor": "#E5ECF6",
            "gridcolor": "white",
            "gridwidth": 2,
            "linecolor": "white",
            "showbackground": true,
            "ticks": "",
            "zerolinecolor": "white"
           },
           "zaxis": {
            "backgroundcolor": "#E5ECF6",
            "gridcolor": "white",
            "gridwidth": 2,
            "linecolor": "white",
            "showbackground": true,
            "ticks": "",
            "zerolinecolor": "white"
           }
          },
          "shapedefaults": {
           "line": {
            "color": "#2a3f5f"
           }
          },
          "ternary": {
           "aaxis": {
            "gridcolor": "white",
            "linecolor": "white",
            "ticks": ""
           },
           "baxis": {
            "gridcolor": "white",
            "linecolor": "white",
            "ticks": ""
           },
           "bgcolor": "#E5ECF6",
           "caxis": {
            "gridcolor": "white",
            "linecolor": "white",
            "ticks": ""
           }
          },
          "title": {
           "x": 0.05
          },
          "xaxis": {
           "automargin": true,
           "gridcolor": "white",
           "linecolor": "white",
           "ticks": "",
           "title": {
            "standoff": 15
           },
           "zerolinecolor": "white",
           "zerolinewidth": 2
          },
          "yaxis": {
           "automargin": true,
           "gridcolor": "white",
           "linecolor": "white",
           "ticks": "",
           "title": {
            "standoff": 15
           },
           "zerolinecolor": "white",
           "zerolinewidth": 2
          }
         }
        },
        "title": {
         "text": "Impact of Discount Percentage on Revenue"
        },
        "xaxis": {
         "anchor": "y",
         "domain": [
          0,
          1
         ],
         "title": {
          "text": "discount_percentage"
         }
        },
        "yaxis": {
         "anchor": "x",
         "domain": [
          0,
          1
         ],
         "title": {
          "text": "revenue"
         }
        }
       }
      }
     },
     "metadata": {},
     "output_type": "display_data"
    }
   ],
   "source": [
    "fig = px.scatter(df, x='discount_percentage', y='revenue', \n",
    "                 title='Impact of Discount Percentage on Revenue')\n",
    "fig.show()\n"
   ]
  },
  {
   "cell_type": "markdown",
   "metadata": {},
   "source": [
    "### How are product ratings distributed, and what impact do they have on sales?\n"
   ]
  },
  {
   "cell_type": "code",
   "execution_count": 20,
   "metadata": {},
   "outputs": [
    {
     "data": {
      "application/vnd.plotly.v1+json": {
       "config": {
        "plotlyServerURL": "https://plot.ly"
       },
       "data": [
        {
         "alignmentgroup": "True",
         "bingroup": "x",
         "hovertemplate": "rating=%{x}<br>count=%{y}<extra></extra>",
         "legendgroup": "",
         "marker": {
          "color": "#636efa",
          "pattern": {
           "shape": ""
          }
         },
         "name": "",
         "nbinsx": 20,
         "offsetgroup": "",
         "orientation": "v",
         "showlegend": false,
         "type": "histogram",
         "x": [
          4.2,
          4,
          3.9,
          4.2,
          4.2,
          3.9,
          4.1,
          4.3,
          4.2,
          4,
          4.3,
          4.2,
          4.4,
          4.2,
          4.1,
          4.4,
          4.2,
          4,
          4.1,
          4.3,
          4.5,
          3.7,
          4.3,
          4,
          4.3,
          4.2,
          4.2,
          4,
          4.4,
          4.3,
          4.5,
          4,
          4.3,
          4.3,
          3.9,
          3.9,
          4.4,
          4,
          4.2,
          4.2,
          4.5,
          4.3,
          4.2,
          4.3,
          4,
          3.3,
          4.1,
          4.4,
          3.6,
          4.2,
          4.4,
          4.2,
          4.3,
          4.2,
          4.1,
          3.7,
          4.2,
          4.2,
          4.2,
          4.3,
          3.7,
          4.3,
          4,
          4.2,
          4.2,
          4.4,
          4.1,
          4.3,
          4.2,
          4.3,
          4.5,
          4.1,
          4.2,
          4,
          4.1,
          4.1,
          4,
          4.1,
          3.9,
          4,
          4.2,
          4,
          3.4,
          4.4,
          4.2,
          4.2,
          4.3,
          4.3,
          4.5,
          4.2,
          3.6,
          4.2,
          4.2,
          4.1,
          4.2,
          3.7,
          3.8,
          3.7,
          4.5,
          4.1,
          4.3,
          4.3,
          4,
          4.2,
          4.2,
          4.3,
          4.2,
          4.3,
          4.3,
          3.9,
          4.1,
          4.3,
          4.3,
          4.1,
          4.5,
          4.1,
          3.6,
          3.5,
          4,
          3.8,
          4.4,
          3.7,
          4.3,
          4.1,
          4.2,
          4.1,
          4.3,
          4.2,
          4.2,
          4.4,
          4.3,
          4.3,
          4,
          3.9,
          4.2,
          4.3,
          3.9,
          4.6,
          3.9,
          4.3,
          4.1,
          4.4,
          3.2,
          4.2,
          4.2,
          3.7,
          4.5,
          4.2,
          4.2,
          4.2,
          4.1,
          4.3,
          4.3,
          4.3,
          3.4,
          4.3,
          4.4,
          3.9,
          4.1,
          3.9,
          4,
          4.3,
          4,
          3.9,
          4.5,
          3.9,
          4.2,
          4,
          4.3,
          4,
          4.4,
          4.3,
          4,
          4.3,
          5,
          3.7,
          4,
          4.1,
          4,
          3.3,
          3.8,
          4.1,
          4.1,
          4.4,
          4.3,
          4.3,
          4.4,
          4.3,
          3.9,
          4.2,
          4.2,
          4.1,
          4.3,
          3.7,
          4.1,
          3.9,
          4,
          4.2,
          4.4,
          4.1,
          4.3,
          3.8,
          4.4,
          4,
          4.4,
          4,
          4.2,
          3.9,
          3.7,
          3.6,
          4,
          3.5,
          4.5,
          4.2,
          3.8,
          3.8,
          4.1,
          4.3,
          4.4,
          3.9,
          4.2,
          3.8,
          4.1,
          4.1,
          4.3,
          3.7,
          4,
          4.2,
          4.1,
          4.3,
          4.4,
          4.3,
          4.3,
          3.5,
          3.9,
          4.5,
          3.4,
          4,
          4,
          4.4,
          4,
          4.3,
          4,
          4.2,
          3.8,
          4.4,
          3.9,
          4.2,
          3.9,
          4.7,
          3.6,
          3.7,
          4.2,
          4,
          3.6,
          4.3,
          4.2,
          4.3,
          4.2,
          4.2,
          4.4,
          4.2,
          4.4,
          3,
          4.5,
          4.3,
          4.2,
          4.4,
          4,
          3.8,
          4.3,
          4.2,
          4.1,
          4,
          4.2,
          3.3,
          4.3,
          3.8,
          4.2,
          3.7,
          4.3,
          3.9,
          3,
          4.3,
          3.5,
          3.9,
          4,
          4.3,
          3.8,
          4.3,
          3.3,
          4.5,
          4.1,
          4.2,
          4.1,
          4.4,
          4.2,
          3.9,
          4,
          4.5,
          3.7,
          4.2,
          4.2,
          4.2,
          4.3,
          4.4,
          4.2,
          4.3,
          3.7,
          4.3,
          4.2,
          4.4,
          3.5,
          4.1,
          4.3,
          4.2,
          4,
          3.9,
          3.3,
          3.8,
          4,
          4.3,
          3.9,
          4.2,
          5,
          4.1,
          3.9,
          4.2,
          4.3,
          3.8,
          4.3,
          4.4,
          4.3,
          4.3,
          4.2,
          4.3,
          3.8,
          4.3,
          4,
          4.3,
          4.3,
          4,
          4,
          4.4,
          4.1,
          4,
          3.9,
          4.1,
          4.2,
          3.9,
          4,
          4,
          4.1,
          4.4,
          4.2,
          4.3,
          4.3,
          3.9,
          4.4,
          4,
          4.2,
          4.1,
          4.4,
          4.1,
          4.2,
          4.2,
          4.1,
          4,
          4.2,
          4.2,
          4.1,
          4.1,
          4.2,
          4,
          4.3,
          4.3,
          4.1,
          4,
          4.1,
          3.9,
          4.2,
          4,
          4.4,
          4.2,
          3.8,
          4.3,
          4.2,
          3.9,
          4.4,
          4,
          4,
          3.8,
          4.2,
          4.2,
          4.4,
          4.2,
          4,
          4.3,
          4.1,
          4.1,
          4.1,
          4.1,
          4.4,
          3.9,
          4.3,
          4,
          4.3,
          4,
          3.6,
          4.1,
          4.2,
          4.1,
          4.1,
          4,
          4,
          3.5,
          4.3,
          4.1,
          4.1,
          4.1,
          4.1,
          3.8,
          4.3,
          4,
          4.2,
          4.1,
          4.1,
          4.1,
          4.3,
          3.9,
          4,
          4.5,
          4,
          4,
          4.1,
          4.1,
          3.9,
          4.1,
          4.1,
          4,
          4.3,
          4,
          4.1,
          4.2,
          4,
          4.1,
          4.2,
          4.6,
          4,
          4,
          4.3,
          4.3,
          4.2,
          4,
          4.2,
          4,
          4.1,
          3.9,
          3.8,
          4.7,
          4.3,
          4.2,
          4.1,
          3.3,
          4.4,
          4,
          4.2,
          4.5,
          4.6,
          4.2,
          4,
          3.7,
          4.1,
          4.1,
          4.2,
          4.2,
          4.5,
          3.8,
          4,
          4.1,
          3.8,
          4.1,
          3.8,
          4.2,
          4.2,
          4.2,
          4,
          3.5,
          4.3,
          4.1,
          3.9,
          3.9,
          3.3,
          4,
          4,
          4,
          3.9,
          4.3,
          4.1,
          4.1,
          4.3,
          4.1,
          4.1,
          4.3,
          4.4,
          4.2,
          3.3,
          4.4,
          4.3,
          4.1,
          4,
          4.1,
          4.3,
          3.8,
          3.9,
          3.7,
          4,
          4.2,
          4.4,
          3.9,
          4.5,
          4.2,
          3.9,
          4.2,
          4.1,
          4.1,
          4.3,
          4.1,
          4.3,
          3.6,
          4.1,
          4,
          4.1,
          4.3,
          3.9,
          4.1,
          4.1,
          4.4,
          3.8,
          4.3,
          4.3,
          3.5,
          4,
          3.9,
          4.3,
          2.8,
          3.8,
          4.5,
          4.3,
          4.1,
          3,
          4,
          3.9,
          4.1,
          4.1,
          4.3,
          4,
          4.4,
          4.3,
          4.2,
          3.8,
          4.3,
          4.3,
          4.3,
          4,
          3.9,
          4.1,
          3.7,
          4.2,
          4.1,
          4,
          4.6,
          3.9,
          4,
          4.3,
          4.4,
          4.1,
          4.1,
          4.1,
          4.4,
          4.5,
          4.1,
          4.2,
          4.5,
          4.1,
          3.9,
          4.3,
          3.8,
          4.3,
          4.4,
          3.8,
          3.8,
          3.5,
          4.4,
          4.1,
          4.1,
          4.3,
          3.5,
          4.1,
          4.1,
          3.9,
          3.9,
          4.1,
          4,
          4.2,
          4.3,
          4.1,
          4,
          4.2,
          3.9,
          4.3,
          4.2,
          4.5,
          4,
          4.2,
          4.5,
          4.3,
          3.9,
          4.1,
          4.3,
          4.2,
          4.2,
          4,
          3.9,
          4.1,
          4.5,
          3.7,
          3.5,
          4.2,
          3.5,
          4.3,
          3.9,
          4.2,
          4.3,
          4.2,
          4,
          4.1,
          4.5,
          4.2,
          4.1,
          3.9,
          4.3,
          3.9,
          4,
          4,
          3.5,
          4.3,
          3.8,
          4.4,
          3.7,
          4.4,
          4.4,
          4.4,
          4.2,
          4.5,
          3.8,
          3.8,
          4.1,
          4.1,
          4.4,
          3.8,
          4.2,
          4.1,
          4.4,
          4.1,
          4.1,
          3.5,
          3.6,
          4.3,
          3.8,
          4,
          3.9,
          4.1,
          4.3,
          4.4,
          4.3,
          4.3,
          4.1,
          4.4,
          4.4,
          3.8,
          3.8,
          4,
          4.4,
          4.4,
          4.5,
          4,
          4,
          4.3,
          4.2,
          3.8,
          4.3,
          4.1,
          4.3,
          4,
          4.3,
          4.2,
          4,
          4.4,
          4.4,
          4.5,
          4.2,
          4.1,
          4.5,
          4.2,
          4.3,
          3.9,
          4.5,
          4.1,
          4.2,
          3.8,
          4.3,
          3.9,
          4.3,
          4.3,
          3.9,
          3.7,
          4.2,
          4.3,
          4.2,
          3.9,
          4.3,
          3.7,
          4.3,
          4.3,
          3.9,
          4.4,
          4,
          4.5,
          3.9,
          4.3,
          4.2,
          4.1,
          4.2,
          4.5,
          4.2,
          4.2,
          4.3,
          4,
          4.5,
          3.8,
          3.9,
          4,
          4.1,
          3.4,
          4,
          3.4,
          4.3,
          3.9,
          4.1,
          4.3,
          4.5,
          4.2,
          4.1,
          4.4,
          4.3,
          4.3,
          4.3,
          4.2,
          4.1,
          4.1,
          4.5,
          4.4,
          4.3,
          4.3,
          4.3,
          4,
          4.3,
          4,
          4.4,
          4,
          4.3,
          3.3,
          3.7,
          4.1,
          5,
          4.5,
          3.9,
          4.4,
          4.1,
          3.6,
          3.8,
          3.6,
          4.2,
          4.4,
          3.8,
          4.2,
          4.3,
          4.4,
          4.1,
          4.4,
          4.4,
          4.4,
          4.4,
          4.3,
          4.3,
          4.3,
          4.2,
          4.3,
          4.2,
          3.8,
          4.3,
          4.5,
          4.1,
          4.2,
          4,
          4.1,
          4.1,
          4.3,
          4.5,
          4.5,
          4.1,
          4.3,
          3.6,
          4.4,
          4.5,
          3.9,
          4,
          4,
          4.4,
          4.6,
          4.4,
          4.4,
          4.3,
          4.3,
          4.4,
          4,
          4.2,
          3.8,
          4.1,
          4.2,
          4.2,
          4.4,
          4.3,
          4.1,
          4.4,
          3.9,
          3.9,
          3.6,
          4.4,
          4,
          3.5,
          4.1,
          4.1,
          4,
          4.1,
          4,
          3.8,
          4.3,
          4.2,
          4.1,
          4.2,
          4.5,
          4.6,
          4.3,
          4,
          4.2,
          3.3,
          4.3,
          3.7,
          3.9,
          4.3,
          4.1,
          4.2,
          4.5,
          4,
          4.5,
          3.5,
          4.5,
          4.3,
          3.3,
          4.1,
          3.8,
          3.5,
          4.1,
          4.5,
          4.4,
          4.1,
          4.3,
          3.6,
          4,
          4.1,
          4.5,
          4.2,
          4.3,
          4.2,
          4.6,
          4.5,
          4.3,
          4.1,
          4.5,
          3.5,
          4.4,
          4.2,
          4.4,
          4.4,
          4.2,
          4.5,
          4.3,
          3.8,
          3.9,
          4,
          4.1,
          4.4,
          4.4,
          4.4,
          3.5,
          4.5,
          4.1,
          4.4,
          4.1,
          4.2,
          4.2,
          4.3,
          4.3,
          3.7,
          3.9,
          4.5,
          4.1,
          4,
          3.8,
          3.4,
          4.3,
          4.3,
          4.3,
          4.2,
          4.1,
          4,
          4.3,
          4,
          4.1,
          4,
          3.8,
          4.2,
          4.3,
          4.4,
          4.1,
          4.5,
          4,
          4.2,
          3.9,
          4.3,
          4,
          4.2,
          4.3,
          4.2,
          4.2,
          4.1,
          4.3,
          4.3,
          4.2,
          4.5,
          4.4,
          4.2,
          4.1,
          4.3,
          4.4,
          4.1,
          3.6,
          4,
          4,
          4.4,
          3.9,
          4.3,
          4.6,
          4.4,
          4.5,
          3.9,
          4.1,
          4.3,
          4.5,
          4.5,
          3.6,
          4.1,
          4.3,
          3.8,
          4.6,
          4.1,
          4,
          4.5,
          4.3,
          4,
          4.5,
          4,
          4.5,
          4.1,
          4.3,
          4.1,
          4,
          4.1,
          4.1,
          4.4,
          4,
          4.1,
          4.4,
          4.3,
          4.2,
          3.6,
          4.2,
          4.2,
          3.9,
          4.2,
          4.5,
          4.3,
          4.2,
          4.1,
          4.1,
          4.6,
          3.8,
          4.3,
          4.2,
          4.2,
          4.4,
          3.9,
          4,
          4.2,
          3.7,
          4.5,
          4.5,
          3.6,
          4.3,
          4.1,
          3.9,
          3.6,
          4,
          4.1,
          3.7,
          3.9,
          4.1,
          3.9,
          3.9,
          3.9,
          3.8,
          3.8,
          4.1,
          4.1,
          3.3,
          4.2,
          4,
          4.3,
          4,
          4.5,
          4.1,
          4,
          4.2,
          3.8,
          4.2,
          4.2,
          3.6,
          3.8,
          4.1,
          4.1,
          4.1,
          4.1,
          4.2,
          4,
          4.3,
          4.2,
          4.2,
          3.7,
          4.1,
          4.4,
          3.8,
          4,
          4.2,
          3.8,
          4.2,
          4,
          3.9,
          4.3,
          3.8,
          4,
          4.2,
          4.2,
          3.6,
          4.3,
          4,
          4.2,
          4.1,
          4,
          4.3,
          4,
          3.9,
          4.2,
          4.1,
          4.4,
          4,
          3.8,
          4,
          3.1,
          4.3,
          4.2,
          4.4,
          4.1,
          4.2,
          4.1,
          4.1,
          4.1,
          3.9,
          3.9,
          3.8,
          4,
          4.2,
          4.1,
          4.3,
          3.7,
          4.2,
          4.3,
          4.3,
          4.4,
          3.8,
          4.5,
          3.8,
          3.8,
          4.1,
          4.1,
          3.8,
          3.3,
          4,
          4.6,
          3.9,
          3.7,
          4.2,
          4.1,
          4.1,
          3.8,
          4.1,
          4.6,
          4.1,
          4.2,
          3.9,
          4.1,
          4.1,
          4,
          3.7,
          4.1,
          4.1,
          4.1,
          3.3,
          4.1,
          4.1,
          4.4,
          4.3,
          4.1,
          3.7,
          4.8,
          4.5,
          4,
          4.1,
          3.9,
          4.1,
          4.2,
          4.1,
          3.5,
          4.3,
          3.9,
          4.2,
          3.8,
          4.5,
          3.8,
          4.1,
          4.2,
          4.1,
          4.2,
          4.5,
          4,
          4.4,
          4,
          4,
          3.9,
          4,
          3.8,
          4.2,
          4.3,
          4.2,
          4.3,
          4.2,
          4.4,
          3.8,
          4.1,
          3.9,
          4.3,
          4.4,
          3.6,
          3.8,
          4,
          4.1,
          4.3,
          4,
          3.9,
          4.4,
          3.7,
          3.6,
          3.7,
          4,
          4.2,
          3.8,
          4.2,
          3.9,
          4,
          4.1,
          4.8,
          4.2,
          4.1,
          4,
          3.9,
          4.1,
          4.3,
          4.1,
          4.2,
          3.9,
          3.7,
          4.1,
          4,
          3.8,
          4.2,
          4.6,
          4.1,
          3.3,
          4.2,
          4.3,
          4.3,
          4.3,
          4.7,
          4.4,
          3.9,
          4.7,
          4.1,
          3.8,
          4.4,
          4.3,
          3.4,
          4.2,
          3.7,
          4.3,
          4.3,
          4.4,
          4.1,
          4,
          4.4,
          3.8,
          4.3,
          3.8,
          2.3,
          4.5,
          4,
          3.7,
          4,
          4.4,
          4.1,
          4.4,
          3.1,
          4.3,
          4.4,
          4.4,
          4.1,
          4.1,
          4,
          3.6,
          3.9,
          3.9,
          3.8,
          4.1,
          4.1,
          4.1,
          3.8,
          4.3,
          4.5,
          4.2,
          3.9,
          3.5,
          4.3,
          3.9,
          3.9,
          4,
          4.7,
          4.1,
          3.8,
          4.1,
          3.9,
          4.1,
          3.9,
          3.8,
          4.1,
          4.3,
          3.9,
          2.8,
          4,
          4.5,
          4.6,
          4.1,
          4.1,
          3.4,
          4.6,
          4.2,
          3.9,
          4.2,
          4.2,
          4.1,
          4.8,
          4.4,
          4.3,
          4.3,
          4,
          4.3,
          4,
          4.4,
          4.1,
          3.6,
          2,
          4,
          3.7,
          3.8,
          3.9,
          3.1,
          3,
          4,
          4.4,
          4.1,
          3.6,
          4.4,
          4.2,
          4.3,
          3.8,
          4.1,
          4,
          4.2,
          3.6,
          4.2,
          4.1,
          4.2,
          3.9,
          4,
          4.2,
          4.2,
          4.1,
          4.4,
          4.1,
          4.2,
          4.1,
          3.9,
          3.9,
          4.2,
          4.2,
          3.7,
          3.7,
          3.4,
          4.2,
          4,
          4.1,
          3.9,
          4,
          3.9,
          4.2,
          4.3,
          4,
          2.6,
          3.8,
          4.5,
          3.5,
          3.9,
          4,
          4,
          3.5,
          4,
          3.4,
          4.2,
          3.8,
          4.1,
          4.2,
          4.3,
          4.2,
          4.1,
          3.9,
          3.3,
          4.3,
          3.9,
          4.3,
          3.6,
          3.8,
          3.9,
          4.6,
          3.8,
          3.9,
          4.1,
          3.6,
          4.4,
          4.3,
          4.7,
          4.3,
          3.9,
          3.9,
          3.7,
          3.5,
          4,
          4.1,
          3.9,
          4.4,
          4.3,
          4.5,
          4,
          3.9,
          4.2,
          4.1,
          3.7,
          4.1,
          4.2,
          4.3,
          3.6,
          4.1,
          4.5,
          4.2,
          4.3,
          4,
          4.2,
          4.2,
          4.5,
          3.8,
          4.4,
          4.1,
          4.2,
          4.3,
          4.1,
          4.2,
          4.1,
          3.9,
          3.9,
          3.8,
          4.6,
          3.6,
          4.1,
          4.2,
          4.3,
          3.9,
          3.9,
          4,
          4.4,
          4.2,
          4.5,
          4.1,
          4.1,
          4.2,
          4.2,
          4,
          4.3,
          3.6,
          3.5,
          4.3,
          3.6,
          2.9,
          4.2,
          4.4,
          4.1,
          3.8,
          3.5,
          4.1,
          3.2,
          4.4,
          3.6,
          3.1,
          4,
          4.1,
          3.6,
          4,
          4.3
         ],
         "xaxis": "x",
         "yaxis": "y"
        }
       ],
       "layout": {
        "barmode": "relative",
        "legend": {
         "tracegroupgap": 0
        },
        "template": {
         "data": {
          "bar": [
           {
            "error_x": {
             "color": "#2a3f5f"
            },
            "error_y": {
             "color": "#2a3f5f"
            },
            "marker": {
             "line": {
              "color": "#E5ECF6",
              "width": 0.5
             },
             "pattern": {
              "fillmode": "overlay",
              "size": 10,
              "solidity": 0.2
             }
            },
            "type": "bar"
           }
          ],
          "barpolar": [
           {
            "marker": {
             "line": {
              "color": "#E5ECF6",
              "width": 0.5
             },
             "pattern": {
              "fillmode": "overlay",
              "size": 10,
              "solidity": 0.2
             }
            },
            "type": "barpolar"
           }
          ],
          "carpet": [
           {
            "aaxis": {
             "endlinecolor": "#2a3f5f",
             "gridcolor": "white",
             "linecolor": "white",
             "minorgridcolor": "white",
             "startlinecolor": "#2a3f5f"
            },
            "baxis": {
             "endlinecolor": "#2a3f5f",
             "gridcolor": "white",
             "linecolor": "white",
             "minorgridcolor": "white",
             "startlinecolor": "#2a3f5f"
            },
            "type": "carpet"
           }
          ],
          "choropleth": [
           {
            "colorbar": {
             "outlinewidth": 0,
             "ticks": ""
            },
            "type": "choropleth"
           }
          ],
          "contour": [
           {
            "colorbar": {
             "outlinewidth": 0,
             "ticks": ""
            },
            "colorscale": [
             [
              0,
              "#0d0887"
             ],
             [
              0.1111111111111111,
              "#46039f"
             ],
             [
              0.2222222222222222,
              "#7201a8"
             ],
             [
              0.3333333333333333,
              "#9c179e"
             ],
             [
              0.4444444444444444,
              "#bd3786"
             ],
             [
              0.5555555555555556,
              "#d8576b"
             ],
             [
              0.6666666666666666,
              "#ed7953"
             ],
             [
              0.7777777777777778,
              "#fb9f3a"
             ],
             [
              0.8888888888888888,
              "#fdca26"
             ],
             [
              1,
              "#f0f921"
             ]
            ],
            "type": "contour"
           }
          ],
          "contourcarpet": [
           {
            "colorbar": {
             "outlinewidth": 0,
             "ticks": ""
            },
            "type": "contourcarpet"
           }
          ],
          "heatmap": [
           {
            "colorbar": {
             "outlinewidth": 0,
             "ticks": ""
            },
            "colorscale": [
             [
              0,
              "#0d0887"
             ],
             [
              0.1111111111111111,
              "#46039f"
             ],
             [
              0.2222222222222222,
              "#7201a8"
             ],
             [
              0.3333333333333333,
              "#9c179e"
             ],
             [
              0.4444444444444444,
              "#bd3786"
             ],
             [
              0.5555555555555556,
              "#d8576b"
             ],
             [
              0.6666666666666666,
              "#ed7953"
             ],
             [
              0.7777777777777778,
              "#fb9f3a"
             ],
             [
              0.8888888888888888,
              "#fdca26"
             ],
             [
              1,
              "#f0f921"
             ]
            ],
            "type": "heatmap"
           }
          ],
          "heatmapgl": [
           {
            "colorbar": {
             "outlinewidth": 0,
             "ticks": ""
            },
            "colorscale": [
             [
              0,
              "#0d0887"
             ],
             [
              0.1111111111111111,
              "#46039f"
             ],
             [
              0.2222222222222222,
              "#7201a8"
             ],
             [
              0.3333333333333333,
              "#9c179e"
             ],
             [
              0.4444444444444444,
              "#bd3786"
             ],
             [
              0.5555555555555556,
              "#d8576b"
             ],
             [
              0.6666666666666666,
              "#ed7953"
             ],
             [
              0.7777777777777778,
              "#fb9f3a"
             ],
             [
              0.8888888888888888,
              "#fdca26"
             ],
             [
              1,
              "#f0f921"
             ]
            ],
            "type": "heatmapgl"
           }
          ],
          "histogram": [
           {
            "marker": {
             "pattern": {
              "fillmode": "overlay",
              "size": 10,
              "solidity": 0.2
             }
            },
            "type": "histogram"
           }
          ],
          "histogram2d": [
           {
            "colorbar": {
             "outlinewidth": 0,
             "ticks": ""
            },
            "colorscale": [
             [
              0,
              "#0d0887"
             ],
             [
              0.1111111111111111,
              "#46039f"
             ],
             [
              0.2222222222222222,
              "#7201a8"
             ],
             [
              0.3333333333333333,
              "#9c179e"
             ],
             [
              0.4444444444444444,
              "#bd3786"
             ],
             [
              0.5555555555555556,
              "#d8576b"
             ],
             [
              0.6666666666666666,
              "#ed7953"
             ],
             [
              0.7777777777777778,
              "#fb9f3a"
             ],
             [
              0.8888888888888888,
              "#fdca26"
             ],
             [
              1,
              "#f0f921"
             ]
            ],
            "type": "histogram2d"
           }
          ],
          "histogram2dcontour": [
           {
            "colorbar": {
             "outlinewidth": 0,
             "ticks": ""
            },
            "colorscale": [
             [
              0,
              "#0d0887"
             ],
             [
              0.1111111111111111,
              "#46039f"
             ],
             [
              0.2222222222222222,
              "#7201a8"
             ],
             [
              0.3333333333333333,
              "#9c179e"
             ],
             [
              0.4444444444444444,
              "#bd3786"
             ],
             [
              0.5555555555555556,
              "#d8576b"
             ],
             [
              0.6666666666666666,
              "#ed7953"
             ],
             [
              0.7777777777777778,
              "#fb9f3a"
             ],
             [
              0.8888888888888888,
              "#fdca26"
             ],
             [
              1,
              "#f0f921"
             ]
            ],
            "type": "histogram2dcontour"
           }
          ],
          "mesh3d": [
           {
            "colorbar": {
             "outlinewidth": 0,
             "ticks": ""
            },
            "type": "mesh3d"
           }
          ],
          "parcoords": [
           {
            "line": {
             "colorbar": {
              "outlinewidth": 0,
              "ticks": ""
             }
            },
            "type": "parcoords"
           }
          ],
          "pie": [
           {
            "automargin": true,
            "type": "pie"
           }
          ],
          "scatter": [
           {
            "fillpattern": {
             "fillmode": "overlay",
             "size": 10,
             "solidity": 0.2
            },
            "type": "scatter"
           }
          ],
          "scatter3d": [
           {
            "line": {
             "colorbar": {
              "outlinewidth": 0,
              "ticks": ""
             }
            },
            "marker": {
             "colorbar": {
              "outlinewidth": 0,
              "ticks": ""
             }
            },
            "type": "scatter3d"
           }
          ],
          "scattercarpet": [
           {
            "marker": {
             "colorbar": {
              "outlinewidth": 0,
              "ticks": ""
             }
            },
            "type": "scattercarpet"
           }
          ],
          "scattergeo": [
           {
            "marker": {
             "colorbar": {
              "outlinewidth": 0,
              "ticks": ""
             }
            },
            "type": "scattergeo"
           }
          ],
          "scattergl": [
           {
            "marker": {
             "colorbar": {
              "outlinewidth": 0,
              "ticks": ""
             }
            },
            "type": "scattergl"
           }
          ],
          "scattermapbox": [
           {
            "marker": {
             "colorbar": {
              "outlinewidth": 0,
              "ticks": ""
             }
            },
            "type": "scattermapbox"
           }
          ],
          "scatterpolar": [
           {
            "marker": {
             "colorbar": {
              "outlinewidth": 0,
              "ticks": ""
             }
            },
            "type": "scatterpolar"
           }
          ],
          "scatterpolargl": [
           {
            "marker": {
             "colorbar": {
              "outlinewidth": 0,
              "ticks": ""
             }
            },
            "type": "scatterpolargl"
           }
          ],
          "scatterternary": [
           {
            "marker": {
             "colorbar": {
              "outlinewidth": 0,
              "ticks": ""
             }
            },
            "type": "scatterternary"
           }
          ],
          "surface": [
           {
            "colorbar": {
             "outlinewidth": 0,
             "ticks": ""
            },
            "colorscale": [
             [
              0,
              "#0d0887"
             ],
             [
              0.1111111111111111,
              "#46039f"
             ],
             [
              0.2222222222222222,
              "#7201a8"
             ],
             [
              0.3333333333333333,
              "#9c179e"
             ],
             [
              0.4444444444444444,
              "#bd3786"
             ],
             [
              0.5555555555555556,
              "#d8576b"
             ],
             [
              0.6666666666666666,
              "#ed7953"
             ],
             [
              0.7777777777777778,
              "#fb9f3a"
             ],
             [
              0.8888888888888888,
              "#fdca26"
             ],
             [
              1,
              "#f0f921"
             ]
            ],
            "type": "surface"
           }
          ],
          "table": [
           {
            "cells": {
             "fill": {
              "color": "#EBF0F8"
             },
             "line": {
              "color": "white"
             }
            },
            "header": {
             "fill": {
              "color": "#C8D4E3"
             },
             "line": {
              "color": "white"
             }
            },
            "type": "table"
           }
          ]
         },
         "layout": {
          "annotationdefaults": {
           "arrowcolor": "#2a3f5f",
           "arrowhead": 0,
           "arrowwidth": 1
          },
          "autotypenumbers": "strict",
          "coloraxis": {
           "colorbar": {
            "outlinewidth": 0,
            "ticks": ""
           }
          },
          "colorscale": {
           "diverging": [
            [
             0,
             "#8e0152"
            ],
            [
             0.1,
             "#c51b7d"
            ],
            [
             0.2,
             "#de77ae"
            ],
            [
             0.3,
             "#f1b6da"
            ],
            [
             0.4,
             "#fde0ef"
            ],
            [
             0.5,
             "#f7f7f7"
            ],
            [
             0.6,
             "#e6f5d0"
            ],
            [
             0.7,
             "#b8e186"
            ],
            [
             0.8,
             "#7fbc41"
            ],
            [
             0.9,
             "#4d9221"
            ],
            [
             1,
             "#276419"
            ]
           ],
           "sequential": [
            [
             0,
             "#0d0887"
            ],
            [
             0.1111111111111111,
             "#46039f"
            ],
            [
             0.2222222222222222,
             "#7201a8"
            ],
            [
             0.3333333333333333,
             "#9c179e"
            ],
            [
             0.4444444444444444,
             "#bd3786"
            ],
            [
             0.5555555555555556,
             "#d8576b"
            ],
            [
             0.6666666666666666,
             "#ed7953"
            ],
            [
             0.7777777777777778,
             "#fb9f3a"
            ],
            [
             0.8888888888888888,
             "#fdca26"
            ],
            [
             1,
             "#f0f921"
            ]
           ],
           "sequentialminus": [
            [
             0,
             "#0d0887"
            ],
            [
             0.1111111111111111,
             "#46039f"
            ],
            [
             0.2222222222222222,
             "#7201a8"
            ],
            [
             0.3333333333333333,
             "#9c179e"
            ],
            [
             0.4444444444444444,
             "#bd3786"
            ],
            [
             0.5555555555555556,
             "#d8576b"
            ],
            [
             0.6666666666666666,
             "#ed7953"
            ],
            [
             0.7777777777777778,
             "#fb9f3a"
            ],
            [
             0.8888888888888888,
             "#fdca26"
            ],
            [
             1,
             "#f0f921"
            ]
           ]
          },
          "colorway": [
           "#636efa",
           "#EF553B",
           "#00cc96",
           "#ab63fa",
           "#FFA15A",
           "#19d3f3",
           "#FF6692",
           "#B6E880",
           "#FF97FF",
           "#FECB52"
          ],
          "font": {
           "color": "#2a3f5f"
          },
          "geo": {
           "bgcolor": "white",
           "lakecolor": "white",
           "landcolor": "#E5ECF6",
           "showlakes": true,
           "showland": true,
           "subunitcolor": "white"
          },
          "hoverlabel": {
           "align": "left"
          },
          "hovermode": "closest",
          "mapbox": {
           "style": "light"
          },
          "paper_bgcolor": "white",
          "plot_bgcolor": "#E5ECF6",
          "polar": {
           "angularaxis": {
            "gridcolor": "white",
            "linecolor": "white",
            "ticks": ""
           },
           "bgcolor": "#E5ECF6",
           "radialaxis": {
            "gridcolor": "white",
            "linecolor": "white",
            "ticks": ""
           }
          },
          "scene": {
           "xaxis": {
            "backgroundcolor": "#E5ECF6",
            "gridcolor": "white",
            "gridwidth": 2,
            "linecolor": "white",
            "showbackground": true,
            "ticks": "",
            "zerolinecolor": "white"
           },
           "yaxis": {
            "backgroundcolor": "#E5ECF6",
            "gridcolor": "white",
            "gridwidth": 2,
            "linecolor": "white",
            "showbackground": true,
            "ticks": "",
            "zerolinecolor": "white"
           },
           "zaxis": {
            "backgroundcolor": "#E5ECF6",
            "gridcolor": "white",
            "gridwidth": 2,
            "linecolor": "white",
            "showbackground": true,
            "ticks": "",
            "zerolinecolor": "white"
           }
          },
          "shapedefaults": {
           "line": {
            "color": "#2a3f5f"
           }
          },
          "ternary": {
           "aaxis": {
            "gridcolor": "white",
            "linecolor": "white",
            "ticks": ""
           },
           "baxis": {
            "gridcolor": "white",
            "linecolor": "white",
            "ticks": ""
           },
           "bgcolor": "#E5ECF6",
           "caxis": {
            "gridcolor": "white",
            "linecolor": "white",
            "ticks": ""
           }
          },
          "title": {
           "x": 0.05
          },
          "xaxis": {
           "automargin": true,
           "gridcolor": "white",
           "linecolor": "white",
           "ticks": "",
           "title": {
            "standoff": 15
           },
           "zerolinecolor": "white",
           "zerolinewidth": 2
          },
          "yaxis": {
           "automargin": true,
           "gridcolor": "white",
           "linecolor": "white",
           "ticks": "",
           "title": {
            "standoff": 15
           },
           "zerolinecolor": "white",
           "zerolinewidth": 2
          }
         }
        },
        "title": {
         "text": "Distribution of Product Ratings"
        },
        "xaxis": {
         "anchor": "y",
         "domain": [
          0,
          1
         ],
         "title": {
          "text": "rating"
         }
        },
        "yaxis": {
         "anchor": "x",
         "domain": [
          0,
          1
         ],
         "title": {
          "text": "count"
         }
        }
       }
      }
     },
     "metadata": {},
     "output_type": "display_data"
    },
    {
     "data": {
      "application/vnd.plotly.v1+json": {
       "config": {
        "plotlyServerURL": "https://plot.ly"
       },
       "data": [
        {
         "alignmentgroup": "True",
         "hovertemplate": "rating=%{x}<br>revenue=%{y}<extra></extra>",
         "legendgroup": "",
         "marker": {
          "color": "#636efa",
          "pattern": {
           "shape": ""
          }
         },
         "name": "",
         "offsetgroup": "",
         "orientation": "v",
         "showlegend": false,
         "textposition": "auto",
         "type": "bar",
         "x": [
          2,
          2.3,
          2.6,
          2.8,
          2.9,
          3,
          3.1,
          3.2,
          3.3,
          3.4,
          3.5,
          3.6,
          3.7,
          3.8,
          3.9,
          4,
          4.1,
          4.2,
          4.3,
          4.4,
          4.5,
          4.6,
          4.7,
          4.8,
          5
         ],
         "xaxis": "x",
         "y": [
          2598,
          8697,
          3864,
          39419,
          31641,
          497225.75,
          910634.75,
          121474.5,
          1782685.75,
          5522648.9,
          7357832.769230769,
          4301550.942857143,
          7122391.714285715,
          13318220.081395349,
          31123503.880080648,
          26654383.768011052,
          100512140.0929918,
          77869114.30894737,
          54761601.96956522,
          33816109.01626016,
          20214109.44,
          13917365.529411765,
          79561499.5,
          32410169.666666668,
          434347.6666666667
         ],
         "yaxis": "y"
        }
       ],
       "layout": {
        "barmode": "relative",
        "legend": {
         "tracegroupgap": 0
        },
        "template": {
         "data": {
          "bar": [
           {
            "error_x": {
             "color": "#2a3f5f"
            },
            "error_y": {
             "color": "#2a3f5f"
            },
            "marker": {
             "line": {
              "color": "#E5ECF6",
              "width": 0.5
             },
             "pattern": {
              "fillmode": "overlay",
              "size": 10,
              "solidity": 0.2
             }
            },
            "type": "bar"
           }
          ],
          "barpolar": [
           {
            "marker": {
             "line": {
              "color": "#E5ECF6",
              "width": 0.5
             },
             "pattern": {
              "fillmode": "overlay",
              "size": 10,
              "solidity": 0.2
             }
            },
            "type": "barpolar"
           }
          ],
          "carpet": [
           {
            "aaxis": {
             "endlinecolor": "#2a3f5f",
             "gridcolor": "white",
             "linecolor": "white",
             "minorgridcolor": "white",
             "startlinecolor": "#2a3f5f"
            },
            "baxis": {
             "endlinecolor": "#2a3f5f",
             "gridcolor": "white",
             "linecolor": "white",
             "minorgridcolor": "white",
             "startlinecolor": "#2a3f5f"
            },
            "type": "carpet"
           }
          ],
          "choropleth": [
           {
            "colorbar": {
             "outlinewidth": 0,
             "ticks": ""
            },
            "type": "choropleth"
           }
          ],
          "contour": [
           {
            "colorbar": {
             "outlinewidth": 0,
             "ticks": ""
            },
            "colorscale": [
             [
              0,
              "#0d0887"
             ],
             [
              0.1111111111111111,
              "#46039f"
             ],
             [
              0.2222222222222222,
              "#7201a8"
             ],
             [
              0.3333333333333333,
              "#9c179e"
             ],
             [
              0.4444444444444444,
              "#bd3786"
             ],
             [
              0.5555555555555556,
              "#d8576b"
             ],
             [
              0.6666666666666666,
              "#ed7953"
             ],
             [
              0.7777777777777778,
              "#fb9f3a"
             ],
             [
              0.8888888888888888,
              "#fdca26"
             ],
             [
              1,
              "#f0f921"
             ]
            ],
            "type": "contour"
           }
          ],
          "contourcarpet": [
           {
            "colorbar": {
             "outlinewidth": 0,
             "ticks": ""
            },
            "type": "contourcarpet"
           }
          ],
          "heatmap": [
           {
            "colorbar": {
             "outlinewidth": 0,
             "ticks": ""
            },
            "colorscale": [
             [
              0,
              "#0d0887"
             ],
             [
              0.1111111111111111,
              "#46039f"
             ],
             [
              0.2222222222222222,
              "#7201a8"
             ],
             [
              0.3333333333333333,
              "#9c179e"
             ],
             [
              0.4444444444444444,
              "#bd3786"
             ],
             [
              0.5555555555555556,
              "#d8576b"
             ],
             [
              0.6666666666666666,
              "#ed7953"
             ],
             [
              0.7777777777777778,
              "#fb9f3a"
             ],
             [
              0.8888888888888888,
              "#fdca26"
             ],
             [
              1,
              "#f0f921"
             ]
            ],
            "type": "heatmap"
           }
          ],
          "heatmapgl": [
           {
            "colorbar": {
             "outlinewidth": 0,
             "ticks": ""
            },
            "colorscale": [
             [
              0,
              "#0d0887"
             ],
             [
              0.1111111111111111,
              "#46039f"
             ],
             [
              0.2222222222222222,
              "#7201a8"
             ],
             [
              0.3333333333333333,
              "#9c179e"
             ],
             [
              0.4444444444444444,
              "#bd3786"
             ],
             [
              0.5555555555555556,
              "#d8576b"
             ],
             [
              0.6666666666666666,
              "#ed7953"
             ],
             [
              0.7777777777777778,
              "#fb9f3a"
             ],
             [
              0.8888888888888888,
              "#fdca26"
             ],
             [
              1,
              "#f0f921"
             ]
            ],
            "type": "heatmapgl"
           }
          ],
          "histogram": [
           {
            "marker": {
             "pattern": {
              "fillmode": "overlay",
              "size": 10,
              "solidity": 0.2
             }
            },
            "type": "histogram"
           }
          ],
          "histogram2d": [
           {
            "colorbar": {
             "outlinewidth": 0,
             "ticks": ""
            },
            "colorscale": [
             [
              0,
              "#0d0887"
             ],
             [
              0.1111111111111111,
              "#46039f"
             ],
             [
              0.2222222222222222,
              "#7201a8"
             ],
             [
              0.3333333333333333,
              "#9c179e"
             ],
             [
              0.4444444444444444,
              "#bd3786"
             ],
             [
              0.5555555555555556,
              "#d8576b"
             ],
             [
              0.6666666666666666,
              "#ed7953"
             ],
             [
              0.7777777777777778,
              "#fb9f3a"
             ],
             [
              0.8888888888888888,
              "#fdca26"
             ],
             [
              1,
              "#f0f921"
             ]
            ],
            "type": "histogram2d"
           }
          ],
          "histogram2dcontour": [
           {
            "colorbar": {
             "outlinewidth": 0,
             "ticks": ""
            },
            "colorscale": [
             [
              0,
              "#0d0887"
             ],
             [
              0.1111111111111111,
              "#46039f"
             ],
             [
              0.2222222222222222,
              "#7201a8"
             ],
             [
              0.3333333333333333,
              "#9c179e"
             ],
             [
              0.4444444444444444,
              "#bd3786"
             ],
             [
              0.5555555555555556,
              "#d8576b"
             ],
             [
              0.6666666666666666,
              "#ed7953"
             ],
             [
              0.7777777777777778,
              "#fb9f3a"
             ],
             [
              0.8888888888888888,
              "#fdca26"
             ],
             [
              1,
              "#f0f921"
             ]
            ],
            "type": "histogram2dcontour"
           }
          ],
          "mesh3d": [
           {
            "colorbar": {
             "outlinewidth": 0,
             "ticks": ""
            },
            "type": "mesh3d"
           }
          ],
          "parcoords": [
           {
            "line": {
             "colorbar": {
              "outlinewidth": 0,
              "ticks": ""
             }
            },
            "type": "parcoords"
           }
          ],
          "pie": [
           {
            "automargin": true,
            "type": "pie"
           }
          ],
          "scatter": [
           {
            "fillpattern": {
             "fillmode": "overlay",
             "size": 10,
             "solidity": 0.2
            },
            "type": "scatter"
           }
          ],
          "scatter3d": [
           {
            "line": {
             "colorbar": {
              "outlinewidth": 0,
              "ticks": ""
             }
            },
            "marker": {
             "colorbar": {
              "outlinewidth": 0,
              "ticks": ""
             }
            },
            "type": "scatter3d"
           }
          ],
          "scattercarpet": [
           {
            "marker": {
             "colorbar": {
              "outlinewidth": 0,
              "ticks": ""
             }
            },
            "type": "scattercarpet"
           }
          ],
          "scattergeo": [
           {
            "marker": {
             "colorbar": {
              "outlinewidth": 0,
              "ticks": ""
             }
            },
            "type": "scattergeo"
           }
          ],
          "scattergl": [
           {
            "marker": {
             "colorbar": {
              "outlinewidth": 0,
              "ticks": ""
             }
            },
            "type": "scattergl"
           }
          ],
          "scattermapbox": [
           {
            "marker": {
             "colorbar": {
              "outlinewidth": 0,
              "ticks": ""
             }
            },
            "type": "scattermapbox"
           }
          ],
          "scatterpolar": [
           {
            "marker": {
             "colorbar": {
              "outlinewidth": 0,
              "ticks": ""
             }
            },
            "type": "scatterpolar"
           }
          ],
          "scatterpolargl": [
           {
            "marker": {
             "colorbar": {
              "outlinewidth": 0,
              "ticks": ""
             }
            },
            "type": "scatterpolargl"
           }
          ],
          "scatterternary": [
           {
            "marker": {
             "colorbar": {
              "outlinewidth": 0,
              "ticks": ""
             }
            },
            "type": "scatterternary"
           }
          ],
          "surface": [
           {
            "colorbar": {
             "outlinewidth": 0,
             "ticks": ""
            },
            "colorscale": [
             [
              0,
              "#0d0887"
             ],
             [
              0.1111111111111111,
              "#46039f"
             ],
             [
              0.2222222222222222,
              "#7201a8"
             ],
             [
              0.3333333333333333,
              "#9c179e"
             ],
             [
              0.4444444444444444,
              "#bd3786"
             ],
             [
              0.5555555555555556,
              "#d8576b"
             ],
             [
              0.6666666666666666,
              "#ed7953"
             ],
             [
              0.7777777777777778,
              "#fb9f3a"
             ],
             [
              0.8888888888888888,
              "#fdca26"
             ],
             [
              1,
              "#f0f921"
             ]
            ],
            "type": "surface"
           }
          ],
          "table": [
           {
            "cells": {
             "fill": {
              "color": "#EBF0F8"
             },
             "line": {
              "color": "white"
             }
            },
            "header": {
             "fill": {
              "color": "#C8D4E3"
             },
             "line": {
              "color": "white"
             }
            },
            "type": "table"
           }
          ]
         },
         "layout": {
          "annotationdefaults": {
           "arrowcolor": "#2a3f5f",
           "arrowhead": 0,
           "arrowwidth": 1
          },
          "autotypenumbers": "strict",
          "coloraxis": {
           "colorbar": {
            "outlinewidth": 0,
            "ticks": ""
           }
          },
          "colorscale": {
           "diverging": [
            [
             0,
             "#8e0152"
            ],
            [
             0.1,
             "#c51b7d"
            ],
            [
             0.2,
             "#de77ae"
            ],
            [
             0.3,
             "#f1b6da"
            ],
            [
             0.4,
             "#fde0ef"
            ],
            [
             0.5,
             "#f7f7f7"
            ],
            [
             0.6,
             "#e6f5d0"
            ],
            [
             0.7,
             "#b8e186"
            ],
            [
             0.8,
             "#7fbc41"
            ],
            [
             0.9,
             "#4d9221"
            ],
            [
             1,
             "#276419"
            ]
           ],
           "sequential": [
            [
             0,
             "#0d0887"
            ],
            [
             0.1111111111111111,
             "#46039f"
            ],
            [
             0.2222222222222222,
             "#7201a8"
            ],
            [
             0.3333333333333333,
             "#9c179e"
            ],
            [
             0.4444444444444444,
             "#bd3786"
            ],
            [
             0.5555555555555556,
             "#d8576b"
            ],
            [
             0.6666666666666666,
             "#ed7953"
            ],
            [
             0.7777777777777778,
             "#fb9f3a"
            ],
            [
             0.8888888888888888,
             "#fdca26"
            ],
            [
             1,
             "#f0f921"
            ]
           ],
           "sequentialminus": [
            [
             0,
             "#0d0887"
            ],
            [
             0.1111111111111111,
             "#46039f"
            ],
            [
             0.2222222222222222,
             "#7201a8"
            ],
            [
             0.3333333333333333,
             "#9c179e"
            ],
            [
             0.4444444444444444,
             "#bd3786"
            ],
            [
             0.5555555555555556,
             "#d8576b"
            ],
            [
             0.6666666666666666,
             "#ed7953"
            ],
            [
             0.7777777777777778,
             "#fb9f3a"
            ],
            [
             0.8888888888888888,
             "#fdca26"
            ],
            [
             1,
             "#f0f921"
            ]
           ]
          },
          "colorway": [
           "#636efa",
           "#EF553B",
           "#00cc96",
           "#ab63fa",
           "#FFA15A",
           "#19d3f3",
           "#FF6692",
           "#B6E880",
           "#FF97FF",
           "#FECB52"
          ],
          "font": {
           "color": "#2a3f5f"
          },
          "geo": {
           "bgcolor": "white",
           "lakecolor": "white",
           "landcolor": "#E5ECF6",
           "showlakes": true,
           "showland": true,
           "subunitcolor": "white"
          },
          "hoverlabel": {
           "align": "left"
          },
          "hovermode": "closest",
          "mapbox": {
           "style": "light"
          },
          "paper_bgcolor": "white",
          "plot_bgcolor": "#E5ECF6",
          "polar": {
           "angularaxis": {
            "gridcolor": "white",
            "linecolor": "white",
            "ticks": ""
           },
           "bgcolor": "#E5ECF6",
           "radialaxis": {
            "gridcolor": "white",
            "linecolor": "white",
            "ticks": ""
           }
          },
          "scene": {
           "xaxis": {
            "backgroundcolor": "#E5ECF6",
            "gridcolor": "white",
            "gridwidth": 2,
            "linecolor": "white",
            "showbackground": true,
            "ticks": "",
            "zerolinecolor": "white"
           },
           "yaxis": {
            "backgroundcolor": "#E5ECF6",
            "gridcolor": "white",
            "gridwidth": 2,
            "linecolor": "white",
            "showbackground": true,
            "ticks": "",
            "zerolinecolor": "white"
           },
           "zaxis": {
            "backgroundcolor": "#E5ECF6",
            "gridcolor": "white",
            "gridwidth": 2,
            "linecolor": "white",
            "showbackground": true,
            "ticks": "",
            "zerolinecolor": "white"
           }
          },
          "shapedefaults": {
           "line": {
            "color": "#2a3f5f"
           }
          },
          "ternary": {
           "aaxis": {
            "gridcolor": "white",
            "linecolor": "white",
            "ticks": ""
           },
           "baxis": {
            "gridcolor": "white",
            "linecolor": "white",
            "ticks": ""
           },
           "bgcolor": "#E5ECF6",
           "caxis": {
            "gridcolor": "white",
            "linecolor": "white",
            "ticks": ""
           }
          },
          "title": {
           "x": 0.05
          },
          "xaxis": {
           "automargin": true,
           "gridcolor": "white",
           "linecolor": "white",
           "ticks": "",
           "title": {
            "standoff": 15
           },
           "zerolinecolor": "white",
           "zerolinewidth": 2
          },
          "yaxis": {
           "automargin": true,
           "gridcolor": "white",
           "linecolor": "white",
           "ticks": "",
           "title": {
            "standoff": 15
           },
           "zerolinecolor": "white",
           "zerolinewidth": 2
          }
         }
        },
        "title": {
         "text": "Average Revenue by Product Rating"
        },
        "xaxis": {
         "anchor": "y",
         "domain": [
          0,
          1
         ],
         "title": {
          "text": "rating"
         }
        },
        "yaxis": {
         "anchor": "x",
         "domain": [
          0,
          1
         ],
         "title": {
          "text": "revenue"
         }
        }
       }
      }
     },
     "metadata": {},
     "output_type": "display_data"
    }
   ],
   "source": [
    "fig = px.histogram(df, x='rating', nbins=20, title='Distribution of Product Ratings')\n",
    "fig.show()\n",
    "\n",
    "rating_revenue = df.groupby('rating')['revenue'].mean().reset_index()\n",
    "\n",
    "fig = px.bar(rating_revenue, x='rating', y='revenue', \n",
    "             title='Average Revenue by Product Rating')\n",
    "fig.show()\n"
   ]
  },
  {
   "cell_type": "code",
   "execution_count": null,
   "metadata": {},
   "outputs": [],
   "source": []
  }
 ],
 "metadata": {
  "kernelspec": {
   "display_name": "Python 3",
   "language": "python",
   "name": "python3"
  },
  "language_info": {
   "codemirror_mode": {
    "name": "ipython",
    "version": 3
   },
   "file_extension": ".py",
   "mimetype": "text/x-python",
   "name": "python",
   "nbconvert_exporter": "python",
   "pygments_lexer": "ipython3",
   "version": "3.11.7"
  }
 },
 "nbformat": 4,
 "nbformat_minor": 2
}
